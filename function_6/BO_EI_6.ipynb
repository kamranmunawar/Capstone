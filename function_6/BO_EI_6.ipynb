{
 "cells": [
  {
   "cell_type": "markdown",
   "id": "14429f86",
   "metadata": {},
   "source": [
    "**Function 6:** \n",
    "\n",
    "Cake and Stuff. Time to get cooking! You are optimising a cake recipe. There are five ingredients. The outputs correspond to the sum of different objectives: flavor, consistency, calories, waste and cost. Each objective receives negative points by our expert taster. You want this sum to be as close to zero as possible!"
   ]
  },
  {
   "cell_type": "code",
   "execution_count": 9,
   "id": "14c1d7cd",
   "metadata": {},
   "outputs": [],
   "source": [
    "from sklearn.gaussian_process import GaussianProcessRegressor\n",
    "from scipy.stats import norm\n",
    "from scipy.optimize import minimize\n",
    "import sys\n",
    "import pandas as pd\n",
    "import numpy as np\n",
    "import matplotlib.pyplot as plt"
   ]
  },
  {
   "cell_type": "code",
   "execution_count": 10,
   "id": "5d3ee04c",
   "metadata": {},
   "outputs": [],
   "source": [
    "f6_inputs = np.load(\"initial_inputs.npy\")\n",
    "f6_outputs = np.load(\"initial_outputs.npy\")\n",
    "f6_inputs_2 = np.load(\"initial_inputs2.npy\")\n",
    "f6_outputs_2 = np.load(\"initial_outputs2.npy\")"
   ]
  },
  {
   "cell_type": "code",
   "execution_count": 11,
   "id": "9e948c47",
   "metadata": {},
   "outputs": [],
   "source": [
    "f6_inputs = np.concatenate((f6_inputs, f6_inputs_2)) \n",
    "f6_inputs = np.concatenate((f6_inputs, np.array([[0.345535, 0.754647, 0.491966, 0.450836, 0.604032]]))) \n",
    "f6_inputs = np.concatenate((f6_inputs, np.array([[0.853367, 0.617629, 0.937563, 0.301578, 0.415393]]))) \n",
    "f6_inputs = np.concatenate((f6_inputs, np.array([[0.688186, 0.184692, 0.772551, 0.691116, 0.066401]]))) \n",
    "f6_inputs = np.concatenate((f6_inputs, np.array([[0.622911, 0.51695 , 0.236728, 0.47113 , 0.706154]])))\n",
    "f6_inputs = np.concatenate((f6_inputs, np.array([[0.668186, 0.204692, 0.792551, 0.711116, 0.086401]])))\n",
    "f6_inputs = np.concatenate((f6_inputs, np.array([[0.648186, 0.224692, 0.812551, 0.691116, 0.066401]])))\n",
    "f6_inputs = np.concatenate((f6_inputs, np.array([[0.648186, 0.184692, 0.812551, 0.731116, 0.106401]])))\n",
    "f6_inputs = np.concatenate((f6_inputs, np.array([[0.628186, 0.164692, 0.792551, 0.751116, 0.126401]])))\n",
    "f6_inputs = np.concatenate((f6_inputs, np.array([[0.668186, 0.204692, 0.832551, 0.751116, 0.126401]])))\n",
    "f6_inputs = np.concatenate((f6_inputs, np.array([[0.381006, 0.349024, 0.584465, 0.808867, 0.155764]])))\n",
    "f6_inputs = np.concatenate((f6_inputs, np.array([[0.427005, 0.337664, 0.600496, 0.733667, 0.176168]])))\n",
    "f6_inputs = np.concatenate((f6_inputs, np.array([[0.363984, 0.316227, 0.577013, 0.689438, 0.077835]])))\n",
    "f6_inputs = np.concatenate((f6_inputs, np.array([[0.459871, 0.365921, 0.606441, 0.783317, 0.239875]])))\n",
    "f6_inputs = np.concatenate((f6_inputs, np.array([[0.447005, 0.317664, 0.620496, 0.713667, 0.196168]])))\n",
    "f6_inputs = np.concatenate((f6_inputs, np.array([[0.435998, 0.406845, 0.668405, 0.811834, 0.130345]])))\n",
    "f6_inputs = np.concatenate((f6_inputs, np.array([[0.45466 , 0.346872, 0.657419, 0.858968, 0.11944]])))\n",
    "f6_inputs = np.concatenate((f6_inputs, np.array([[0.458766, 0.303592, 0.663674, 0.996131, 0.076816]])))\n",
    "f6_inputs = np.concatenate((f6_inputs, np.array([[0.384916, 0.311188, 0.757855, 0.803686, 0.13494 ]])))\n",
    "\n",
    "f6_outputs = np.concatenate((f6_outputs,f6_outputs_2)) \n",
    "f6_outputs = np.append(f6_outputs,-1.5810999457962531)\n",
    "f6_outputs = np.append(f6_outputs,-1.8787437904480868)\n",
    "f6_outputs = np.append(f6_outputs,-0.6247687161411921)\n",
    "f6_outputs = np.append(f6_outputs,-1.718806647852857)\n",
    "f6_outputs = np.append(f6_outputs,-0.5671773346921368)\n",
    "f6_outputs = np.append(f6_outputs,-0.5874063902941494)\n",
    "f6_outputs = np.append(f6_outputs,-0.5144914715079646)\n",
    "f6_outputs = np.append(f6_outputs,-0.5415990286820394)\n",
    "f6_outputs = np.append(f6_outputs,-0.5996653040294271)\n",
    "f6_outputs = np.append(f6_outputs,-0.22072442707678375)\n",
    "f6_outputs = np.append(f6_outputs,-0.18264958158407013)\n",
    "f6_outputs = np.append(f6_outputs,-0.3440970432570667)\n",
    "f6_outputs = np.append(f6_outputs,-0.23533067806486813)\n",
    "f6_outputs = np.append(f6_outputs,-0.2639220819499121)\n",
    "f6_outputs = np.append(f6_outputs,-0.17148052911247116)\n",
    "f6_outputs = np.append(f6_outputs,-0.06247688853060665)\n",
    "f6_outputs = np.append(f6_outputs,-0.4406374095498452)\n",
    "f6_outputs = np.append(f6_outputs,-0.2633675699383991)\n"
   ]
  },
  {
   "cell_type": "code",
   "execution_count": 12,
   "id": "42e74a3b",
   "metadata": {},
   "outputs": [
    {
     "name": "stdout",
     "output_type": "stream",
     "text": [
      "[0.45466  0.346872 0.657419 0.858968 0.11944 ]\n"
     ]
    }
   ],
   "source": [
    "X_max= f6_inputs[np.argmax((f6_outputs))]\n",
    "print(X_max)"
   ]
  },
  {
   "cell_type": "code",
   "execution_count": 13,
   "id": "afa503bc",
   "metadata": {},
   "outputs": [
    {
     "name": "stdout",
     "output_type": "stream",
     "text": [
      "-0.06247688853060665\n"
     ]
    }
   ],
   "source": [
    "Y_max= f6_outputs[np.argmax((f6_outputs))]\n",
    "print(Y_max)"
   ]
  },
  {
   "cell_type": "code",
   "execution_count": 16,
   "id": "8f82cae0",
   "metadata": {},
   "outputs": [],
   "source": [
    "def costly_function(x):\n",
    "    total = np.array([])\n",
    "    for x_i in x:\n",
    "         total = np.append(total, np.sum(np.exp(-(x_i - 5) ** 2)))\n",
    "    \n",
    "    return total  + np.random.randn()"
   ]
  },
  {
   "cell_type": "code",
   "execution_count": 17,
   "id": "f70cd50f",
   "metadata": {},
   "outputs": [],
   "source": [
    "class BayesianOptimizer():\n",
    "      \n",
    "    def __init__(self, target_func, x_init, y_init, n_iter, scale, batch_size):\n",
    "        self.x_init = x_init\n",
    "        self.y_init = y_init\n",
    "        self.target_func = target_func\n",
    "        self.n_iter = n_iter\n",
    "        self.scale = scale\n",
    "        self.batch_size = batch_size\n",
    "        self.gauss_pr = GaussianProcessRegressor()\n",
    "        self.best_samples_ = pd.DataFrame(columns = ['x', 'y', 'ei'])\n",
    "        self.distances_ = []\n",
    "        \n",
    "    def _get_expected_improvement(self, x_new):\n",
    "\n",
    "        # Using estimate from Gaussian surrogate instead of actual function for \n",
    "        # a new trial data point to avoid cost \n",
    " \n",
    "        mean_y_new, sigma_y_new = self.gauss_pr.predict(np.array([x_new]), return_std=True)\n",
    "        sigma_y_new = sigma_y_new.reshape(-1,1)\n",
    "        if sigma_y_new == 0.0:\n",
    "            return 0.0\n",
    "        \n",
    "        # Using estimates from Gaussian surrogate instead of actual function for \n",
    "        # entire prior distribution to avoid cost\n",
    "        \n",
    "        mean_y = self.gauss_pr.predict(self.x_init)\n",
    "        max_mean_y = np.max(mean_y)\n",
    "        z = (mean_y_new - max_mean_y) / sigma_y_new\n",
    "        exp_imp = (mean_y_new - max_mean_y) * norm.cdf(z) + sigma_y_new * norm.pdf(z)\n",
    "        \n",
    "        return exp_imp\n",
    "    def _acquisition_function(self, x):\n",
    "        return -self._get_expected_improvement(x)\n",
    "    \n",
    "    def _get_next_probable_point(self):\n",
    "            min_ei = float(sys.maxsize)\n",
    "            x_optimal = None \n",
    "            \n",
    "            # Trial with an array of random data points\n",
    "            \n",
    "            #for x_start in (np.random.random((self.batch_size,self.x_init.shape[1])) * self.scale):\n",
    "            for x_start in np.random.uniform(low=0.1, high=0.99, size=(1,5)):\n",
    "                response = minimize(fun=self._acquisition_function, x0=x_start, method='L-BFGS-B')\n",
    "                if response.fun < min_ei:\n",
    "                    min_ei = response.fun\n",
    "                    x_optimal = response.x\n",
    "            \n",
    "            return x_optimal, min_ei\n",
    "    def _extend_prior_with_posterior_data(self, x,y):\n",
    "        self.x_init = np.append(self.x_init, np.array([x]), axis = 0)\n",
    "        self.y_init = np.append(self.y_init, np.array(y), axis = 0)\n",
    "        \n",
    "    def optimize(self):\n",
    "        y_max_ind = np.argmax(self.y_init)\n",
    "        y_max = self.y_init[y_max_ind]\n",
    "        optimal_x = self.x_init[y_max_ind]\n",
    "        optimal_ei = None\n",
    "        for i in range(self.n_iter):\n",
    "            self.gauss_pr.fit(self.x_init, self.y_init)\n",
    "            x_next, ei = self._get_next_probable_point()\n",
    "            y_next = self.target_func(np.array([x_next]))\n",
    "            self._extend_prior_with_posterior_data(x_next,y_next)\n",
    "            \n",
    "            if y_next[0] > y_max:\n",
    "                y_max = y_next[0]\n",
    "                optimal_x = x_next\n",
    "                optimal_ei = ei\n",
    "\n",
    "            if i == 0:\n",
    "                 prev_x = x_next\n",
    "            else:\n",
    "                self.distances_.append(np.linalg.norm(prev_x - x_next))\n",
    "                prev_x = x_next\n",
    "            tmpdf = pd.DataFrame({\"y\": y_max, \"ei\": optimal_ei},index=[1])\n",
    "            #self.best_samples_ = self.best_samples_.append({\"y\": y_max, \"ei\": optimal_ei},ignore_index=True)\n",
    "            self.best_samples_ =pd.concat([self.best_samples_ ,tmpdf],ignore_index = True)\n",
    "        \n",
    "        return optimal_x, y_max\n",
    "  \n",
    "  \n",
    "        "
   ]
  },
  {
   "cell_type": "code",
   "execution_count": 18,
   "id": "6269a01c",
   "metadata": {},
   "outputs": [],
   "source": [
    "sample_x = f6_inputs\n",
    "sample_y = f6_outputs"
   ]
  },
  {
   "cell_type": "code",
   "execution_count": 17,
   "id": "7cdcee94",
   "metadata": {},
   "outputs": [
    {
     "data": {
      "text/plain": [
       "(array([0.97686171, 0.70138869, 0.7948427 , 0.22768739, 0.33155569]),\n",
       " 1.99912154527626)"
      ]
     },
     "execution_count": 17,
     "metadata": {},
     "output_type": "execute_result"
    }
   ],
   "source": [
    "bopt = BayesianOptimizer(target_func=costly_function, x_init=sample_x, y_init=sample_y, n_iter=299, scale=5, batch_size=20)\n",
    "bopt.optimize()"
   ]
  },
  {
   "cell_type": "code",
   "execution_count": 15,
   "id": "dfde81eb",
   "metadata": {},
   "outputs": [],
   "source": [
    "#(array([0.62291153, 0.51695057, 0.23672867, 0.47113001, 0.70615486]),2.2680212028489284)\n",
    "#(array([0.1362315 , 0.2845422 , 0.64610313, 0.84893393, 0.25951708]),2.8455887885328073)\n",
    "#(array([ 1.25600116,  0.9137038 ,  0.34016746, -0.68031218,  0.49133008]),2.61048582184561)\n",
    "#(array([ 1.76755827,  1.36262605, -0.00312259,  0.40142732,  0.36652603]),3.039603674088104)"
   ]
  },
  {
   "cell_type": "code",
   "execution_count": 19,
   "id": "703cbcb3",
   "metadata": {
    "scrolled": true
   },
   "outputs": [
    {
     "data": {
      "text/plain": [
       "array([[7.28186105e-01, 1.54692570e-01, 7.32551669e-01, 6.93996509e-01,\n",
       "        5.64013105e-02],\n",
       "       [2.42384347e-01, 8.44099972e-01, 5.77809099e-01, 6.79021284e-01,\n",
       "        5.01952888e-01],\n",
       "       [7.29522610e-01, 7.48106200e-01, 6.79774641e-01, 3.56552279e-01,\n",
       "        6.71053683e-01],\n",
       "       [7.70620242e-01, 1.14403744e-01, 4.67799319e-02, 6.48324285e-01,\n",
       "        2.73549053e-01],\n",
       "       [6.18812299e-01, 3.31802137e-01, 1.87287868e-01, 7.56238474e-01,\n",
       "        3.28834798e-01],\n",
       "       [7.84958094e-01, 9.10682349e-01, 7.08120104e-01, 9.59225429e-01,\n",
       "        4.91149586e-03],\n",
       "       [1.45110786e-01, 8.96684598e-01, 8.96322235e-01, 7.26271537e-01,\n",
       "        2.36271991e-01],\n",
       "       [9.45069068e-01, 2.88459051e-01, 9.78805764e-01, 9.61655587e-01,\n",
       "        5.98015936e-01],\n",
       "       [1.25720155e-01, 8.62724692e-01, 2.85443322e-02, 2.46605272e-01,\n",
       "        7.51206241e-01],\n",
       "       [7.57594355e-01, 3.55831415e-01, 1.65228997e-02, 4.34207205e-01,\n",
       "        1.12433044e-01],\n",
       "       [5.36796903e-01, 3.08780907e-01, 4.11879285e-01, 3.88225177e-01,\n",
       "        5.22528304e-01],\n",
       "       [9.57739669e-01, 2.35668572e-01, 9.91458496e-02, 1.56805934e-01,\n",
       "        7.13173731e-02],\n",
       "       [6.29307895e-01, 8.03483678e-01, 8.11408439e-01, 4.56131858e-02,\n",
       "        1.10624462e-01],\n",
       "       [2.17353077e-02, 4.28084240e-01, 8.35939437e-01, 4.89488659e-01,\n",
       "        5.11081735e-01],\n",
       "       [4.39344264e-01, 6.98923833e-01, 4.26820222e-01, 1.09476085e-01,\n",
       "        8.77888468e-01],\n",
       "       [2.58905574e-01, 7.93677708e-01, 6.42113905e-01, 1.96673464e-01,\n",
       "        5.93103177e-01],\n",
       "       [4.32165933e-01, 7.15617813e-01, 3.41819103e-01, 7.04999881e-01,\n",
       "        6.14961845e-01],\n",
       "       [7.82879823e-01, 5.36335859e-01, 4.43283557e-01, 8.59699826e-01,\n",
       "        1.03259907e-02],\n",
       "       [9.21776198e-01, 9.31871216e-01, 4.14876370e-01, 5.95057266e-01,\n",
       "        7.35625686e-01],\n",
       "       [1.26678917e-01, 2.91470301e-01, 6.45284767e-02, 6.80514603e-01,\n",
       "        8.92819191e-01],\n",
       "       [6.97723900e-02, 9.05961702e-01, 5.81371295e-01, 7.93773491e-01,\n",
       "        6.33474699e-01],\n",
       "       [5.89460534e-01, 2.85972593e-01, 3.82278689e-01, 2.29949495e-01,\n",
       "        2.94870864e-01],\n",
       "       [9.83661022e-01, 6.28297168e-02, 9.23458314e-04, 6.59843881e-01,\n",
       "        2.61878265e-01],\n",
       "       [4.98313016e-01, 1.15365571e-01, 1.60564383e-01, 8.62792633e-01,\n",
       "        8.69429956e-01],\n",
       "       [6.37905499e-01, 7.75548554e-02, 8.23803045e-01, 4.56114689e-01,\n",
       "        1.42819953e-01],\n",
       "       [4.46594314e-01, 7.15371466e-01, 1.79792313e-01, 8.01558506e-01,\n",
       "        3.79340852e-01],\n",
       "       [8.55980529e-01, 2.66164664e-01, 3.59415676e-01, 8.53218312e-01,\n",
       "        3.69171983e-01],\n",
       "       [4.20336189e-01, 2.44291651e-02, 2.16122552e-01, 1.65697307e-01,\n",
       "        6.47693135e-01],\n",
       "       [5.51354206e-01, 8.94645799e-01, 6.87065669e-01, 4.74903577e-01,\n",
       "        4.22534569e-02],\n",
       "       [5.30161804e-01, 3.69501183e-01, 2.46963575e-01, 5.06557225e-01,\n",
       "        5.10196329e-01],\n",
       "       [2.29979072e-01, 8.13701312e-01, 4.70483381e-01, 2.60403402e-01,\n",
       "        7.78366035e-01],\n",
       "       [8.51032914e-01, 8.26281239e-01, 6.63707578e-01, 2.34632175e-01,\n",
       "        2.75700067e-02],\n",
       "       [1.17619596e-01, 5.31916499e-01, 9.96195410e-01, 9.65946735e-01,\n",
       "        9.38190216e-01],\n",
       "       [6.84351655e-01, 6.62939625e-02, 2.80894125e-01, 7.89572913e-02,\n",
       "        2.14562241e-01],\n",
       "       [9.09326290e-01, 5.58268750e-01, 9.83967523e-01, 4.79195443e-01,\n",
       "        1.44355300e-01],\n",
       "       [8.99462881e-01, 4.65748383e-01, 3.31575075e-01, 7.46143252e-01,\n",
       "        7.11949665e-01],\n",
       "       [6.91004189e-01, 6.63477347e-01, 7.66697727e-01, 9.08877784e-02,\n",
       "        4.75686449e-01],\n",
       "       [9.30265490e-01, 3.32215131e-01, 2.29722663e-02, 5.09173472e-01,\n",
       "        6.60459395e-01],\n",
       "       [4.42031649e-01, 2.50872531e-01, 6.46960634e-01, 4.64149887e-02,\n",
       "        2.54111290e-01],\n",
       "       [6.99747178e-01, 3.71075258e-01, 1.49148128e-01, 5.59749377e-01,\n",
       "        7.72043598e-01],\n",
       "       [3.45535000e-01, 7.54647000e-01, 4.91966000e-01, 4.50836000e-01,\n",
       "        6.04032000e-01],\n",
       "       [8.53367000e-01, 6.17629000e-01, 9.37563000e-01, 3.01578000e-01,\n",
       "        4.15393000e-01],\n",
       "       [6.88186000e-01, 1.84692000e-01, 7.72551000e-01, 6.91116000e-01,\n",
       "        6.64010000e-02],\n",
       "       [6.22911000e-01, 5.16950000e-01, 2.36728000e-01, 4.71130000e-01,\n",
       "        7.06154000e-01],\n",
       "       [6.68186000e-01, 2.04692000e-01, 7.92551000e-01, 7.11116000e-01,\n",
       "        8.64010000e-02],\n",
       "       [6.48186000e-01, 2.24692000e-01, 8.12551000e-01, 6.91116000e-01,\n",
       "        6.64010000e-02],\n",
       "       [6.48186000e-01, 1.84692000e-01, 8.12551000e-01, 7.31116000e-01,\n",
       "        1.06401000e-01],\n",
       "       [6.28186000e-01, 1.64692000e-01, 7.92551000e-01, 7.51116000e-01,\n",
       "        1.26401000e-01],\n",
       "       [6.68186000e-01, 2.04692000e-01, 8.32551000e-01, 7.51116000e-01,\n",
       "        1.26401000e-01],\n",
       "       [3.81006000e-01, 3.49024000e-01, 5.84465000e-01, 8.08867000e-01,\n",
       "        1.55764000e-01],\n",
       "       [4.27005000e-01, 3.37664000e-01, 6.00496000e-01, 7.33667000e-01,\n",
       "        1.76168000e-01],\n",
       "       [3.63984000e-01, 3.16227000e-01, 5.77013000e-01, 6.89438000e-01,\n",
       "        7.78350000e-02],\n",
       "       [4.59871000e-01, 3.65921000e-01, 6.06441000e-01, 7.83317000e-01,\n",
       "        2.39875000e-01],\n",
       "       [4.47005000e-01, 3.17664000e-01, 6.20496000e-01, 7.13667000e-01,\n",
       "        1.96168000e-01],\n",
       "       [4.35998000e-01, 4.06845000e-01, 6.68405000e-01, 8.11834000e-01,\n",
       "        1.30345000e-01],\n",
       "       [4.54660000e-01, 3.46872000e-01, 6.57419000e-01, 8.58968000e-01,\n",
       "        1.19440000e-01],\n",
       "       [6.97723900e-02, 9.05961702e-01, 5.81371295e-01, 7.93773491e-01,\n",
       "        6.33474699e-01],\n",
       "       [5.89460534e-01, 2.85972593e-01, 3.82278689e-01, 2.29949495e-01,\n",
       "        2.94870864e-01],\n",
       "       [9.83661022e-01, 6.28297168e-02, 9.23458314e-04, 6.59843881e-01,\n",
       "        2.61878265e-01],\n",
       "       [4.98313016e-01, 1.15365571e-01, 1.60564383e-01, 8.62792633e-01,\n",
       "        8.69429956e-01],\n",
       "       [6.37905499e-01, 7.75548554e-02, 8.23803045e-01, 4.56114689e-01,\n",
       "        1.42819953e-01],\n",
       "       [4.46594314e-01, 7.15371466e-01, 1.79792313e-01, 8.01558506e-01,\n",
       "        3.79340852e-01],\n",
       "       [8.55980529e-01, 2.66164664e-01, 3.59415676e-01, 8.53218312e-01,\n",
       "        3.69171983e-01],\n",
       "       [4.20336189e-01, 2.44291651e-02, 2.16122552e-01, 1.65697307e-01,\n",
       "        6.47693135e-01],\n",
       "       [5.51354206e-01, 8.94645799e-01, 6.87065669e-01, 4.74903577e-01,\n",
       "        4.22534569e-02],\n",
       "       [5.30161804e-01, 3.69501183e-01, 2.46963575e-01, 5.06557225e-01,\n",
       "        5.10196329e-01],\n",
       "       [2.29979072e-01, 8.13701312e-01, 4.70483381e-01, 2.60403402e-01,\n",
       "        7.78366035e-01],\n",
       "       [8.51032914e-01, 8.26281239e-01, 6.63707578e-01, 2.34632175e-01,\n",
       "        2.75700067e-02],\n",
       "       [1.17619596e-01, 5.31916499e-01, 9.96195410e-01, 9.65946735e-01,\n",
       "        9.38190216e-01],\n",
       "       [6.84351655e-01, 6.62939625e-02, 2.80894125e-01, 7.89572913e-02,\n",
       "        2.14562241e-01],\n",
       "       [9.09326290e-01, 5.58268750e-01, 9.83967523e-01, 4.79195443e-01,\n",
       "        1.44355300e-01],\n",
       "       [8.99462881e-01, 4.65748383e-01, 3.31575075e-01, 7.46143252e-01,\n",
       "        7.11949665e-01],\n",
       "       [6.91004189e-01, 6.63477347e-01, 7.66697727e-01, 9.08877784e-02,\n",
       "        4.75686449e-01],\n",
       "       [9.30265490e-01, 3.32215131e-01, 2.29722663e-02, 5.09173472e-01,\n",
       "        6.60459395e-01],\n",
       "       [4.42031649e-01, 2.50872531e-01, 6.46960634e-01, 4.64149887e-02,\n",
       "        2.54111290e-01],\n",
       "       [6.99747178e-01, 3.71075258e-01, 1.49148128e-01, 5.59749377e-01,\n",
       "        7.72043598e-01],\n",
       "       [3.45535000e-01, 7.54647000e-01, 4.91966000e-01, 4.50836000e-01,\n",
       "        6.04032000e-01],\n",
       "       [8.53367000e-01, 6.17629000e-01, 9.37563000e-01, 3.01578000e-01,\n",
       "        4.15393000e-01],\n",
       "       [6.88186000e-01, 1.84692000e-01, 7.72551000e-01, 6.91116000e-01,\n",
       "        6.64010000e-02],\n",
       "       [6.22911000e-01, 5.16950000e-01, 2.36728000e-01, 4.71130000e-01,\n",
       "        7.06154000e-01],\n",
       "       [6.68186000e-01, 2.04692000e-01, 7.92551000e-01, 7.11116000e-01,\n",
       "        8.64010000e-02],\n",
       "       [6.48186000e-01, 2.24692000e-01, 8.12551000e-01, 6.91116000e-01,\n",
       "        6.64010000e-02],\n",
       "       [6.48186000e-01, 1.84692000e-01, 8.12551000e-01, 7.31116000e-01,\n",
       "        1.06401000e-01],\n",
       "       [6.28186000e-01, 1.64692000e-01, 7.92551000e-01, 7.51116000e-01,\n",
       "        1.26401000e-01],\n",
       "       [6.68186000e-01, 2.04692000e-01, 8.32551000e-01, 7.51116000e-01,\n",
       "        1.26401000e-01],\n",
       "       [3.81006000e-01, 3.49024000e-01, 5.84465000e-01, 8.08867000e-01,\n",
       "        1.55764000e-01],\n",
       "       [4.27005000e-01, 3.37664000e-01, 6.00496000e-01, 7.33667000e-01,\n",
       "        1.76168000e-01],\n",
       "       [3.63984000e-01, 3.16227000e-01, 5.77013000e-01, 6.89438000e-01,\n",
       "        7.78350000e-02],\n",
       "       [4.59871000e-01, 3.65921000e-01, 6.06441000e-01, 7.83317000e-01,\n",
       "        2.39875000e-01],\n",
       "       [4.47005000e-01, 3.17664000e-01, 6.20496000e-01, 7.13667000e-01,\n",
       "        1.96168000e-01],\n",
       "       [4.35998000e-01, 4.06845000e-01, 6.68405000e-01, 8.11834000e-01,\n",
       "        1.30345000e-01],\n",
       "       [4.54660000e-01, 3.46872000e-01, 6.57419000e-01, 8.58968000e-01,\n",
       "        1.19440000e-01]])"
      ]
     },
     "execution_count": 19,
     "metadata": {},
     "output_type": "execute_result"
    }
   ],
   "source": [
    "f6_inputs"
   ]
  },
  {
   "cell_type": "code",
   "execution_count": 20,
   "id": "04de5179",
   "metadata": {},
   "outputs": [
    {
     "data": {
      "text/plain": [
       "array([-0.71426495, -1.20995524, -1.67219994, -1.53605771, -0.82923655,\n",
       "       -1.24704893, -1.23378638, -1.69434344, -2.57116963, -1.30911635,\n",
       "       -1.14478485, -1.91267714, -1.62283895, -1.35668211, -2.0184254 ,\n",
       "       -1.70255784, -1.29424696, -0.93575656, -2.15576776, -1.74688209,\n",
       "       -1.51269542, -1.34959856, -1.82739562, -1.71602331, -0.97248425,\n",
       "       -1.20521138, -1.10099104, -1.91309535, -1.05157417, -1.19458833,\n",
       "       -2.06906505, -1.48937327, -1.82528398, -1.7476171 , -1.35823203,\n",
       "       -1.44913772, -1.81134837, -2.00771782, -0.99967761, -1.67533648,\n",
       "       -1.58109995, -1.87874379, -0.62476872, -1.71880665, -0.56717733,\n",
       "       -0.58740639, -0.51449147, -0.54159903, -0.5996653 , -0.22072443,\n",
       "       -0.18264958, -0.34409704, -0.23533068, -0.26392208, -0.17148053,\n",
       "       -0.06247689, -1.51269542, -1.34959856, -1.82739562, -1.71602331,\n",
       "       -0.97248425, -1.20521138, -1.10099104, -1.91309535, -1.05157417,\n",
       "       -1.19458833, -2.06906505, -1.48937327, -1.82528398, -1.7476171 ,\n",
       "       -1.35823203, -1.44913772, -1.81134837, -2.00771782, -0.99967761,\n",
       "       -1.67533648, -1.58109995, -1.87874379, -0.62476872, -1.71880665,\n",
       "       -0.56717733, -0.58740639, -0.51449147, -0.54159903, -0.5996653 ,\n",
       "       -0.22072443, -0.18264958, -0.34409704, -0.23533068, -0.26392208,\n",
       "       -0.17148053, -0.06247689])"
      ]
     },
     "execution_count": 20,
     "metadata": {},
     "output_type": "execute_result"
    }
   ],
   "source": [
    "f6_outputs"
   ]
  },
  {
   "cell_type": "code",
   "execution_count": 18,
   "id": "d1cefea8",
   "metadata": {},
   "outputs": [],
   "source": [
    "f5_outputs = np.load(\"initial_outputs.npy\")"
   ]
  },
  {
   "cell_type": "code",
   "execution_count": 14,
   "id": "28484a20",
   "metadata": {},
   "outputs": [
    {
     "data": {
      "image/png": "[encoded data removed]",
      "text/plain": [
       "<Figure size 1200x600 with 5 Axes>"
      ]
     },
     "metadata": {},
     "output_type": "display_data"
    }
   ],
   "source": [
    "fig, ax = plt.subplots(1,5,figsize = (12,6))\n",
    "ax[0].scatter(f6_inputs[:,0],f6_outputs)\n",
    "ax[1].scatter(f6_inputs[:,1],f6_outputs)\n",
    "ax[2].scatter(f6_inputs[:,2],f6_outputs)\n",
    "ax[3].scatter(f6_inputs[:,3],f6_outputs)\n",
    "ax[4].scatter(f6_inputs[:,4],f6_outputs)\n",
    "plt.show()"
   ]
  },
  {
   "cell_type": "code",
   "execution_count": null,
   "id": "f121ce63",
   "metadata": {},
   "outputs": [],
   "source": []
  }
 ],
 "metadata": {
  "kernelspec": {
   "display_name": "Python 3 (ipykernel)",
   "language": "python",
   "name": "python3"
  },
  "language_info": {
   "codemirror_mode": {
    "name": "ipython",
    "version": 3
   },
   "file_extension": ".py",
   "mimetype": "text/x-python",
   "name": "python",
   "nbconvert_exporter": "python",
   "pygments_lexer": "ipython3",
   "version": "3.10.6"
  }
 },
 "nbformat": 4,
 "nbformat_minor": 5
}
