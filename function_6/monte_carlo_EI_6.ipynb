{
 "cells": [
  {
   "cell_type": "code",
   "execution_count": 17,
   "id": "a9ed4fd0",
   "metadata": {},
   "outputs": [],
   "source": [
    "import torch \n",
    "import numpy as np\n",
    "from botorch.models import SingleTaskGP\n",
    "from botorch  import fit_gpytorch_model\n",
    "\n",
    "from botorch.fit import fit_gpytorch_mll\n",
    "from gpytorch.mlls import ExactMarginalLogLikelihood\n",
    "from botorch.acquisition import UpperConfidenceBound\n",
    "from botorch.acquisition.monte_carlo import qExpectedImprovement\n",
    "\n",
    "from botorch.optim import optimize_acqf\n",
    "\n",
    "from sklearn.gaussian_process import GaussianProcessRegressor\n",
    "from scipy.stats import norm\n",
    "from scipy.optimize import minimize\n",
    "import sys\n",
    "import pandas as pd\n",
    "import numpy as np\n",
    "import matplotlib.pyplot as plt\n",
    "from sklearn.gaussian_process.kernels import RBF"
   ]
  },
  {
   "cell_type": "code",
   "execution_count": 18,
   "id": "713a411f",
   "metadata": {},
   "outputs": [],
   "source": [
    "f6_inputs = np.load(\"initial_inputs.npy\")\n",
    "f6_outputs = np.load(\"initial_outputs.npy\")\n",
    "f6_inputs_2 = np.load(\"initial_inputs2.npy\")\n",
    "f6_outputs_2 = np.load(\"initial_outputs2.npy\")"
   ]
  },
  {
   "cell_type": "code",
   "execution_count": 19,
   "id": "adeb17b4",
   "metadata": {},
   "outputs": [],
   "source": [
    "f6_inputs = np.concatenate((f6_inputs, f6_inputs_2)) \n",
    "f6_inputs = np.concatenate((f6_inputs, np.array([[0.345535, 0.754647, 0.491966, 0.450836, 0.604032]]))) \n",
    "f6_inputs = np.concatenate((f6_inputs, np.array([[0.853367, 0.617629, 0.937563, 0.301578, 0.415393]]))) \n",
    "f6_inputs = np.concatenate((f6_inputs, np.array([[0.688186, 0.184692, 0.772551, 0.691116, 0.066401]]))) \n",
    "f6_inputs = np.concatenate((f6_inputs, np.array([[0.622911, 0.51695 , 0.236728, 0.47113 , 0.706154]])))\n",
    "f6_inputs = np.concatenate((f6_inputs, np.array([[0.668186, 0.204692, 0.792551, 0.711116, 0.086401]])))\n",
    "f6_inputs = np.concatenate((f6_inputs, np.array([[0.648186, 0.224692, 0.812551, 0.691116, 0.066401]])))\n",
    "f6_inputs = np.concatenate((f6_inputs, np.array([[0.648186, 0.184692, 0.812551, 0.731116, 0.106401]])))\n",
    "f6_inputs = np.concatenate((f6_inputs, np.array([[0.628186, 0.164692, 0.792551, 0.751116, 0.126401]])))\n",
    "f6_inputs = np.concatenate((f6_inputs, np.array([[0.668186, 0.204692, 0.832551, 0.751116, 0.126401]])))\n",
    "f6_inputs = np.concatenate((f6_inputs, np.array([[0.381006, 0.349024, 0.584465, 0.808867, 0.155764]])))\n",
    "f6_inputs = np.concatenate((f6_inputs, np.array([[0.427005, 0.337664, 0.600496, 0.733667, 0.176168]])))\n",
    "f6_inputs = np.concatenate((f6_inputs, np.array([[0.363984, 0.316227, 0.577013, 0.689438, 0.077835]])))\n",
    "f6_inputs = np.concatenate((f6_inputs, np.array([[0.459871, 0.365921, 0.606441, 0.783317, 0.239875]])))\n",
    "f6_inputs = np.concatenate((f6_inputs, np.array([[0.447005, 0.317664, 0.620496, 0.713667, 0.196168]])))\n",
    "f6_inputs = np.concatenate((f6_inputs, np.array([[0.435998, 0.406845, 0.668405, 0.811834, 0.130345]])))\n",
    "f6_inputs = np.concatenate((f6_inputs, np.array([[0.45466 , 0.346872, 0.657419, 0.858968, 0.11944]])))\n",
    "f6_inputs = np.concatenate((f6_inputs, np.array([[0.458766, 0.303592, 0.663674, 0.996131, 0.076816]])))\n",
    "f6_inputs = np.concatenate((f6_inputs, np.array([[0.384916, 0.311188, 0.757855, 0.803686, 0.13494 ]])))\n",
    "\n",
    "f6_outputs = np.concatenate((f6_outputs,f6_outputs_2)) \n",
    "f6_outputs = np.append(f6_outputs,-1.5810999457962531)\n",
    "f6_outputs = np.append(f6_outputs,-1.8787437904480868)\n",
    "f6_outputs = np.append(f6_outputs,-0.6247687161411921)\n",
    "f6_outputs = np.append(f6_outputs,-1.718806647852857)\n",
    "f6_outputs = np.append(f6_outputs,-0.5671773346921368)\n",
    "f6_outputs = np.append(f6_outputs,-0.5874063902941494)\n",
    "f6_outputs = np.append(f6_outputs,-0.5144914715079646)\n",
    "f6_outputs = np.append(f6_outputs,-0.5415990286820394)\n",
    "f6_outputs = np.append(f6_outputs,-0.5996653040294271)\n",
    "f6_outputs = np.append(f6_outputs,-0.22072442707678375)\n",
    "f6_outputs = np.append(f6_outputs,-0.18264958158407013)\n",
    "f6_outputs = np.append(f6_outputs,-0.3440970432570667)\n",
    "f6_outputs = np.append(f6_outputs,-0.23533067806486813)\n",
    "f6_outputs = np.append(f6_outputs,-0.2639220819499121)\n",
    "f6_outputs = np.append(f6_outputs,-0.17148052911247116)\n",
    "f6_outputs = np.append(f6_outputs,-0.06247688853060665)\n",
    "f6_outputs = np.append(f6_outputs,-0.4406374095498452)\n",
    "f6_outputs = np.append(f6_outputs,-0.2633675699383991)\n"
   ]
  },
  {
   "cell_type": "code",
   "execution_count": 20,
   "id": "f2ad4829",
   "metadata": {},
   "outputs": [
    {
     "name": "stdout",
     "output_type": "stream",
     "text": [
      "[0.45466  0.346872 0.657419 0.858968 0.11944 ]\n"
     ]
    }
   ],
   "source": [
    "X_max= f6_inputs[np.argmax((f6_outputs))]\n",
    "print(X_max)"
   ]
  },
  {
   "cell_type": "code",
   "execution_count": 21,
   "id": "0bd42987",
   "metadata": {},
   "outputs": [
    {
     "name": "stdout",
     "output_type": "stream",
     "text": [
      "-0.06247688853060665\n"
     ]
    }
   ],
   "source": [
    "Y_max= f6_outputs[np.argmax((f6_outputs))]\n",
    "print(Y_max)"
   ]
  },
  {
   "cell_type": "code",
   "execution_count": 24,
   "id": "141b6eeb",
   "metadata": {},
   "outputs": [],
   "source": [
    "variable_value = np.linspace(1, 10,10)\n",
    "n_dims = 5 \n",
    "beta = 0.001\n",
    "np.random.seed(42)\n",
    "train_X = torch.tensor(f6_inputs)\n",
    "train_Y = torch.tensor(f6_outputs).reshape(len(f6_outputs),-1)\n",
    "best_y = np.max(train_Y.numpy())\n",
    "best_x = train_X[np.argmax(train_Y.numpy())]\n",
    "noise_level =0.1\n",
    "candidate_list = []\n",
    "best_x_list = []\n",
    "\n",
    "for i in range(len(variable_value)):\n",
    "    #beta = variable_value[i]\n",
    "   \n",
    "    def function_6(x1,x2,x3,x4,x5, noise_level=noise_level):\n",
    "        return np.sin(5 * x1+4*x2) * (1 - np.tanh(x1 ** 2) - np.tanh(x2)) + \\\n",
    "            np.sin(1 * x3+4*x4) * (1 - np.tanh(x3 ** 2) - np.tanh(x4)) + \\\n",
    "            np.sin(1 * x5+4*x2) * (1 - np.tanh(x5 ** 2) - np.tanh(x5)) + \\\n",
    "              + \\\n",
    "                   + np.random.randn() * noise_level\n",
    "    \n",
    "    \n",
    "    gp = SingleTaskGP(train_X, train_Y)\n",
    "    mll = ExactMarginalLogLikelihood(gp.likelihood, gp)\n",
    "    fit_gpytorch_mll(mll)\n",
    "\n",
    "    #UCB = UpperConfidenceBound(gp, beta=beta)\n",
    "    EI = qExpectedImprovement(model=gp , best_f=best_y)\n",
    "    bounds = torch.stack([torch.zeros(n_dims), torch.ones(n_dims)])\n",
    "    candidate, _  = optimize_acqf(\n",
    "        EI, bounds=bounds, q=1, num_restarts=300, raw_samples=300,\n",
    "    )\n",
    "\n",
    "\n",
    "    x1,x2,x3,x4,x5 = candidate.numpy().ravel().tolist()\n",
    "    # Get the next value for the function from the script\n",
    "\n",
    "    y_next = function_6(x1,x2,x3,x4,x5)\n",
    "\n",
    "    if y_next > best_y:\n",
    "        best_y = y_next\n",
    "        best_x = x1,x2,x3,x4,x5\n",
    "\n",
    "\n",
    "    y_next = torch.tensor(y_next).unsqueeze(-1)\n",
    "\n",
    "    train_X = torch.cat([train_X,candidate])\n",
    "    train_Y = torch.cat([train_Y,y_next.unsqueeze(-1)])\n",
    "    candidate_list.append(candidate) \n",
    "    best_x_list.append(best_x)\n",
    "    #print(f\"Next point: {candidate} \\n Next Y {y_next}  Best_y, {best_y}\")\n",
    "    #print(f\"beta :{beta} noise_level :{noise_level}\")\n",
    "    #print(f\"Next point: {candidate} \\n Next Y {y_next}\")\n",
    "    #print(f\"best_x:{best_x}Best_y,{best_y}\")\n",
    "    "
   ]
  },
  {
   "cell_type": "code",
   "execution_count": 25,
   "id": "8b7c8da6",
   "metadata": {},
   "outputs": [
    {
     "data": {
      "text/plain": [
       "[(0.47977063059806824,\n",
       "  0.4024425745010376,\n",
       "  0.6558748483657837,\n",
       "  0.8008358478546143,\n",
       "  0.013618226163089275),\n",
       " (0.47977063059806824,\n",
       "  0.4024425745010376,\n",
       "  0.6558748483657837,\n",
       "  0.8008358478546143,\n",
       "  0.013618226163089275),\n",
       " (0.12503285706043243,\n",
       "  0.035090524703264236,\n",
       "  0.8703887462615967,\n",
       "  0.4436342418193817,\n",
       "  0.3652079403400421),\n",
       " (0.12503285706043243,\n",
       "  0.035090524703264236,\n",
       "  0.8703887462615967,\n",
       "  0.4436342418193817,\n",
       "  0.3652079403400421),\n",
       " (0.12503285706043243,\n",
       "  0.035090524703264236,\n",
       "  0.8703887462615967,\n",
       "  0.4436342418193817,\n",
       "  0.3652079403400421),\n",
       " (0.12503285706043243,\n",
       "  0.035090524703264236,\n",
       "  0.8703887462615967,\n",
       "  0.4436342418193817,\n",
       "  0.3652079403400421),\n",
       " (0.1694215089082718,\n",
       "  0.0,\n",
       "  0.9374870657920837,\n",
       "  0.3059847056865692,\n",
       "  0.3378622829914093),\n",
       " (0.1694215089082718,\n",
       "  0.0,\n",
       "  0.9374870657920837,\n",
       "  0.3059847056865692,\n",
       "  0.3378622829914093),\n",
       " (0.1694215089082718,\n",
       "  0.0,\n",
       "  0.9374870657920837,\n",
       "  0.3059847056865692,\n",
       "  0.3378622829914093),\n",
       " (0.1694215089082718,\n",
       "  0.0,\n",
       "  0.9374870657920837,\n",
       "  0.3059847056865692,\n",
       "  0.3378622829914093)]"
      ]
     },
     "execution_count": 25,
     "metadata": {},
     "output_type": "execute_result"
    }
   ],
   "source": [
    "best_x_list"
   ]
  },
  {
   "cell_type": "code",
   "execution_count": null,
   "id": "4c43e643",
   "metadata": {},
   "outputs": [],
   "source": []
  }
 ],
 "metadata": {
  "kernelspec": {
   "display_name": "Python 3 (ipykernel)",
   "language": "python",
   "name": "python3"
  },
  "language_info": {
   "codemirror_mode": {
    "name": "ipython",
    "version": 3
   },
   "file_extension": ".py",
   "mimetype": "text/x-python",
   "name": "python",
   "nbconvert_exporter": "python",
   "pygments_lexer": "ipython3",
   "version": "3.10.6"
  }
 },
 "nbformat": 4,
 "nbformat_minor": 5
}
