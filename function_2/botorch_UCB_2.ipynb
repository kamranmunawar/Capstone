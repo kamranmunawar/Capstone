{
 "cells": [
  {
   "cell_type": "markdown",
   "id": "11bdc1f3",
   "metadata": {},
   "source": [
    "**Function 2**\n",
    "\n",
    "Optimising Noisy Models. This corresponds to trying to optimise an unknown machine learning model. However, the initialization of the model is very important, meaning your observations will be very noisy, and the problem might **have a lot of local optima! You are trying to make the model’s log-likelihood as large as possible.**"
   ]
  },
  {
   "cell_type": "code",
   "execution_count": 1,
   "id": "1d804631",
   "metadata": {},
   "outputs": [],
   "source": [
    "import torch \n",
    "import numpy as np\n",
    "import matplotlib.pyplot as plt\n",
    "import plotly\n",
    "import os\n",
    "from sklearn.gaussian_process import GaussianProcessRegressor\n",
    "\n",
    "\n",
    "from botorch.models import SingleTaskGP\n",
    "from botorch  import fit_gpytorch_model\n",
    "\n",
    "from botorch.fit import fit_gpytorch_mll\n",
    "from gpytorch.mlls import ExactMarginalLogLikelihood\n",
    "from botorch.acquisition import UpperConfidenceBound\n",
    "from botorch.optim import optimize_acqf\n"
   ]
  },
  {
   "cell_type": "code",
   "execution_count": 2,
   "id": "7adf62a9",
   "metadata": {},
   "outputs": [],
   "source": [
    "f2_inputs = np.load(\"initial_inputs1.npy\")\n",
    "f2_outputs = np.load(\"initial_outputs1.npy\")\n",
    "f2_inputs_2 = np.load(\"initial_inputs2.npy\")\n",
    "f2_outputs_2 = np.load(\"initial_outputs2.npy\")"
   ]
  },
  {
   "cell_type": "code",
   "execution_count": 3,
   "id": "6198b470",
   "metadata": {},
   "outputs": [],
   "source": [
    "f2_inputs = np.concatenate((f2_inputs, f2_inputs_2)) \n",
    "f2_inputs = np.concatenate((f2_inputs, np.array([[0.773955, 0.818842]]))) \n",
    "f2_inputs = np.concatenate((f2_inputs, np.array([[0.516179, 0.852595]]))) \n",
    "f2_inputs = np.concatenate((f2_inputs, np.array([[0.682636, 0.906564]]))) \n",
    "f2_inputs = np.concatenate((f2_inputs, np.array([[0.657373, 0.92707 ]]))) \n",
    "f2_inputs = np.concatenate((f2_inputs, np.array([[0.738282, 0.94505 ]]))) \n",
    "f2_inputs = np.concatenate((f2_inputs, np.array([[0.695969, 0.942119]]))) \n",
    "f2_inputs = np.concatenate((f2_inputs, np.array([[0.695969, 0.942119]]))) \n",
    "f2_inputs = np.concatenate((f2_inputs, np.array([[0.722636, 0.906564]]))) \n",
    "f2_inputs = np.concatenate((f2_inputs, np.array([[0.650546, 0.929693]]))) \n",
    "f2_inputs = np.concatenate((f2_inputs, np.array([[0.742636, 0.904341]]))) \n",
    "f2_inputs = np.concatenate((f2_inputs, np.array([[0.702733, 0.458018]]))) \n",
    "f2_inputs = np.concatenate((f2_inputs, np.array([[0.717983, 0.664498]]))) \n",
    "f2_inputs = np.concatenate((f2_inputs, np.array([[0.704501, 0.451105]]))) \n",
    "f2_inputs = np.concatenate((f2_inputs, np.array([[0.705161, 0.457239]]))) \n",
    "f2_inputs = np.concatenate((f2_inputs, np.array([[0.702733, 0.418018]]))) \n",
    "f2_inputs = np.concatenate((f2_inputs, np.array([[0.742733, 0.435796]]))) \n",
    "f2_inputs = np.concatenate((f2_inputs, np.array([[0.702733, 0.458018]]))) \n",
    "f2_inputs = np.concatenate((f2_inputs, np.array([[0.720511, 0.458018]]))) \n",
    "\n",
    "f2_outputs = np.concatenate((f2_outputs,f2_outputs_2)) \n",
    "f2_outputs = np.append(f2_outputs,0.26215841751744595)\n",
    "f2_outputs = np.append(f2_outputs,0.30798911881434576)\n",
    "f2_outputs = np.append(f2_outputs,0.5004746350462992)\n",
    "f2_outputs = np.append(f2_outputs,0.4295013179054613)\n",
    "f2_outputs = np.append(f2_outputs,0.41771047535557376)\n",
    "f2_outputs = np.append(f2_outputs,0.4720670123276774)\n",
    "f2_outputs = np.append(f2_outputs,0.5825927664580692)\n",
    "f2_outputs = np.append(f2_outputs,0.6659374421056163)\n",
    "f2_outputs = np.append(f2_outputs,0.33114062352865725)\n",
    "f2_outputs = np.append(f2_outputs,0.43942137201542275)\n",
    "f2_outputs = np.append(f2_outputs,0.6400642111494899)\n",
    "f2_outputs = np.append(f2_outputs,0.2962440276848424)\n",
    "f2_outputs = np.append(f2_outputs,0.6921593595462521)\n",
    "f2_outputs = np.append(f2_outputs,0.6363815236340811)\n",
    "f2_outputs = np.append(f2_outputs,0.481611594015654)\n",
    "f2_outputs = np.append(f2_outputs,0.4107324217400383)\n",
    "f2_outputs = np.append(f2_outputs,0.6640016362646336)\n",
    "f2_outputs = np.append(f2_outputs,0.5446540910696784)\n"
   ]
  },
  {
   "cell_type": "code",
   "execution_count": 4,
   "id": "8b272c6d",
   "metadata": {},
   "outputs": [],
   "source": [
    "variable_value = np.linspace(1, 10, 10)\n",
    "n_dims = 2 \n",
    "beta =0.001# 0.039696969696969696\n",
    "np.random.seed(42)\n",
    "train_X = torch.tensor(f2_inputs)\n",
    "train_Y = torch.tensor(f2_outputs).reshape(len(f2_outputs),-1)\n",
    "best_y = np.max(train_Y.numpy())\n",
    "best_x = train_X[np.argmax(train_Y.numpy())]\n",
    "noise_level =0.01# 10\n",
    "candidate_list = []\n",
    "best_x_list = []\n",
    "\n",
    "#train_X = train_X1[0].reshape(8,-1)\n",
    "#train_Y = train_Y1[0].reshape(1,-1)\n",
    "\n",
    "for i in range(len(variable_value)):\n",
    "    noise_level = variable_value[i]\n",
    "   \n",
    "\n",
    "    def function_2(x1,x2, noise_level=noise_level):\n",
    "        result = np.sin(5 * x1+4*x2) * (1 - np.tanh(x1 ** 2) - np.tanh(x2))\\\n",
    "        + np.random.randn() * noise_level\n",
    "        return result\n",
    "    \n",
    "    \n",
    "    gp = SingleTaskGP(train_X, train_Y)\n",
    "    mll = ExactMarginalLogLikelihood(gp.likelihood, gp)\n",
    "    fit_gpytorch_mll(mll)\n",
    "\n",
    "    UCB = UpperConfidenceBound(gp, beta=beta)\n",
    "\n",
    "    bounds = torch.stack([torch.zeros(n_dims), torch.ones(n_dims)])\n",
    "    candidate, _  = optimize_acqf(\n",
    "        UCB, bounds=bounds, q=1, num_restarts=50, raw_samples=500,\n",
    "    )\n",
    "\n",
    "\n",
    "    x1,x2 = candidate.numpy().ravel().tolist()\n",
    "    # Get the next value for the function from the script\n",
    "\n",
    "    y_next = function_2(x1,x2)\n",
    "\n",
    "    if y_next > best_y:\n",
    "        best_y = y_next\n",
    "        best_x = x1,x2\n",
    "\n",
    "\n",
    "    y_next = torch.tensor(y_next).unsqueeze(-1)\n",
    "\n",
    "    train_X = torch.cat([train_X,candidate])\n",
    "    train_Y = torch.cat([train_Y,y_next.unsqueeze(-1)])\n",
    "    candidate_list.append(candidate) \n",
    "    best_x_list.append(best_x)\n",
    "    #print(f\"Next point: {candidate} \\n Next Y {y_next}  Best_y, {best_y}\")\n",
    "    #print(f\"beta :{beta} noise_level :{noise_level}\")\n",
    "    #print(f\"Next point: {candidate} \\n Next Y {y_next}\")\n",
    "    #print(f\"best_x:{best_x}Best_y,{best_y}\")\n",
    "    "
   ]
  },
  {
   "cell_type": "code",
   "execution_count": 5,
   "id": "4c76faec",
   "metadata": {},
   "outputs": [
    {
     "data": {
      "text/plain": [
       "[tensor([0.7227, 0.4380], dtype=torch.float64),\n",
       " tensor([0.7227, 0.4380], dtype=torch.float64),\n",
       " (0.7113729119300842, 0.4506097137928009),\n",
       " (0.7019621729850769, 0.45826372504234314),\n",
       " (0.7019621729850769, 0.45826372504234314),\n",
       " (0.7019621729850769, 0.45826372504234314),\n",
       " (0.7133287787437439, 0.4664672911167145),\n",
       " (0.7133287787437439, 0.4664672911167145),\n",
       " (0.7133287787437439, 0.4664672911167145),\n",
       " (0.7133287787437439, 0.4664672911167145)]"
      ]
     },
     "execution_count": 5,
     "metadata": {},
     "output_type": "execute_result"
    }
   ],
   "source": [
    "best_x_list"
   ]
  },
  {
   "cell_type": "code",
   "execution_count": null,
   "id": "05732103",
   "metadata": {},
   "outputs": [],
   "source": []
  }
 ],
 "metadata": {
  "kernelspec": {
   "display_name": "Python 3 (ipykernel)",
   "language": "python",
   "name": "python3"
  },
  "language_info": {
   "codemirror_mode": {
    "name": "ipython",
    "version": 3
   },
   "file_extension": ".py",
   "mimetype": "text/x-python",
   "name": "python",
   "nbconvert_exporter": "python",
   "pygments_lexer": "ipython3",
   "version": "3.10.6"
  }
 },
 "nbformat": 4,
 "nbformat_minor": 5
}
