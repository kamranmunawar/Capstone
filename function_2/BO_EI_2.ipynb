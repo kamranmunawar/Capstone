{
 "cells": [
  {
   "cell_type": "markdown",
   "id": "7781766a",
   "metadata": {},
   "source": [
    "**Function 2**\n",
    "\n",
    "Optimising Noisy Models. This corresponds to trying to optimise an unknown machine learning model. However, the initialization of the model is very important, meaning your observations will be very noisy, and the problem might **have a lot of local optima! You are trying to make the model’s log-likelihood as large as possible.**"
   ]
  },
  {
   "cell_type": "code",
   "execution_count": 1,
   "id": "14c1d7cd",
   "metadata": {},
   "outputs": [],
   "source": [
    "from sklearn.gaussian_process import GaussianProcessRegressor\n",
    "from scipy.stats import norm\n",
    "from scipy.optimize import minimize\n",
    "import sys\n",
    "import pandas as pd\n",
    "import numpy as np\n",
    "import matplotlib.pyplot as plt"
   ]
  },
  {
   "cell_type": "code",
   "execution_count": 2,
   "id": "5d3ee04c",
   "metadata": {},
   "outputs": [],
   "source": [
    "f2_inputs = np.load(\"initial_inputs1.npy\")\n",
    "f2_outputs = np.load(\"initial_outputs1.npy\")\n",
    "f2_inputs_2 = np.load(\"initial_inputs2.npy\")\n",
    "f2_outputs_2 = np.load(\"initial_outputs2.npy\")"
   ]
  },
  {
   "cell_type": "code",
   "execution_count": 3,
   "id": "b3b17c8f",
   "metadata": {},
   "outputs": [],
   "source": [
    "f2_inputs = np.concatenate((f2_inputs, f2_inputs_2)) \n",
    "f2_inputs = np.concatenate((f2_inputs, np.array([[0.773955, 0.818842]]))) \n",
    "f2_inputs = np.concatenate((f2_inputs, np.array([[0.516179, 0.852595]]))) \n",
    "f2_inputs = np.concatenate((f2_inputs, np.array([[0.682636, 0.906564]]))) \n",
    "f2_inputs = np.concatenate((f2_inputs, np.array([[0.657373, 0.92707 ]]))) \n",
    "f2_inputs = np.concatenate((f2_inputs, np.array([[0.738282, 0.94505 ]]))) \n",
    "f2_inputs = np.concatenate((f2_inputs, np.array([[0.695969, 0.942119]]))) \n",
    "f2_inputs = np.concatenate((f2_inputs, np.array([[0.695969, 0.942119]]))) \n",
    "f2_inputs = np.concatenate((f2_inputs, np.array([[0.722636, 0.906564]]))) \n",
    "f2_inputs = np.concatenate((f2_inputs, np.array([[0.650546, 0.929693]]))) \n",
    "f2_inputs = np.concatenate((f2_inputs, np.array([[0.742636, 0.904341]]))) \n",
    "f2_inputs = np.concatenate((f2_inputs, np.array([[0.702733, 0.458018]]))) \n",
    "f2_inputs = np.concatenate((f2_inputs, np.array([[0.717983, 0.664498]]))) \n",
    "f2_inputs = np.concatenate((f2_inputs, np.array([[0.704501, 0.451105]]))) \n",
    "f2_inputs = np.concatenate((f2_inputs, np.array([[0.705161, 0.457239]]))) \n",
    "f2_inputs = np.concatenate((f2_inputs, np.array([[0.702733, 0.418018]]))) \n",
    "f2_inputs = np.concatenate((f2_inputs, np.array([[0.742733, 0.435796]]))) \n",
    "f2_inputs = np.concatenate((f2_inputs, np.array([[0.702733, 0.458018]]))) \n",
    "f2_inputs = np.concatenate((f2_inputs, np.array([[0.720511, 0.458018]]))) \n",
    "\n",
    "f2_outputs = np.concatenate((f2_outputs,f2_outputs_2)) \n",
    "f2_outputs = np.append(f2_outputs,0.26215841751744595)\n",
    "f2_outputs = np.append(f2_outputs,0.30798911881434576)\n",
    "f2_outputs = np.append(f2_outputs,0.5004746350462992)\n",
    "f2_outputs = np.append(f2_outputs,0.4295013179054613)\n",
    "f2_outputs = np.append(f2_outputs,0.41771047535557376)\n",
    "f2_outputs = np.append(f2_outputs,0.4720670123276774)\n",
    "f2_outputs = np.append(f2_outputs,0.5825927664580692)\n",
    "f2_outputs = np.append(f2_outputs,0.6659374421056163)\n",
    "f2_outputs = np.append(f2_outputs,0.33114062352865725)\n",
    "f2_outputs = np.append(f2_outputs,0.43942137201542275)\n",
    "f2_outputs = np.append(f2_outputs,0.6400642111494899)\n",
    "f2_outputs = np.append(f2_outputs,0.2962440276848424)\n",
    "f2_outputs = np.append(f2_outputs,0.6921593595462521)\n",
    "f2_outputs = np.append(f2_outputs,0.6363815236340811)\n",
    "f2_outputs = np.append(f2_outputs,0.481611594015654)\n",
    "f2_outputs = np.append(f2_outputs,0.4107324217400383)\n",
    "f2_outputs = np.append(f2_outputs,0.6640016362646336)\n",
    "f2_outputs = np.append(f2_outputs,0.5446540910696784)\n"
   ]
  },
  {
   "cell_type": "code",
   "execution_count": 4,
   "id": "e3618d9d",
   "metadata": {},
   "outputs": [
    {
     "name": "stdout",
     "output_type": "stream",
     "text": [
      "[0.7227338  0.43801822]\n"
     ]
    }
   ],
   "source": [
    "X_max= f2_inputs[np.argmax((f2_outputs))]\n",
    "print(X_max)"
   ]
  },
  {
   "cell_type": "code",
   "execution_count": 5,
   "id": "af0bb65e",
   "metadata": {},
   "outputs": [
    {
     "name": "stdout",
     "output_type": "stream",
     "text": [
      "0.6948320857901906\n"
     ]
    }
   ],
   "source": [
    "Y_max= f2_outputs[np.argmax((f2_outputs))]\n",
    "print(Y_max)"
   ]
  },
  {
   "cell_type": "code",
   "execution_count": 30,
   "id": "8f82cae0",
   "metadata": {},
   "outputs": [],
   "source": [
    "def costly_function(x):\n",
    "    total = np.array([])\n",
    "    for x_i in x:\n",
    "         total = np.append(total, np.sum(np.exp(-(x_i - 5) ** 2)))\n",
    "        #total =  -x_i ** 2 - (x_i - 1) ** 2 + 1\n",
    "    \n",
    "    return total  + np.random.randn()  "
   ]
  },
  {
   "cell_type": "code",
   "execution_count": 31,
   "id": "f70cd50f",
   "metadata": {},
   "outputs": [],
   "source": [
    "class BayesianOptimizer():\n",
    "      \n",
    "    def __init__(self, target_func, x_init, y_init, n_iter, scale, batch_size):\n",
    "        self.x_init = x_init\n",
    "        self.y_init = y_init\n",
    "        self.target_func = target_func\n",
    "        self.n_iter = n_iter\n",
    "        self.scale = scale\n",
    "        self.batch_size = batch_size\n",
    "        self.gauss_pr = GaussianProcessRegressor()\n",
    "        self.best_samples_ = pd.DataFrame(columns = ['x', 'y', 'ei'])\n",
    "        self.distances_ = []\n",
    "        \n",
    "    def _get_expected_improvement(self, x_new):\n",
    "\n",
    "        # Using estimate from Gaussian surrogate instead of actual function for \n",
    "        # a new trial data point to avoid cost \n",
    " \n",
    "        mean_y_new, sigma_y_new = self.gauss_pr.predict(np.array([x_new]), return_std=True)\n",
    "        sigma_y_new = sigma_y_new.reshape(-1,1)\n",
    "        if sigma_y_new == 0.0:\n",
    "            return 0.0\n",
    "        \n",
    "        # Using estimates from Gaussian surrogate instead of actual function for \n",
    "        # entire prior distribution to avoid cost\n",
    "        \n",
    "        mean_y = self.gauss_pr.predict(self.x_init)\n",
    "        max_mean_y = np.max(mean_y)\n",
    "        z = (mean_y_new - max_mean_y-5) / sigma_y_new\n",
    "        exp_imp = (mean_y_new - max_mean_y) * norm.cdf(z) + sigma_y_new * norm.pdf(z)\n",
    "        \n",
    "        return exp_imp\n",
    "    def _acquisition_function(self, x):\n",
    "        return -self._get_expected_improvement(x)\n",
    "    \n",
    "    def _get_next_probable_point(self):\n",
    "            min_ei = float(sys.maxsize)\n",
    "            x_optimal = None \n",
    "            \n",
    "            # Trial with an array of random data points\n",
    "            \n",
    "            #for x_start in (np.random.random((self.batch_size,self.x_init.shape[1])) * self.scale):\n",
    "            for x_start in np.random.uniform(low=0.1, high=0.99, size=(1,2)):\n",
    "                response = minimize(fun=self._acquisition_function, x0=x_start, method='L-BFGS-B')\n",
    "                if response.fun < min_ei:\n",
    "                    min_ei = response.fun\n",
    "                    x_optimal = response.x\n",
    "            \n",
    "            return x_optimal, min_ei\n",
    "    def _extend_prior_with_posterior_data(self, x,y):\n",
    "        self.x_init = np.append(self.x_init, np.array([x]), axis = 0)\n",
    "        self.y_init = np.append(self.y_init, np.array(y), axis = 0)\n",
    "        \n",
    "    def optimize(self):\n",
    "        y_max_ind = np.argmax(self.y_init)\n",
    "        y_max = self.y_init[y_max_ind]\n",
    "        optimal_x = self.x_init[y_max_ind]\n",
    "        optimal_ei = None\n",
    "        for i in range(self.n_iter):\n",
    "            self.gauss_pr.fit(self.x_init, self.y_init)\n",
    "            x_next, ei = self._get_next_probable_point()\n",
    "            y_next = self.target_func(np.array([x_next]))\n",
    "            self._extend_prior_with_posterior_data(x_next,y_next)\n",
    "            \n",
    "            if y_next[0] > y_max:\n",
    "                y_max = y_next[0]\n",
    "                optimal_x = x_next\n",
    "                optimal_ei = ei\n",
    "\n",
    "            if i == 0:\n",
    "                 prev_x = x_next\n",
    "            else:\n",
    "                self.distances_.append(np.linalg.norm(prev_x - x_next))\n",
    "                prev_x = x_next\n",
    "            tmpdf = pd.DataFrame({\"y\": y_max, \"ei\": optimal_ei},index=[1])\n",
    "            #self.best_samples_ = self.best_samples_.append({\"y\": y_max, \"ei\": optimal_ei},ignore_index=True)\n",
    "            self.best_samples_ =pd.concat([self.best_samples_ ,tmpdf],ignore_index = True)\n",
    "        \n",
    "        return optimal_x, y_max\n",
    "  \n",
    "  \n",
    "        "
   ]
  },
  {
   "cell_type": "code",
   "execution_count": 17,
   "id": "6269a01c",
   "metadata": {},
   "outputs": [],
   "source": [
    "sample_x = f2_inputs\n",
    "sample_y = f2_outputs"
   ]
  },
  {
   "cell_type": "code",
   "execution_count": 34,
   "id": "7cdcee94",
   "metadata": {},
   "outputs": [
    {
     "data": {
      "text/plain": [
       "(array([0.275328  , 0.89068836]), 2.9134261775216)"
      ]
     },
     "execution_count": 34,
     "metadata": {},
     "output_type": "execute_result"
    }
   ],
   "source": [
    "bopt = BayesianOptimizer(target_func=costly_function, x_init=sample_x, y_init=sample_y, n_iter=200, scale=10, batch_size=30)\n",
    "bopt.optimize()"
   ]
  },
  {
   "cell_type": "code",
   "execution_count": 30,
   "id": "685b5ee5",
   "metadata": {},
   "outputs": [],
   "source": [
    "#(array([4.03553488, 6.13089465]), 3.45292516709551)"
   ]
  },
  {
   "cell_type": "code",
   "execution_count": 32,
   "id": "a7dbc8b1",
   "metadata": {},
   "outputs": [
    {
     "data": {
      "text/plain": [
       "array([[0.66579958, 0.12396913],\n",
       "       [0.87779099, 0.7786275 ],\n",
       "       [0.14269907, 0.34900513],\n",
       "       [0.84527543, 0.71112027],\n",
       "       [0.45464714, 0.29045518],\n",
       "       [0.57771284, 0.77197318],\n",
       "       [0.43816606, 0.68501826],\n",
       "       [0.34174959, 0.02869772],\n",
       "       [0.33864816, 0.21386725],\n",
       "       [0.70263656, 0.9265642 ],\n",
       "       [0.33162594, 0.08049911],\n",
       "       [0.10053279, 0.47759524],\n",
       "       [0.67793216, 0.87370355],\n",
       "       [0.13495584, 0.52115767],\n",
       "       [0.53715567, 0.24471459],\n",
       "       [0.6591284 , 0.63064156],\n",
       "       [0.47045207, 0.53376825],\n",
       "       [0.72120239, 0.36450644],\n",
       "       [0.7227338 , 0.43801822],\n",
       "       [0.24066761, 0.14122907],\n",
       "       [0.773955  , 0.818842  ],\n",
       "       [0.516179  , 0.852595  ],\n",
       "       [0.682636  , 0.906564  ],\n",
       "       [0.657373  , 0.92707   ],\n",
       "       [0.738282  , 0.94505   ],\n",
       "       [0.695969  , 0.942119  ],\n",
       "       [0.695969  , 0.942119  ],\n",
       "       [0.722636  , 0.906564  ],\n",
       "       [0.650546  , 0.929693  ],\n",
       "       [0.742636  , 0.904341  ],\n",
       "       [0.702733  , 0.458018  ],\n",
       "       [0.717983  , 0.664498  ],\n",
       "       [0.704501  , 0.451105  ],\n",
       "       [0.705161  , 0.457239  ]])"
      ]
     },
     "execution_count": 32,
     "metadata": {},
     "output_type": "execute_result"
    }
   ],
   "source": [
    "f2_inputs"
   ]
  },
  {
   "cell_type": "code",
   "execution_count": 33,
   "id": "70cbdd53",
   "metadata": {},
   "outputs": [
    {
     "data": {
      "text/plain": [
       "array([ 0.53899612,  0.42058624, -0.06562362,  0.29399291,  0.21496451,\n",
       "        0.02310555,  0.24461934,  0.03874902, -0.01385762,  0.61120522,\n",
       "       -0.02995427,  0.08311962,  0.56114332,  0.01347696,  0.38994406,\n",
       "        0.42201818,  0.58695686,  0.56954976,  0.69483209,  0.03376806,\n",
       "        0.26215842,  0.30798912,  0.50047464,  0.42950132,  0.41771048,\n",
       "        0.47206701,  0.58259277,  0.66593744,  0.33114062,  0.43942137,\n",
       "        0.64006421,  0.29624403,  0.69215936,  0.63638152])"
      ]
     },
     "execution_count": 33,
     "metadata": {},
     "output_type": "execute_result"
    }
   ],
   "source": [
    "f2_outputs"
   ]
  },
  {
   "cell_type": "code",
   "execution_count": 6,
   "id": "ff1e64c9",
   "metadata": {},
   "outputs": [
    {
     "data": {
      "image/png": "[encoded data removed]",
      "text/plain": [
       "<Figure size 1200x600 with 2 Axes>"
      ]
     },
     "metadata": {},
     "output_type": "display_data"
    }
   ],
   "source": [
    "fig, ax = plt.subplots(1,2,figsize = (12,6))\n",
    "ax[0].scatter(f2_inputs[:,0],f2_outputs)\n",
    "ax[1].scatter(f2_inputs[:,1],f2_outputs)\n",
    "plt.show()"
   ]
  },
  {
   "cell_type": "code",
   "execution_count": null,
   "id": "c4064d6f",
   "metadata": {},
   "outputs": [],
   "source": []
  }
 ],
 "metadata": {
  "kernelspec": {
   "display_name": "Python 3 (ipykernel)",
   "language": "python",
   "name": "python3"
  },
  "language_info": {
   "codemirror_mode": {
    "name": "ipython",
    "version": 3
   },
   "file_extension": ".py",
   "mimetype": "text/x-python",
   "name": "python",
   "nbconvert_exporter": "python",
   "pygments_lexer": "ipython3",
   "version": "3.10.6"
  }
 },
 "nbformat": 4,
 "nbformat_minor": 5
}
