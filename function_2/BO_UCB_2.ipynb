{
 "cells": [
  {
   "cell_type": "markdown",
   "id": "83645eb8",
   "metadata": {},
   "source": [
    "**Function 2**\n",
    "\n",
    "Optimising Noisy Models. This corresponds to trying to optimise an unknown machine learning model. However, the initialization of the model is very important, meaning your observations will be very noisy, and the problem might **have a lot of local optima! You are trying to make the model’s log-likelihood as large as possible.**"
   ]
  },
  {
   "cell_type": "code",
   "execution_count": 49,
   "id": "064d1060",
   "metadata": {},
   "outputs": [],
   "source": [
    "import numpy as np\n",
    "import matplotlib.pyplot as plt\n",
    "from IPython.display import clear_output\n",
    "\n",
    "from sklearn.gaussian_process import GaussianProcessRegressor\n",
    "from sklearn.gaussian_process.kernels import RBF\n",
    "\n",
    "from statistics import NormalDist"
   ]
  },
  {
   "cell_type": "code",
   "execution_count": 50,
   "id": "8d9b4a51",
   "metadata": {},
   "outputs": [],
   "source": [
    "f2_inputs = np.load(\"initial_inputs1.npy\")\n",
    "f2_outputs = np.load(\"initial_outputs1.npy\")\n",
    "f2_inputs_2 = np.load(\"initial_inputs2.npy\")\n",
    "f2_outputs_2 = np.load(\"initial_outputs2.npy\")"
   ]
  },
  {
   "cell_type": "code",
   "execution_count": 51,
   "id": "8e5ce6f1",
   "metadata": {},
   "outputs": [],
   "source": [
    "f2_inputs = np.concatenate((f2_inputs, f2_inputs_2)) \n",
    "f2_inputs = np.concatenate((f2_inputs, np.array([[0.773955, 0.818842]]))) \n",
    "f2_inputs = np.concatenate((f2_inputs, np.array([[0.516179, 0.852595]]))) \n",
    "f2_inputs = np.concatenate((f2_inputs, np.array([[0.682636, 0.906564]]))) \n",
    "f2_inputs = np.concatenate((f2_inputs, np.array([[0.657373, 0.92707 ]]))) \n",
    "f2_inputs = np.concatenate((f2_inputs, np.array([[0.738282, 0.94505 ]]))) \n",
    "f2_inputs = np.concatenate((f2_inputs, np.array([[0.695969, 0.942119]]))) \n",
    "f2_inputs = np.concatenate((f2_inputs, np.array([[0.695969, 0.942119]]))) \n",
    "f2_inputs = np.concatenate((f2_inputs, np.array([[0.722636, 0.906564]]))) \n",
    "f2_inputs = np.concatenate((f2_inputs, np.array([[0.650546, 0.929693]]))) \n",
    "f2_inputs = np.concatenate((f2_inputs, np.array([[0.742636, 0.904341]]))) \n",
    "f2_inputs = np.concatenate((f2_inputs, np.array([[0.702733, 0.458018]]))) \n",
    "f2_inputs = np.concatenate((f2_inputs, np.array([[0.717983, 0.664498]]))) \n",
    "f2_inputs = np.concatenate((f2_inputs, np.array([[0.704501, 0.451105]]))) \n",
    "f2_inputs = np.concatenate((f2_inputs, np.array([[0.705161, 0.457239]]))) \n",
    "f2_inputs = np.concatenate((f2_inputs, np.array([[0.702733, 0.418018]]))) \n",
    "f2_inputs = np.concatenate((f2_inputs, np.array([[0.742733, 0.435796]]))) \n",
    "f2_inputs = np.concatenate((f2_inputs, np.array([[0.702733, 0.458018]]))) \n",
    "f2_inputs = np.concatenate((f2_inputs, np.array([[0.720511, 0.458018]]))) \n",
    "\n",
    "f2_outputs = np.concatenate((f2_outputs,f2_outputs_2)) \n",
    "f2_outputs = np.append(f2_outputs,0.26215841751744595)\n",
    "f2_outputs = np.append(f2_outputs,0.30798911881434576)\n",
    "f2_outputs = np.append(f2_outputs,0.5004746350462992)\n",
    "f2_outputs = np.append(f2_outputs,0.4295013179054613)\n",
    "f2_outputs = np.append(f2_outputs,0.41771047535557376)\n",
    "f2_outputs = np.append(f2_outputs,0.4720670123276774)\n",
    "f2_outputs = np.append(f2_outputs,0.5825927664580692)\n",
    "f2_outputs = np.append(f2_outputs,0.6659374421056163)\n",
    "f2_outputs = np.append(f2_outputs,0.33114062352865725)\n",
    "f2_outputs = np.append(f2_outputs,0.43942137201542275)\n",
    "f2_outputs = np.append(f2_outputs,0.6400642111494899)\n",
    "f2_outputs = np.append(f2_outputs,0.2962440276848424)\n",
    "f2_outputs = np.append(f2_outputs,0.6921593595462521)\n",
    "f2_outputs = np.append(f2_outputs,0.6363815236340811)\n",
    "f2_outputs = np.append(f2_outputs,0.481611594015654)\n",
    "f2_outputs = np.append(f2_outputs,0.4107324217400383)\n",
    "f2_outputs = np.append(f2_outputs,0.6640016362646336)\n",
    "f2_outputs = np.append(f2_outputs,0.5446540910696784)\n"
   ]
  },
  {
   "cell_type": "code",
   "execution_count": 52,
   "id": "7f971c2c",
   "metadata": {},
   "outputs": [
    {
     "data": {
      "text/plain": [
       "array([[0.66579958, 0.12396913],\n",
       "       [0.87779099, 0.7786275 ],\n",
       "       [0.14269907, 0.34900513],\n",
       "       [0.84527543, 0.71112027],\n",
       "       [0.45464714, 0.29045518],\n",
       "       [0.57771284, 0.77197318],\n",
       "       [0.43816606, 0.68501826],\n",
       "       [0.34174959, 0.02869772],\n",
       "       [0.33864816, 0.21386725],\n",
       "       [0.70263656, 0.9265642 ],\n",
       "       [0.33162594, 0.08049911],\n",
       "       [0.10053279, 0.47759524],\n",
       "       [0.67793216, 0.87370355],\n",
       "       [0.13495584, 0.52115767],\n",
       "       [0.53715567, 0.24471459],\n",
       "       [0.6591284 , 0.63064156],\n",
       "       [0.47045207, 0.53376825],\n",
       "       [0.72120239, 0.36450644],\n",
       "       [0.7227338 , 0.43801822],\n",
       "       [0.24066761, 0.14122907],\n",
       "       [0.773955  , 0.818842  ],\n",
       "       [0.516179  , 0.852595  ],\n",
       "       [0.682636  , 0.906564  ],\n",
       "       [0.657373  , 0.92707   ],\n",
       "       [0.738282  , 0.94505   ],\n",
       "       [0.695969  , 0.942119  ],\n",
       "       [0.695969  , 0.942119  ],\n",
       "       [0.722636  , 0.906564  ],\n",
       "       [0.650546  , 0.929693  ],\n",
       "       [0.742636  , 0.904341  ],\n",
       "       [0.702733  , 0.458018  ],\n",
       "       [0.717983  , 0.664498  ],\n",
       "       [0.704501  , 0.451105  ],\n",
       "       [0.705161  , 0.457239  ],\n",
       "       [0.702733  , 0.418018  ],\n",
       "       [0.742733  , 0.435796  ],\n",
       "       [0.702733  , 0.458018  ],\n",
       "       [0.720511  , 0.458018  ]])"
      ]
     },
     "execution_count": 52,
     "metadata": {},
     "output_type": "execute_result"
    }
   ],
   "source": [
    "f2_inputs"
   ]
  },
  {
   "cell_type": "code",
   "execution_count": 53,
   "id": "9cca4283",
   "metadata": {},
   "outputs": [],
   "source": [
    "x_input = f2_inputs\n",
    "y_input = f2_outputs"
   ]
  },
  {
   "cell_type": "code",
   "execution_count": 54,
   "id": "83884060",
   "metadata": {},
   "outputs": [
    {
     "name": "stdout",
     "output_type": "stream",
     "text": [
      "[0.7227338  0.43801822]\n"
     ]
    }
   ],
   "source": [
    "X_max= f2_inputs[np.argmax((f2_outputs))]\n",
    "print(X_max)"
   ]
  },
  {
   "cell_type": "code",
   "execution_count": 55,
   "id": "b594f4c0",
   "metadata": {},
   "outputs": [
    {
     "name": "stdout",
     "output_type": "stream",
     "text": [
      "0.6948320857901906\n"
     ]
    }
   ],
   "source": [
    "Y_max= f2_outputs[np.argmax((f2_outputs))]\n",
    "print(Y_max)"
   ]
  },
  {
   "cell_type": "code",
   "execution_count": 56,
   "id": "e957a98c",
   "metadata": {},
   "outputs": [],
   "source": [
    "x1 = np.linspace(0.7227338-0.02, 0.7227338+0.02, 10)\n",
    "x2 = np.linspace(0.43801822-0.02, 0.43801822+0.02, 10)\n",
    "\n",
    "X_grid = []\n",
    "for i in range(len(x1)):\n",
    "    for j in range(len(x2)):\n",
    "        X_grid.append([x1[i], x2[j]])\n",
    "X_grid = np.array(X_grid)\n",
    "#0.7227338  0.43801822\n",
    "#0.722636  , 0.906564\n",
    "#0.70263656 0.9265642"
   ]
  },
  {
   "cell_type": "code",
   "execution_count": 58,
   "id": "313e7790",
   "metadata": {},
   "outputs": [],
   "source": [
    "noise_assumption = 1e-10\n",
    "rbf_lengthscale = 0.9\n",
    "beta = 0.001\n",
    "\n",
    "x_input = f2_inputs\n",
    "y_input = f2_outputs\n",
    "\n",
    "variable_value = np.linspace(0.001, 0.09, 10)\n",
    "#beta = np.linspace(0.1, 0.9, 100)\n",
    "#beta = np.linspace(1, 3, 100)\n",
    "#beta = np.linspace(1, 50, 100)\n",
    "result = []\n",
    "for i in range(len(variable_value)):\n",
    "    #beta = variable_value[i]\n",
    "    kernel = RBF(length_scale=rbf_lengthscale, length_scale_bounds='fixed')\n",
    "    model = GaussianProcessRegressor(kernel = kernel, alpha=noise_assumption)\n",
    "    model.fit(np.array(x_input),np.array(y_input))\n",
    "    post_mean, post_std = model.predict(np.array(X_grid), return_std=True)\n",
    "    post_mean, post_std = post_mean.squeeze(), post_std.squeeze()\n",
    "    acquisition_function = post_mean + beta* post_std\n",
    "    result.append([variable_value[i],[X_grid[np.argmax(acquisition_function)]]])\n",
    "    "
   ]
  },
  {
   "cell_type": "code",
   "execution_count": 59,
   "id": "005f26ae",
   "metadata": {},
   "outputs": [
    {
     "data": {
      "text/plain": [
       "[[0.001, [array([0.7027338 , 0.44024044])]],\n",
       " [0.010888888888888889, [array([0.7027338 , 0.44024044])]],\n",
       " [0.020777777777777777, [array([0.7027338 , 0.44024044])]],\n",
       " [0.030666666666666665, [array([0.7027338 , 0.44024044])]],\n",
       " [0.04055555555555555, [array([0.7027338 , 0.44024044])]],\n",
       " [0.050444444444444445, [array([0.7027338 , 0.44024044])]],\n",
       " [0.06033333333333333, [array([0.7027338 , 0.44024044])]],\n",
       " [0.07022222222222221, [array([0.7027338 , 0.44024044])]],\n",
       " [0.0801111111111111, [array([0.7027338 , 0.44024044])]],\n",
       " [0.09, [array([0.7027338 , 0.44024044])]]]"
      ]
     },
     "execution_count": 59,
     "metadata": {},
     "output_type": "execute_result"
    }
   ],
   "source": [
    "result"
   ]
  },
  {
   "cell_type": "code",
   "execution_count": null,
   "id": "110e517c",
   "metadata": {},
   "outputs": [],
   "source": []
  }
 ],
 "metadata": {
  "kernelspec": {
   "display_name": "Python 3 (ipykernel)",
   "language": "python",
   "name": "python3"
  },
  "language_info": {
   "codemirror_mode": {
    "name": "ipython",
    "version": 3
   },
   "file_extension": ".py",
   "mimetype": "text/x-python",
   "name": "python",
   "nbconvert_exporter": "python",
   "pygments_lexer": "ipython3",
   "version": "3.10.6"
  }
 },
 "nbformat": 4,
 "nbformat_minor": 5
}
