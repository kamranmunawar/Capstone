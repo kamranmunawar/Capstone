{
 "cells": [
  {
   "cell_type": "code",
   "execution_count": 18,
   "id": "b90f5651",
   "metadata": {},
   "outputs": [],
   "source": [
    "import torch \n",
    "import numpy as np\n",
    "from botorch.models import SingleTaskGP\n",
    "from botorch  import fit_gpytorch_model\n",
    "\n",
    "from botorch.fit import fit_gpytorch_mll\n",
    "from gpytorch.mlls import ExactMarginalLogLikelihood\n",
    "from botorch.acquisition import UpperConfidenceBound\n",
    "from botorch.acquisition.monte_carlo import qExpectedImprovement\n",
    "\n",
    "from botorch.optim import optimize_acqf\n",
    "\n",
    "from sklearn.gaussian_process import GaussianProcessRegressor\n",
    "from scipy.stats import norm\n",
    "from scipy.optimize import minimize\n",
    "import sys\n",
    "import pandas as pd\n",
    "import numpy as np\n",
    "import matplotlib.pyplot as plt\n",
    "from sklearn.gaussian_process.kernels import RBF\n"
   ]
  },
  {
   "cell_type": "code",
   "execution_count": 19,
   "id": "5ffcbbc8",
   "metadata": {},
   "outputs": [],
   "source": [
    "f1_inputs = np.load(\"initial_inputs1.npy\")\n",
    "f1_outputs = np.load(\"initial_outputs1.npy\")\n",
    "f1_inputs_2 = np.load(\"initial_inputs2.npy\")\n",
    "f1_outputs_2 = np.load(\"initial_outputs2.npy\")"
   ]
  },
  {
   "cell_type": "code",
   "execution_count": 20,
   "id": "476e0c3c",
   "metadata": {},
   "outputs": [],
   "source": [
    "f1_inputs = np.concatenate((f1_inputs, f1_inputs_2)) \n",
    "f1_inputs = np.concatenate((f1_inputs, np.array([[0.201607 , 0.5658698]]))) \n",
    "f1_inputs = np.concatenate((f1_inputs, np.array([[0.785688, 0.49287]]))) \n",
    "f1_inputs = np.concatenate((f1_inputs, np.array([[0.701023, 0.702999]]))) \n",
    "f1_inputs = np.concatenate((f1_inputs, np.array([[0.767155, 0.801202]]))) \n",
    "f1_inputs = np.concatenate((f1_inputs, np.array([[0.756262, 0.621414]]))) \n",
    "f1_inputs = np.concatenate((f1_inputs, np.array([[0.721023, 0.682999]]))) \n",
    "f1_inputs = np.concatenate((f1_inputs, np.array([[0.707689, 0.722999]]))) \n",
    "f1_inputs = np.concatenate((f1_inputs, np.array([[0.716578, 0.705221]]))) \n",
    "f1_inputs = np.concatenate((f1_inputs, np.array([[0.703245, 0.682999]]))) \n",
    "f1_inputs = np.concatenate((f1_inputs, np.array([[0.609401, 0.605101]]))) \n",
    "f1_inputs = np.concatenate((f1_inputs, np.array([[0.629401, 0.589545]]))) \n",
    "f1_inputs = np.concatenate((f1_inputs, np.array([[0.629401, 0.616212]]))) \n",
    "f1_inputs = np.concatenate((f1_inputs, np.array([[0.649401, 0.622878]]))) \n",
    "f1_inputs = np.concatenate((f1_inputs, np.array([[0.631623, 0.636212]]))) \n",
    "f1_inputs = np.concatenate((f1_inputs, np.array([[0.611623, 0.656212]]))) \n",
    "f1_inputs = np.concatenate((f1_inputs, np.array([[0.642734, 0.616212]]))) \n",
    "f1_inputs = np.concatenate((f1_inputs, np.array([[0.651623, 0.620656]]))) \n",
    "f1_inputs = np.concatenate((f1_inputs, np.array([[0.642734, 0.616212]]))) \n",
    "\n",
    "f1_outputs = np.concatenate((f1_outputs,f1_outputs_2)) \n",
    "f1_outputs = np.append(f1_outputs,-5.9027047474104416e-49)\n",
    "f1_outputs = np.append(f1_outputs,1.4694233057027134e-30)\n",
    "f1_outputs = np.append(f1_outputs,6.013687404741693e-08)\n",
    "f1_outputs = np.append(f1_outputs,1.029025518149088e-34)\n",
    "f1_outputs = np.append(f1_outputs,3.1568882670317357e-12)\n",
    "f1_outputs = np.append(f1_outputs,9.594441158769377e-09)\n",
    "f1_outputs = np.append(f1_outputs,4.4984959147048566e-11)\n",
    "f1_outputs = np.append(f1_outputs,6.25317474883913e-10)\n",
    "f1_outputs = np.append(f1_outputs,1.2990004780975896e-06)\n",
    "f1_outputs = np.append(f1_outputs,0.1971687803797823)\n",
    "f1_outputs = np.append(f1_outputs,0.0019282695144167755)\n",
    "f1_outputs = np.append(f1_outputs,1.378994567184674)\n",
    "f1_outputs = np.append(f1_outputs,0.6197596252221214)\n",
    "f1_outputs = np.append(f1_outputs,1.6960217184989461)\n",
    "f1_outputs = np.append(f1_outputs,0.12963516015284113)\n",
    "f1_outputs = np.append(f1_outputs,0.8437573006254239)\n",
    "f1_outputs = np.append(f1_outputs,0.4426566990166618)\n",
    "f1_outputs = np.append(f1_outputs,0.8437573006254239)\n"
   ]
  },
  {
   "cell_type": "code",
   "execution_count": 21,
   "id": "b3f52e1f",
   "metadata": {},
   "outputs": [
    {
     "name": "stdout",
     "output_type": "stream",
     "text": [
      "[0.631623 0.636212]\n"
     ]
    }
   ],
   "source": [
    "X_max= f1_inputs[np.argmax(abs(f1_outputs))]\n",
    "print(X_max)"
   ]
  },
  {
   "cell_type": "code",
   "execution_count": 22,
   "id": "d387839a",
   "metadata": {},
   "outputs": [
    {
     "name": "stdout",
     "output_type": "stream",
     "text": [
      "1.6960217184989461\n"
     ]
    }
   ],
   "source": [
    "Y_max= f1_outputs[np.argmax(abs(f1_outputs))]\n",
    "print(Y_max)"
   ]
  },
  {
   "cell_type": "code",
   "execution_count": 23,
   "id": "7398df19",
   "metadata": {},
   "outputs": [],
   "source": [
    "variable_value = np.linspace(1, 10, 5)\n",
    "n_dims = 2 \n",
    "beta =0.01 # 1.6262626262626263\n",
    "np.random.seed(42)\n",
    "train_X = torch.tensor(f1_inputs)\n",
    "train_Y = torch.tensor(f1_outputs).reshape(len(f1_outputs),-1)\n",
    "best_y = np.max(train_Y.numpy())\n",
    "best_x = train_X[np.argmax(train_Y.numpy())]\n",
    "noise_level =0.01# 1.0\n",
    "candidate_list = []\n",
    "best_x_list = []\n",
    "\n",
    "#train_X = train_X1[0].reshape(8,-1)\n",
    "#train_Y = train_Y1[0].reshape(1,-1)\n",
    "\n",
    "for i in range(len(variable_value)):\n",
    "    #noise_level = variable_value[i]\n",
    "   \n",
    "\n",
    "    def function_1(x1,x2, noise_level=noise_level):\n",
    "        result = np.sin(5 * x1+4*x2) * (1 - np.tanh(x1 ** 2) - np.tanh(x2))\\\n",
    "        + np.random.randn() * noise_level\n",
    "        return result\n",
    "    \n",
    "    \n",
    "    gp = SingleTaskGP(train_X, train_Y)\n",
    "    mll = ExactMarginalLogLikelihood(gp.likelihood, gp)\n",
    "    fit_gpytorch_mll(mll)\n",
    "\n",
    "    #UCB = UpperConfidenceBound(gp, beta=beta)\n",
    "    EI = qExpectedImprovement(model=gp , best_f=best_y)\n",
    "\n",
    "    bounds = torch.stack([torch.zeros(n_dims), torch.ones(n_dims)])\n",
    "    candidate, _  = optimize_acqf(\n",
    "        EI, bounds=bounds, q=1, num_restarts=50, raw_samples=500,\n",
    "    )\n",
    "\n",
    "\n",
    "    x1,x2 = candidate.numpy().ravel().tolist()\n",
    "    # Get the next value for the function from the script\n",
    "\n",
    "    y_next = function_1(x1,x2)\n",
    "\n",
    "    if y_next > best_y:\n",
    "        best_y = y_next\n",
    "        best_x = x1,x2\n",
    "\n",
    "\n",
    "    y_next = torch.tensor(y_next).unsqueeze(-1)\n",
    "\n",
    "    train_X = torch.cat([train_X,candidate])\n",
    "    train_Y = torch.cat([train_Y,y_next.unsqueeze(-1)])\n",
    "    candidate_list.append(candidate) \n",
    "    best_x_list.append(best_x)\n",
    "    #print(f\"Next point: {candidate} \\n Next Y {y_next}  Best_y, {best_y}\")\n",
    "    #print(f\"beta :{beta} noise_level :{noise_level}\")\n",
    "    #print(f\"Next point: {candidate} \\n Next Y {y_next}\")\n",
    "    #print(f\"best_x:{best_x}Best_y,{best_y}\")\n",
    "    "
   ]
  },
  {
   "cell_type": "code",
   "execution_count": 16,
   "id": "a1c2fdd1",
   "metadata": {},
   "outputs": [
    {
     "data": {
      "text/plain": [
       "[tensor([[0.6357, 0.1686]]),\n",
       " tensor([[0.8352, 0.2574]]),\n",
       " tensor([[0.8784, 0.5120]]),\n",
       " tensor([[0.7342, 0.9178]]),\n",
       " tensor([[0.8999, 0.5900]])]"
      ]
     },
     "execution_count": 16,
     "metadata": {},
     "output_type": "execute_result"
    }
   ],
   "source": [
    "candidate_list"
   ]
  },
  {
   "cell_type": "code",
   "execution_count": 17,
   "id": "039b18df",
   "metadata": {},
   "outputs": [
    {
     "data": {
      "text/plain": [
       "[tensor([0.6316, 0.6362], dtype=torch.float64),\n",
       " tensor([0.6316, 0.6362], dtype=torch.float64),\n",
       " tensor([0.6316, 0.6362], dtype=torch.float64),\n",
       " tensor([0.6316, 0.6362], dtype=torch.float64),\n",
       " tensor([0.6316, 0.6362], dtype=torch.float64)]"
      ]
     },
     "execution_count": 17,
     "metadata": {},
     "output_type": "execute_result"
    }
   ],
   "source": [
    "best_x_list"
   ]
  },
  {
   "cell_type": "code",
   "execution_count": 39,
   "id": "1b086369",
   "metadata": {},
   "outputs": [
    {
     "data": {
      "text/plain": [
       "[tensor([[0.8565, 0.4396]]),\n",
       " tensor([[0.2769, 0.5835]]),\n",
       " tensor([[0.5761, 0.5033]])]"
      ]
     },
     "execution_count": 39,
     "metadata": {},
     "output_type": "execute_result"
    }
   ],
   "source": [
    "candidate_list"
   ]
  },
  {
   "cell_type": "code",
   "execution_count": 40,
   "id": "b9021e8f",
   "metadata": {},
   "outputs": [
    {
     "data": {
      "text/plain": [
       "[(0.8564834594726562, 0.43957212567329407),\n",
       " (0.8564834594726562, 0.43957212567329407),\n",
       " (0.8564834594726562, 0.43957212567329407)]"
      ]
     },
     "execution_count": 40,
     "metadata": {},
     "output_type": "execute_result"
    }
   ],
   "source": [
    "best_x_list"
   ]
  },
  {
   "cell_type": "code",
   "execution_count": 42,
   "id": "8ced7ca8",
   "metadata": {},
   "outputs": [
    {
     "data": {
      "text/plain": [
       "[(0.49093690514564514, 0.0673556923866272),\n",
       " (0.49093690514564514, 0.0673556923866272),\n",
       " (0.5164217352867126, 0.031376034021377563)]"
      ]
     },
     "execution_count": 42,
     "metadata": {},
     "output_type": "execute_result"
    }
   ],
   "source": [
    "best_x_list"
   ]
  },
  {
   "cell_type": "code",
   "execution_count": 46,
   "id": "a0e4000c",
   "metadata": {},
   "outputs": [
    {
     "data": {
      "text/plain": [
       "[tensor([0.5965, 0.6141], dtype=torch.float64),\n",
       " tensor([0.5965, 0.6141], dtype=torch.float64),\n",
       " tensor([0.5965, 0.6141], dtype=torch.float64)]"
      ]
     },
     "execution_count": 46,
     "metadata": {},
     "output_type": "execute_result"
    }
   ],
   "source": [
    "best_x_list"
   ]
  },
  {
   "cell_type": "code",
   "execution_count": 57,
   "id": "26cca573",
   "metadata": {},
   "outputs": [
    {
     "data": {
      "text/plain": [
       "[tensor([0.6094, 0.6051], dtype=torch.float64),\n",
       " tensor([0.6094, 0.6051], dtype=torch.float64),\n",
       " tensor([0.6094, 0.6051], dtype=torch.float64),\n",
       " tensor([0.6094, 0.6051], dtype=torch.float64),\n",
       " tensor([0.6094, 0.6051], dtype=torch.float64)]"
      ]
     },
     "execution_count": 57,
     "metadata": {},
     "output_type": "execute_result"
    }
   ],
   "source": [
    "best_x_list"
   ]
  },
  {
   "cell_type": "code",
   "execution_count": 58,
   "id": "01519ee6",
   "metadata": {},
   "outputs": [
    {
     "data": {
      "text/plain": [
       "[tensor([[0.4465, 0.7681]]),\n",
       " tensor([[0.3890, 0.8014]]),\n",
       " tensor([[0.7310, 0.4068]]),\n",
       " tensor([[0.6135, 0.5706]]),\n",
       " tensor([[0.7884, 0.7705]])]"
      ]
     },
     "execution_count": 58,
     "metadata": {},
     "output_type": "execute_result"
    }
   ],
   "source": [
    "candidate_list"
   ]
  },
  {
   "cell_type": "code",
   "execution_count": null,
   "id": "6ece153e",
   "metadata": {},
   "outputs": [],
   "source": [
    "beta :1.6262626262626263 noise_level :1.0\n",
    "Next point: tensor([[0.6094, 0.6051]]) \n",
    " Next Y tensor([0.4208], dtype=torch.float64)\n",
    "best_x:(0.6093829870223999, 0.6050794124603271)Best_y,0.4208345751761849"
   ]
  }
 ],
 "metadata": {
  "kernelspec": {
   "display_name": "Python 3 (ipykernel)",
   "language": "python",
   "name": "python3"
  },
  "language_info": {
   "codemirror_mode": {
    "name": "ipython",
    "version": 3
   },
   "file_extension": ".py",
   "mimetype": "text/x-python",
   "name": "python",
   "nbconvert_exporter": "python",
   "pygments_lexer": "ipython3",
   "version": "3.10.6"
  }
 },
 "nbformat": 4,
 "nbformat_minor": 5
}
