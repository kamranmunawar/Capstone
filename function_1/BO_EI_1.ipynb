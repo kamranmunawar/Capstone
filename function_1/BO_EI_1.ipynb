{
 "cells": [
  {
   "cell_type": "markdown",
   "id": "86c46cba",
   "metadata": {},
   "source": [
    "\n",
    "**Function 1:**\n",
    "\n",
    "Searching for Contamination Sources. This may sound simple because you only have a two-dimensional input, however it is a very difficult problem. It corresponds to trying to find the source of radiation in some square area. However, you can only detect the radiation once you are very close to it, meaning most of the readings will be zero. **There are two sources, one is not too dangerous, so make sure you try to find both modes of the function.***"
   ]
  },
  {
   "cell_type": "code",
   "execution_count": 34,
   "id": "14c1d7cd",
   "metadata": {},
   "outputs": [],
   "source": [
    "from sklearn.gaussian_process import GaussianProcessRegressor\n",
    "from scipy.stats import norm\n",
    "from scipy.optimize import minimize\n",
    "import sys\n",
    "import pandas as pd\n",
    "import numpy as np\n",
    "import matplotlib.pyplot as plt"
   ]
  },
  {
   "cell_type": "code",
   "execution_count": 35,
   "id": "4ca1309f",
   "metadata": {},
   "outputs": [],
   "source": [
    "f1_inputs = np.load(\"initial_inputs1.npy\")\n",
    "f1_outputs = np.load(\"initial_outputs1.npy\")\n",
    "f1_inputs_2 = np.load(\"initial_inputs2.npy\")\n",
    "f1_outputs_2 = np.load(\"initial_outputs2.npy\")"
   ]
  },
  {
   "cell_type": "code",
   "execution_count": 36,
   "id": "74de1aa2",
   "metadata": {},
   "outputs": [],
   "source": [
    "f1_inputs = np.concatenate((f1_inputs, f1_inputs_2)) \n",
    "f1_inputs = np.concatenate((f1_inputs, np.array([[0.201607 , 0.5658698]]))) \n",
    "f1_inputs = np.concatenate((f1_inputs, np.array([[0.785688, 0.49287]]))) \n",
    "f1_inputs = np.concatenate((f1_inputs, np.array([[0.701023, 0.702999]]))) \n",
    "f1_inputs = np.concatenate((f1_inputs, np.array([[0.767155, 0.801202]]))) \n",
    "f1_inputs = np.concatenate((f1_inputs, np.array([[0.756262, 0.621414]]))) \n",
    "f1_inputs = np.concatenate((f1_inputs, np.array([[0.721023, 0.682999]]))) \n",
    "f1_inputs = np.concatenate((f1_inputs, np.array([[0.707689, 0.722999]]))) \n",
    "f1_inputs = np.concatenate((f1_inputs, np.array([[0.716578, 0.705221]]))) \n",
    "f1_inputs = np.concatenate((f1_inputs, np.array([[0.703245, 0.682999]]))) \n",
    "f1_inputs = np.concatenate((f1_inputs, np.array([[0.609401, 0.605101]]))) \n",
    "f1_inputs = np.concatenate((f1_inputs, np.array([[0.629401, 0.589545]]))) \n",
    "f1_inputs = np.concatenate((f1_inputs, np.array([[0.629401, 0.616212]]))) \n",
    "f1_inputs = np.concatenate((f1_inputs, np.array([[0.649401, 0.622878]]))) \n",
    "f1_inputs = np.concatenate((f1_inputs, np.array([[0.631623, 0.636212]]))) \n",
    "f1_inputs = np.concatenate((f1_inputs, np.array([[0.611623, 0.656212]]))) \n",
    "f1_inputs = np.concatenate((f1_inputs, np.array([[0.642734, 0.616212]]))) \n",
    "f1_inputs = np.concatenate((f1_inputs, np.array([[0.651623, 0.620656]]))) \n",
    "f1_inputs = np.concatenate((f1_inputs, np.array([[0.642734, 0.616212]]))) \n",
    "\n",
    "f1_outputs = np.concatenate((f1_outputs,f1_outputs_2))\n",
    "f1_outputs = np.append(f1_outputs,-5.9027047474104416e-49)\n",
    "f1_outputs = np.append(f1_outputs,1.4694233057027134e-30)\n",
    "f1_outputs = np.append(f1_outputs,6.013687404741693e-08)\n",
    "f1_outputs = np.append(f1_outputs,1.029025518149088e-34)\n",
    "f1_outputs = np.append(f1_outputs,3.1568882670317357e-12)\n",
    "f1_outputs = np.append(f1_outputs,9.594441158769377e-09)\n",
    "f1_outputs = np.append(f1_outputs,4.4984959147048566e-11)\n",
    "f1_outputs = np.append(f1_outputs,6.25317474883913e-10)\n",
    "f1_outputs = np.append(f1_outputs,1.2990004780975896e-06)\n",
    "f1_outputs = np.append(f1_outputs,0.1971687803797823)\n",
    "f1_outputs = np.append(f1_outputs,0.0019282695144167755)\n",
    "f1_outputs = np.append(f1_outputs,1.378994567184674)\n",
    "f1_outputs = np.append(f1_outputs,0.6197596252221214)\n",
    "f1_outputs = np.append(f1_outputs,1.6960217184989461)\n",
    "f1_outputs = np.append(f1_outputs,0.12963516015284113)\n",
    "f1_outputs = np.append(f1_outputs,0.8437573006254239)\n",
    "f1_outputs = np.append(f1_outputs,0.4426566990166618)\n",
    "f1_outputs = np.append(f1_outputs,0.8437573006254239)\n"
   ]
  },
  {
   "cell_type": "code",
   "execution_count": 37,
   "id": "4481a3f2",
   "metadata": {},
   "outputs": [
    {
     "name": "stdout",
     "output_type": "stream",
     "text": [
      "[0.649401 0.622878]\n"
     ]
    }
   ],
   "source": [
    "X_max= f1_inputs[np.argmax((f1_outputs))]\n",
    "print(X_max)"
   ]
  },
  {
   "cell_type": "code",
   "execution_count": 38,
   "id": "39b24bb1",
   "metadata": {},
   "outputs": [
    {
     "name": "stdout",
     "output_type": "stream",
     "text": [
      "0.6197596252221214\n"
     ]
    }
   ],
   "source": [
    "Y_max= f1_outputs[np.argmax((f1_outputs))]\n",
    "print(Y_max)"
   ]
  },
  {
   "cell_type": "code",
   "execution_count": 42,
   "id": "8f82cae0",
   "metadata": {},
   "outputs": [],
   "source": [
    "import math\n",
    "def costly_function(x):\n",
    "    total = np.array([])\n",
    "    for x_i in x:\n",
    "         total = np.append(total, np.sum(np.exp(-(x_i - 5) ** 2)))\n",
    "    return total  + np.random.randn()"
   ]
  },
  {
   "cell_type": "code",
   "execution_count": 46,
   "id": "f70cd50f",
   "metadata": {},
   "outputs": [],
   "source": [
    "class BayesianOptimizer():\n",
    "      \n",
    "    def __init__(self, target_func, x_init, y_init, n_iter, scale, batch_size):\n",
    "        self.x_init = x_init\n",
    "        self.y_init = y_init\n",
    "        self.target_func = target_func\n",
    "        self.n_iter = n_iter\n",
    "        self.scale = scale\n",
    "        self.batch_size = batch_size\n",
    "        self.gauss_pr = GaussianProcessRegressor()\n",
    "        self.best_samples_ = pd.DataFrame(columns = ['x', 'y', 'ei'])\n",
    "        self.distances_ = []\n",
    "        \n",
    "    def _get_expected_improvement(self, x_new):\n",
    "\n",
    "        # Using estimate from Gaussian surrogate instead of actual function for \n",
    "        # a new trial data point to avoid cost \n",
    " \n",
    "        mean_y_new, sigma_y_new = self.gauss_pr.predict(np.array([x_new]), return_std=True)\n",
    "        sigma_y_new = sigma_y_new.reshape(-1,1)\n",
    "        if sigma_y_new == 0.0:\n",
    "            return 0.0\n",
    "        \n",
    "        # Using estimates from Gaussian surrogate instead of actual function for \n",
    "        # entire prior distribution to avoid cost\n",
    "        \n",
    "        mean_y = self.gauss_pr.predict(self.x_init)\n",
    "        max_mean_y = np.max(mean_y)-0.001\n",
    "        z = (mean_y_new - max_mean_y) / sigma_y_new\n",
    "        exp_imp = (mean_y_new - max_mean_y) * norm.cdf(z) + sigma_y_new * norm.pdf(z)\n",
    "        \n",
    "        return exp_imp\n",
    "    def _acquisition_function(self, x):\n",
    "        return -self._get_expected_improvement(x)\n",
    "    \n",
    "    def _get_next_probable_point(self):\n",
    "            min_ei = float(sys.maxsize)\n",
    "            x_optimal = None \n",
    "            \n",
    "            # Trial with an array of random data points\n",
    "            \n",
    "            for x_start in np.random.uniform(low=0.1, high=0.99, size=(1,2)):\n",
    "                response = minimize(fun=self._acquisition_function, x0=x_start, method='L-BFGS-B')\n",
    "                if response.fun < min_ei:\n",
    "                    min_ei = response.fun\n",
    "                    x_optimal = response.x\n",
    "            \n",
    "            return x_optimal, min_ei\n",
    "    def _extend_prior_with_posterior_data(self, x,y):\n",
    "        self.x_init = np.append(self.x_init, np.array([x]), axis = 0)\n",
    "        self.y_init = np.append(self.y_init, np.array(y), axis = 0)\n",
    "        \n",
    "    def optimize(self):\n",
    "        y_max_ind = np.argmax(self.y_init)\n",
    "        y_max = self.y_init[y_max_ind]\n",
    "        optimal_x = self.x_init[y_max_ind]\n",
    "        optimal_ei = None\n",
    "        for i in range(self.n_iter):\n",
    "            self.gauss_pr.fit(self.x_init, self.y_init)\n",
    "            x_next, ei = self._get_next_probable_point()\n",
    "            y_next = self.target_func(np.array([x_next]))\n",
    "            self._extend_prior_with_posterior_data(x_next,y_next)\n",
    "            \n",
    "            if y_next[0] > y_max:\n",
    "                y_max = y_next[0]\n",
    "                optimal_x = x_next\n",
    "                optimal_ei = ei\n",
    "\n",
    "            if i == 0:\n",
    "                 prev_x = x_next\n",
    "            else:\n",
    "                self.distances_.append(np.linalg.norm(prev_x - x_next))\n",
    "                prev_x = x_next\n",
    "            tmpdf = pd.DataFrame({\"y\": y_max, \"ei\": optimal_ei},index=[1])\n",
    "            #self.best_samples_ = self.best_samples_.append({\"y\": y_max, \"ei\": optimal_ei},ignore_index=True)\n",
    "            self.best_samples_ =pd.concat([self.best_samples_ ,tmpdf],ignore_index = True)\n",
    "        \n",
    "        return optimal_x, y_max\n",
    "  \n",
    "  \n",
    "        "
   ]
  },
  {
   "cell_type": "code",
   "execution_count": 47,
   "id": "ccf9a5d4",
   "metadata": {},
   "outputs": [],
   "source": [
    "sample_x = f1_inputs\n",
    "sample_y = f1_outputs"
   ]
  },
  {
   "cell_type": "code",
   "execution_count": 48,
   "id": "7cdcee94",
   "metadata": {},
   "outputs": [
    {
     "data": {
      "text/plain": [
       "(array([0.55855969, 0.23238164]), 2.2455688694697127)"
      ]
     },
     "execution_count": 48,
     "metadata": {},
     "output_type": "execute_result"
    }
   ],
   "source": [
    "bopt = BayesianOptimizer(target_func=costly_function, x_init=sample_x, y_init=sample_y, n_iter=200, scale=10, batch_size=30)\n",
    "bopt.optimize()"
   ]
  },
  {
   "cell_type": "code",
   "execution_count": 10,
   "id": "3b78fc2e",
   "metadata": {},
   "outputs": [],
   "source": [
    "#(array([0.21282251, 0.98147054]), 2.708183766327179)\n",
    "#(array([0.80370727, 0.75831683]), 3.2487751185572926)\n",
    "#(array([0.76715593, 0.80120279]), 2.6396537939477724)"
   ]
  },
  {
   "cell_type": "code",
   "execution_count": 13,
   "id": "fd56a17d",
   "metadata": {},
   "outputs": [
    {
     "data": {
      "text/plain": [
       "array([[0.31940389, 0.76295937],\n",
       "       [0.57432921, 0.8798981 ],\n",
       "       [0.73102363, 0.73299988],\n",
       "       [0.84035342, 0.26473161],\n",
       "       [0.65011406, 0.68152635],\n",
       "       [0.41043714, 0.1475543 ],\n",
       "       [0.31269116, 0.07872278],\n",
       "       [0.68341817, 0.86105746],\n",
       "       [0.08250725, 0.40348751],\n",
       "       [0.88388983, 0.58225397],\n",
       "       [0.90048221, 0.46996691],\n",
       "       [0.86243528, 0.4352856 ],\n",
       "       [0.09311333, 0.31520745],\n",
       "       [0.48975434, 0.16844847],\n",
       "       [0.90132685, 0.67366454],\n",
       "       [0.32101719, 0.63497061],\n",
       "       [0.32044659, 0.42030664],\n",
       "       [0.63861791, 0.73839723],\n",
       "       [0.59648578, 0.61407967],\n",
       "       [0.48366726, 0.31942835],\n",
       "       [0.96227495, 0.90831843],\n",
       "       [0.46937596, 0.55313941],\n",
       "       [0.06938944, 0.62671938],\n",
       "       [0.59640851, 0.81673367],\n",
       "       [0.1409109 , 0.3179331 ],\n",
       "       [0.58653471, 0.20732755],\n",
       "       [0.61533925, 0.18320905],\n",
       "       [0.9068703 , 0.76151747],\n",
       "       [0.58038966, 0.57243686],\n",
       "       [0.55684911, 0.58265192],\n",
       "       [0.201607  , 0.5658698 ],\n",
       "       [0.785688  , 0.49287   ],\n",
       "       [0.701023  , 0.702999  ],\n",
       "       [0.767155  , 0.801202  ],\n",
       "       [0.756262  , 0.621414  ],\n",
       "       [0.721023  , 0.682999  ],\n",
       "       [0.707689  , 0.722999  ],\n",
       "       [0.716578  , 0.705221  ],\n",
       "       [0.703245  , 0.682999  ],\n",
       "       [0.609401  , 0.605101  ]])"
      ]
     },
     "execution_count": 13,
     "metadata": {},
     "output_type": "execute_result"
    }
   ],
   "source": [
    "f1_inputs"
   ]
  },
  {
   "cell_type": "code",
   "execution_count": 14,
   "id": "d74ed42a",
   "metadata": {},
   "outputs": [
    {
     "data": {
      "text/plain": [
       "array([ 1.32267704e-079,  1.03307824e-046,  7.71087511e-016,\n",
       "        3.34177101e-124, -3.60606264e-003, -2.15924904e-054,\n",
       "       -2.08909327e-091,  2.53500115e-040,  3.60677119e-081,\n",
       "        6.22985647e-048, -3.23831206e-070, -2.66554974e-065,\n",
       "       -6.53456227e-084,  1.33208482e-048,  2.94212475e-055,\n",
       "        8.33516100e-040, -5.03981978e-008, -2.01007653e-009,\n",
       "        6.59147585e-002,  5.59549084e-011,  4.50954445e-133,\n",
       "       -4.05280070e-015, -7.40958578e-118,  8.49132032e-027,\n",
       "       -8.80550875e-064, -9.89621108e-052, -2.68384158e-067,\n",
       "        1.19343278e-067,  6.90381175e-005,  4.65270195e-006,\n",
       "       -5.90270475e-049,  1.46942331e-030,  6.01368740e-008,\n",
       "        1.02902552e-034,  3.15688827e-012,  9.59444116e-009,\n",
       "        4.49849591e-011,  6.25317475e-010,  1.29900048e-006,\n",
       "        1.97168780e-001])"
      ]
     },
     "execution_count": 14,
     "metadata": {},
     "output_type": "execute_result"
    }
   ],
   "source": [
    "f1_outputs"
   ]
  },
  {
   "cell_type": "code",
   "execution_count": 13,
   "id": "3d0e2dfe",
   "metadata": {},
   "outputs": [
    {
     "data": {
      "image/png": "[encoded data removed]",
      "text/plain": [
       "<Figure size 1200x600 with 2 Axes>"
      ]
     },
     "metadata": {},
     "output_type": "display_data"
    }
   ],
   "source": [
    "fig, ax = plt.subplots(1,2,figsize = (12,6))\n",
    "ax[0].scatter(f1_inputs[:,0],f1_outputs)\n",
    "ax[1].scatter(f1_inputs[:,1],f1_outputs)\n",
    "plt.show()"
   ]
  },
  {
   "cell_type": "code",
   "execution_count": null,
   "id": "6b5983b5",
   "metadata": {},
   "outputs": [],
   "source": []
  }
 ],
 "metadata": {
  "kernelspec": {
   "display_name": "Python 3 (ipykernel)",
   "language": "python",
   "name": "python3"
  },
  "language_info": {
   "codemirror_mode": {
    "name": "ipython",
    "version": 3
   },
   "file_extension": ".py",
   "mimetype": "text/x-python",
   "name": "python",
   "nbconvert_exporter": "python",
   "pygments_lexer": "ipython3",
   "version": "3.10.6"
  }
 },
 "nbformat": 4,
 "nbformat_minor": 5
}
