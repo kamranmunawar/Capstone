{
 "cells": [
  {
   "cell_type": "code",
   "execution_count": 78,
   "id": "064d1060",
   "metadata": {},
   "outputs": [],
   "source": [
    "import numpy as np\n",
    "import matplotlib.pyplot as plt\n",
    "from IPython.display import clear_output\n",
    "from sklearn.gaussian_process import GaussianProcessRegressor\n",
    "from sklearn.gaussian_process.kernels import RBF\n",
    "from statistics import NormalDist"
   ]
  },
  {
   "cell_type": "code",
   "execution_count": 79,
   "id": "8d9b4a51",
   "metadata": {},
   "outputs": [],
   "source": [
    "f1_inputs = np.load(\"initial_inputs1.npy\")\n",
    "f1_outputs = np.load(\"initial_outputs1.npy\")\n",
    "f1_inputs_2 = np.load(\"initial_inputs2.npy\")\n",
    "f1_outputs_2 = np.load(\"initial_outputs2.npy\")"
   ]
  },
  {
   "cell_type": "code",
   "execution_count": 80,
   "id": "8e5ce6f1",
   "metadata": {},
   "outputs": [],
   "source": [
    "f1_inputs = np.concatenate((f1_inputs, f1_inputs_2)) \n",
    "f1_inputs = np.concatenate((f1_inputs, np.array([[0.201607 , 0.5658698]]))) \n",
    "f1_inputs = np.concatenate((f1_inputs, np.array([[0.785688, 0.49287]]))) \n",
    "f1_inputs = np.concatenate((f1_inputs, np.array([[0.701023, 0.702999]]))) \n",
    "f1_inputs = np.concatenate((f1_inputs, np.array([[0.767155, 0.801202]]))) \n",
    "f1_inputs = np.concatenate((f1_inputs, np.array([[0.756262, 0.621414]]))) \n",
    "f1_inputs = np.concatenate((f1_inputs, np.array([[0.721023, 0.682999]]))) \n",
    "f1_inputs = np.concatenate((f1_inputs, np.array([[0.707689, 0.722999]]))) \n",
    "f1_inputs = np.conc atenate((f1_inputs, np.array([[0.716578, 0.705221]]))) \n",
    "f1_inputs = np.concatenate((f1_inputs, np.array([[0.703245, 0.682999]]))) \n",
    "f1_inputs = np.concatenate((f1_inputs, np.array([[0.609401, 0.605101]]))) \n",
    "f1_inputs = np.concatenate((f1_inputs, np.array([[0.629401, 0.589545]]))) \n",
    "f1_inputs = np.concatenate((f1_inputs, np.array([[0.629401, 0.616212]]))) \n",
    "f1_inputs = np.concatenate((f1_inputs, np.array([[0.649401, 0.622878]]))) \n",
    "f1_inputs = np.concatenate((f1_inputs, np.array([[0.631623, 0.636212]]))) \n",
    "f1_inputs = np.concatenate((f1_inputs, np.array([[0.611623, 0.656212]]))) \n",
    "f1_inputs = np.concatenate((f1_inputs, np.array([[0.642734, 0.616212]]))) \n",
    "f1_inputs = np.concatenate((f1_inputs, np.array([[0.651623, 0.620656]]))) \n",
    "f1_inputs = np.concatenate((f1_inputs, np.array([[0.642734, 0.616212]]))) \n",
    "\n",
    "f1_outputs = np.concatenate((f1_outputs,f1_outputs_2)) \n",
    "f1_outputs = np.append(f1_outputs,-5.9027047474104416e-49)\n",
    "f1_outputs = np.append(f1_outputs,1.4694233057027134e-30)\n",
    "f1_outputs = np.append(f1_outputs,6.013687404741693e-08)\n",
    "f1_outputs = np.append(f1_outputs,1.029025518149088e-34)\n",
    "f1_outputs = np.append(f1_outputs,3.1568882670317357e-12)\n",
    "f1_outputs = np.append(f1_outputs,9.594441158769377e-09)\n",
    "f1_outputs = np.append(f1_outputs,4.4984959147048566e-11)\n",
    "f1_outputs = np.append(f1_outputs,6.25317474883913e-10)\n",
    "f1_outputs = np.append(f1_outputs,1.2990004780975896e-06)\n",
    "f1_outputs = np.append(f1_outputs,0.1971687803797823)\n",
    "f1_outputs = np.append(f1_outputs,0.0019282695144167755)\n",
    "f1_outputs = np.append(f1_outputs,1.378994567184674)\n",
    "f1_outputs = np.append(f1_outputs,0.6197596252221214)\n",
    "f1_outputs = np.append(f1_outputs,1.6960217184989461)\n",
    "f1_outputs = np.append(f1_outputs,0.12963516015284113)\n",
    "f1_outputs = np.append(f1_outputs,0.8437573006254239)\n",
    "f1_outputs = np.append(f1_outputs,0.4426566990166618)\n",
    "f1_outputs = np.append(f1_outputs,0.8437573006254239)\n"
   ]
  },
  {
   "cell_type": "code",
   "execution_count": 81,
   "id": "fc690ab0",
   "metadata": {},
   "outputs": [
    {
     "name": "stdout",
     "output_type": "stream",
     "text": [
      "[0.631623 0.636212]\n"
     ]
    }
   ],
   "source": [
    "X_max= f1_inputs[np.argmax((f1_outputs))]\n",
    "print(X_max)"
   ]
  },
  {
   "cell_type": "code",
   "execution_count": 82,
   "id": "458a26fd",
   "metadata": {},
   "outputs": [
    {
     "name": "stdout",
     "output_type": "stream",
     "text": [
      "1.6960217184989461\n"
     ]
    }
   ],
   "source": [
    "Y_max= f1_outputs[np.argmax((f1_outputs))]\n",
    "print(Y_max)"
   ]
  },
  {
   "cell_type": "code",
   "execution_count": 83,
   "id": "e957a98c",
   "metadata": {},
   "outputs": [],
   "source": [
    "x1 = np.linspace(0.631623-0.02, 0.631623+0.02, 10)\n",
    "x2 = np.linspace(0.636212-0.02, 0.636212+0.02, 10)\n",
    "\n",
    "X_grid = []\n",
    "for i in range(len(x1)):\n",
    "    for j in range(len(x2)):\n",
    "        X_grid.append([x1[i], x2[j]])\n",
    "X_grid = np.array(X_grid)\n",
    "\n",
    "#0.631623 0.636212\n",
    "#0.629401 0.616212\n",
    "#0.609401 0.605101\n",
    "#0.59648578 0.61407967\n",
    "#0.701023 0.702999"
   ]
  },
  {
   "cell_type": "code",
   "execution_count": 84,
   "id": "dac9ce83",
   "metadata": {},
   "outputs": [
    {
     "data": {
      "text/plain": [
       "array([ 1.32267704e-079,  1.03307824e-046,  7.71087511e-016,\n",
       "        3.34177101e-124, -3.60606264e-003, -2.15924904e-054,\n",
       "       -2.08909327e-091,  2.53500115e-040,  3.60677119e-081,\n",
       "        6.22985647e-048, -3.23831206e-070, -2.66554974e-065,\n",
       "       -6.53456227e-084,  1.33208482e-048,  2.94212475e-055,\n",
       "        8.33516100e-040, -5.03981978e-008, -2.01007653e-009,\n",
       "        6.59147585e-002,  5.59549084e-011,  4.50954445e-133,\n",
       "       -4.05280070e-015, -7.40958578e-118,  8.49132032e-027,\n",
       "       -8.80550875e-064, -9.89621108e-052, -2.68384158e-067,\n",
       "        1.19343278e-067,  6.90381175e-005,  4.65270195e-006,\n",
       "       -5.90270475e-049,  1.46942331e-030,  6.01368740e-008,\n",
       "        1.02902552e-034,  3.15688827e-012,  9.59444116e-009,\n",
       "        4.49849591e-011,  6.25317475e-010,  1.29900048e-006,\n",
       "        1.97168780e-001,  1.92826951e-003,  1.37899457e+000,\n",
       "        6.19759625e-001,  1.69602172e+000,  1.29635160e-001,\n",
       "        8.43757301e-001,  4.42656699e-001,  8.43757301e-001])"
      ]
     },
     "execution_count": 84,
     "metadata": {},
     "output_type": "execute_result"
    }
   ],
   "source": [
    "f1_outputs"
   ]
  },
  {
   "cell_type": "code",
   "execution_count": 85,
   "id": "94342953",
   "metadata": {},
   "outputs": [
    {
     "data": {
      "text/plain": [
       "array([[0.31940389, 0.76295937],\n",
       "       [0.57432921, 0.8798981 ],\n",
       "       [0.73102363, 0.73299988],\n",
       "       [0.84035342, 0.26473161],\n",
       "       [0.65011406, 0.68152635],\n",
       "       [0.41043714, 0.1475543 ],\n",
       "       [0.31269116, 0.07872278],\n",
       "       [0.68341817, 0.86105746],\n",
       "       [0.08250725, 0.40348751],\n",
       "       [0.88388983, 0.58225397],\n",
       "       [0.90048221, 0.46996691],\n",
       "       [0.86243528, 0.4352856 ],\n",
       "       [0.09311333, 0.31520745],\n",
       "       [0.48975434, 0.16844847],\n",
       "       [0.90132685, 0.67366454],\n",
       "       [0.32101719, 0.63497061],\n",
       "       [0.32044659, 0.42030664],\n",
       "       [0.63861791, 0.73839723],\n",
       "       [0.59648578, 0.61407967],\n",
       "       [0.48366726, 0.31942835],\n",
       "       [0.96227495, 0.90831843],\n",
       "       [0.46937596, 0.55313941],\n",
       "       [0.06938944, 0.62671938],\n",
       "       [0.59640851, 0.81673367],\n",
       "       [0.1409109 , 0.3179331 ],\n",
       "       [0.58653471, 0.20732755],\n",
       "       [0.61533925, 0.18320905],\n",
       "       [0.9068703 , 0.76151747],\n",
       "       [0.58038966, 0.57243686],\n",
       "       [0.55684911, 0.58265192],\n",
       "       [0.201607  , 0.5658698 ],\n",
       "       [0.785688  , 0.49287   ],\n",
       "       [0.701023  , 0.702999  ],\n",
       "       [0.767155  , 0.801202  ],\n",
       "       [0.756262  , 0.621414  ],\n",
       "       [0.721023  , 0.682999  ],\n",
       "       [0.707689  , 0.722999  ],\n",
       "       [0.716578  , 0.705221  ],\n",
       "       [0.703245  , 0.682999  ],\n",
       "       [0.609401  , 0.605101  ],\n",
       "       [0.629401  , 0.589545  ],\n",
       "       [0.629401  , 0.616212  ],\n",
       "       [0.649401  , 0.622878  ],\n",
       "       [0.631623  , 0.636212  ],\n",
       "       [0.611623  , 0.656212  ],\n",
       "       [0.642734  , 0.616212  ],\n",
       "       [0.651623  , 0.620656  ],\n",
       "       [0.642734  , 0.616212  ]])"
      ]
     },
     "execution_count": 85,
     "metadata": {},
     "output_type": "execute_result"
    }
   ],
   "source": [
    "f1_inputs"
   ]
  },
  {
   "cell_type": "code",
   "execution_count": 86,
   "id": "9cca4283",
   "metadata": {},
   "outputs": [],
   "source": [
    "x_input = f1_inputs"
   ]
  },
  {
   "cell_type": "code",
   "execution_count": 87,
   "id": "83884060",
   "metadata": {},
   "outputs": [],
   "source": [
    "y_input = f1_outputs"
   ]
  },
  {
   "cell_type": "code",
   "execution_count": 88,
   "id": "313e7790",
   "metadata": {},
   "outputs": [],
   "source": [
    "noise_assumption = 1e-10\n",
    "rbf_lengthscale = 0.9\n",
    "beta = 0.001\n",
    "\n",
    "\n",
    "variable_value = np.linspace(0.001, 0.09, 10)\n",
    "#variable_value = np.linspace(0.1, 0.9, 100)\n",
    "#variable_value = np.linspace(1, 3, 100)\n",
    "#variable_value = np.linspace(1, 50, 100)\n",
    "result = []\n",
    "for i in range(len(variable_value)):\n",
    "    #beta = variable_value[i]\n",
    "    kernel = RBF(length_scale=rbf_lengthscale, length_scale_bounds='fixed')\n",
    "    model = GaussianProcessRegressor(kernel = kernel, alpha=noise_assumption)\n",
    "    model.fit(np.array(x_input),np.array(y_input))\n",
    "    post_mean, post_std = model.predict(np.array(X_grid), return_std=True)\n",
    "    post_mean, post_std = post_mean.squeeze(), post_std.squeeze()\n",
    "    acquisition_function = post_mean + beta* post_std\n",
    "    result.append([variable_value[i],[X_grid[np.argmax(acquisition_function)]]])\n",
    "    \n",
    "    "
   ]
  },
  {
   "cell_type": "code",
   "execution_count": 89,
   "id": "005f26ae",
   "metadata": {},
   "outputs": [
    {
     "data": {
      "text/plain": [
       "[[0.001, [array([0.651623, 0.616212])]],\n",
       " [0.010888888888888889, [array([0.651623, 0.616212])]],\n",
       " [0.020777777777777777, [array([0.651623, 0.616212])]],\n",
       " [0.030666666666666665, [array([0.651623, 0.616212])]],\n",
       " [0.04055555555555555, [array([0.651623, 0.616212])]],\n",
       " [0.050444444444444445, [array([0.651623, 0.616212])]],\n",
       " [0.06033333333333333, [array([0.651623, 0.616212])]],\n",
       " [0.07022222222222221, [array([0.651623, 0.616212])]],\n",
       " [0.0801111111111111, [array([0.651623, 0.616212])]],\n",
       " [0.09, [array([0.651623, 0.616212])]]]"
      ]
     },
     "execution_count": 89,
     "metadata": {},
     "output_type": "execute_result"
    }
   ],
   "source": [
    "result"
   ]
  },
  {
   "cell_type": "code",
   "execution_count": null,
   "id": "35bcfcc6",
   "metadata": {},
   "outputs": [],
   "source": []
  }
 ],
 "metadata": {
  "kernelspec": {
   "display_name": "Python 3 (ipykernel)",
   "language": "python",
   "name": "python3"
  },
  "language_info": {
   "codemirror_mode": {
    "name": "ipython",
    "version": 3
   },
   "file_extension": ".py",
   "mimetype": "text/x-python",
   "name": "python",
   "nbconvert_exporter": "python",
   "pygments_lexer": "ipython3",
   "version": "3.10.6"
  }
 },
 "nbformat": 4,
 "nbformat_minor": 5
}
