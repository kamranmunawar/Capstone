{
 "cells": [
  {
   "cell_type": "code",
   "execution_count": 1,
   "id": "1bc869a6",
   "metadata": {},
   "outputs": [],
   "source": [
    "import torch \n",
    "import numpy as np\n",
    "from botorch.models import SingleTaskGP\n",
    "from botorch  import fit_gpytorch_model\n",
    "\n",
    "from botorch.fit import fit_gpytorch_mll\n",
    "from gpytorch.mlls import ExactMarginalLogLikelihood\n",
    "from botorch.acquisition import UpperConfidenceBound\n",
    "from botorch.acquisition.monte_carlo import qExpectedImprovement\n",
    "\n",
    "from botorch.optim import optimize_acqf\n",
    "\n",
    "from sklearn.gaussian_process import GaussianProcessRegressor\n",
    "from scipy.stats import norm\n",
    "from scipy.optimize import minimize\n",
    "import sys\n",
    "import pandas as pd\n",
    "import numpy as np\n",
    "import matplotlib.pyplot as plt\n",
    "from sklearn.gaussian_process.kernels import RBF\n"
   ]
  },
  {
   "cell_type": "code",
   "execution_count": 2,
   "id": "506496a7",
   "metadata": {},
   "outputs": [],
   "source": [
    "f5_inputs = np.load(\"initial_inputs.npy\")\n",
    "f5_outputs = np.load(\"initial_outputs.npy\")\n",
    "f5_inputs_2 = np.load(\"initial_inputs2.npy\")\n",
    "f5_outputs_2 = np.load(\"initial_outputs2.npy\")"
   ]
  },
  {
   "cell_type": "code",
   "execution_count": 3,
   "id": "d39b4dbc",
   "metadata": {},
   "outputs": [],
   "source": [
    "f5_inputs = np.concatenate((f5_inputs, f5_inputs_2)) \n",
    "f5_inputs = np.concatenate((f5_inputs, np.array([[0.329622, 0.319559, 0.335951, 0.275429]]))) \n",
    "f5_inputs = np.concatenate((f5_inputs, np.array([[0.630732, 0.255243, 0.163612, 0.663668]]))) \n",
    "f5_inputs = np.concatenate((f5_inputs, np.array([[0.136884, 0.175429, 0.750162, 0.240518]]))) \n",
    "f5_inputs = np.concatenate((f5_inputs, np.array([[0.156884, 0.185429, 0.730162, 0.834869]]))) \n",
    "f5_inputs = np.concatenate((f5_inputs, np.array([[0.221966, 0.848702, 0.877261, 0.876293]]))) \n",
    "f5_inputs = np.concatenate((f5_inputs, np.array([[0.2353  , 0.835369, 0.890595, 0.889626]]))) \n",
    "f5_inputs = np.concatenate((f5_inputs, np.array([[0.255301, 0.815369, 0.910595, 0.909626]]))) \n",
    "f5_inputs = np.concatenate((f5_inputs, np.array([[0.275301, 0.795369, 0.930595, 0.929626]]))) \n",
    "f5_inputs = np.concatenate((f5_inputs, np.array([[0.295301, 0.775369, 0.950595, 0.949626]]))) \n",
    "f5_inputs = np.concatenate((f5_inputs, np.array([[0.30362 , 0.92081 , 0.951794, 0.890271]]))) \n",
    "f5_inputs = np.concatenate((f5_inputs, np.array([[0.30362 , 0.956366, 0.956239, 0.872493]]))) \n",
    "f5_inputs = np.concatenate((f5_inputs, np.array([[0.288064, 0.967477, 0.954016, 0.856937]]))) \n",
    "f5_inputs = np.concatenate((f5_inputs, np.array([[0.305842, 0.976366, 0.962905, 0.87027]]))) \n",
    "f5_inputs = np.concatenate((f5_inputs, np.array([[0.290286, 0.996366, 0.982905, 0.890271]]))) \n",
    "f5_inputs = np.concatenate((f5_inputs, np.array([[0.283619, 0.996366, 0.994016, 0.905826]]))) \n",
    "f5_inputs = np.concatenate((f5_inputs, np.array([[0.285841, 0.987477, 0.994016, 0.925826]]))) \n",
    "f5_inputs = np.concatenate((f5_inputs, np.array([[0.283618, 0.985544, 0.999999, 0.936937]]))) \n",
    "f5_inputs = np.concatenate((f5_inputs, np.array([[0.281395, 0.978877, 0.999999, 0.956937]]))) \n",
    "\n",
    "f5_outputs = np.concatenate((f5_outputs,f5_outputs_2))\n",
    "f5_outputs = np.append(f5_outputs,131.1962333718706)\n",
    "f5_outputs = np.append(f5_outputs,8.319139067926972)\n",
    "f5_outputs = np.append(f5_outputs,15.916258413112816)\n",
    "f5_outputs = np.append(f5_outputs,65.62143113848653)\n",
    "f5_outputs = np.append(f5_outputs,1077.2793665718714)\n",
    "f5_outputs = np.append(f5_outputs,1151.2287899694788)\n",
    "f5_outputs = np.append(f5_outputs,1283.9813760530844)\n",
    "f5_outputs = np.append(f5_outputs,1446.3325506169003)\n",
    "f5_outputs = np.append(f5_outputs,1642.712076836066)\n",
    "f5_outputs = np.append(f5_outputs,2043.5758440370957)\n",
    "f5_outputs = np.append(f5_outputs,2246.9353067103452)\n",
    "f5_outputs = np.append(f5_outputs,2221.1489548557843)\n",
    "f5_outputs = np.append(f5_outputs,2475.0054048920615)\n",
    "f5_outputs = np.append(f5_outputs,3030.1696296258147)\n",
    "f5_outputs = np.append(f5_outputs,3286.085078568141)\n",
    "f5_outputs = np.append(f5_outputs,3367.83461018011)\n",
    "f5_outputs = np.append(f5_outputs,3526.9798701929503)\n",
    "f5_outputs = np.append(f5_outputs,3659.8420356222346)\n"
   ]
  },
  {
   "cell_type": "code",
   "execution_count": 4,
   "id": "b13c45be",
   "metadata": {},
   "outputs": [],
   "source": [
    "variable_value = np.linspace(1, 10,10)\n",
    "n_dims = 4\n",
    "beta =0.001# 1.1818181818181819\n",
    "np.random.seed(42)\n",
    "train_X = torch.tensor(f5_inputs)\n",
    "train_Y = torch.tensor(f5_outputs).reshape(len(f5_outputs),-1)\n",
    "best_y = np.max(train_Y.numpy())\n",
    "best_x = train_X[np.argmax(train_Y.numpy())]\n",
    "noise_level =0.001#  100 #1.2727272727272727\n",
    "candidate_list = []\n",
    "best_x_list = []\n",
    "\n",
    "for i in range(len(variable_value)):\n",
    "    #noise_level = variable_value[i]\n",
    "   \n",
    "    def function_7(x1,x2,x3,x4, noise_level=noise_level):\n",
    "            return np.sin(5 * x1+4*x2) * (1 - np.tanh(x1 ** 2) - np.tanh(x2)) + \\\n",
    "            np.sin(1 * x3+4*x4) * (1 - np.tanh(x3 ** 2) - np.tanh(x4)) + \\\n",
    "              + np.random.randn() * noise_level\n",
    "\n",
    "    \n",
    "    gp = SingleTaskGP(train_X, train_Y)\n",
    "    mll = ExactMarginalLogLikelihood(gp.likelihood, gp)\n",
    "    fit_gpytorch_mll(mll)\n",
    "    \n",
    "    EI = qExpectedImprovement(model=gp , best_f=best_y)\n",
    "\n",
    "    #UCB = UpperConfidenceBound(gp, beta=beta)\n",
    "\n",
    "    bounds = torch.stack([torch.zeros(n_dims), torch.ones(n_dims)])\n",
    "    candidate, _  = optimize_acqf(\n",
    "        EI, bounds=bounds, q=1, num_restarts=50, raw_samples=200,\n",
    "    )\n",
    "\n",
    "\n",
    "    x1,x2,x3,x4 = candidate.numpy().ravel().tolist()\n",
    "    # Get the next value for the function from the script\n",
    "\n",
    "    y_next = function_7(x1,x2,x3,x4)\n",
    "\n",
    "    if y_next > best_y:\n",
    "        best_y = y_next\n",
    "        best_x = x1,x2,x3,x4\n",
    "\n",
    "\n",
    "    y_next = torch.tensor(y_next).unsqueeze(-1)\n",
    "\n",
    "    train_X = torch.cat([train_X,candidate])\n",
    "    train_Y = torch.cat([train_Y,y_next.unsqueeze(-1)])\n",
    "    candidate_list.append(candidate) \n",
    "    best_x_list.append(best_x)\n",
    "    #print(f\"Next point: {candidate} \\n Next Y {y_next}  Best_y, {best_y}\")\n",
    "    #print(f\"beta :{beta} noise_level :{noise_level}\")\n",
    "    #print(f\"Next point: {candidate} \\n Next Y {y_next}\")\n",
    "    #print(f\"best_x:{best_x}Best_y,{best_y}\")\n",
    "    "
   ]
  },
  {
   "cell_type": "code",
   "execution_count": 5,
   "id": "be66ced2",
   "metadata": {},
   "outputs": [
    {
     "data": {
      "text/plain": [
       "[tensor([0.2814, 0.9789, 1.0000, 0.9569], dtype=torch.float64),\n",
       " tensor([0.2814, 0.9789, 1.0000, 0.9569], dtype=torch.float64),\n",
       " tensor([0.2814, 0.9789, 1.0000, 0.9569], dtype=torch.float64),\n",
       " tensor([0.2814, 0.9789, 1.0000, 0.9569], dtype=torch.float64),\n",
       " tensor([0.2814, 0.9789, 1.0000, 0.9569], dtype=torch.float64),\n",
       " tensor([0.2814, 0.9789, 1.0000, 0.9569], dtype=torch.float64),\n",
       " tensor([0.2814, 0.9789, 1.0000, 0.9569], dtype=torch.float64),\n",
       " tensor([0.2814, 0.9789, 1.0000, 0.9569], dtype=torch.float64),\n",
       " tensor([0.2814, 0.9789, 1.0000, 0.9569], dtype=torch.float64),\n",
       " tensor([0.2814, 0.9789, 1.0000, 0.9569], dtype=torch.float64)]"
      ]
     },
     "execution_count": 5,
     "metadata": {},
     "output_type": "execute_result"
    }
   ],
   "source": [
    "best_x_list"
   ]
  },
  {
   "cell_type": "code",
   "execution_count": null,
   "id": "cd9195c1",
   "metadata": {},
   "outputs": [],
   "source": []
  },
  {
   "cell_type": "code",
   "execution_count": null,
   "id": "7778c1d4",
   "metadata": {},
   "outputs": [],
   "source": []
  }
 ],
 "metadata": {
  "kernelspec": {
   "display_name": "Python 3 (ipykernel)",
   "language": "python",
   "name": "python3"
  },
  "language_info": {
   "codemirror_mode": {
    "name": "ipython",
    "version": 3
   },
   "file_extension": ".py",
   "mimetype": "text/x-python",
   "name": "python",
   "nbconvert_exporter": "python",
   "pygments_lexer": "ipython3",
   "version": "3.10.6"
  }
 },
 "nbformat": 4,
 "nbformat_minor": 5
}
