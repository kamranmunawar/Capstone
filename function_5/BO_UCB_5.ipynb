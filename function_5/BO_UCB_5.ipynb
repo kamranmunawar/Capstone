{
 "cells": [
  {
   "cell_type": "markdown",
   "id": "00f9258f",
   "metadata": {},
   "source": [
    "**Function 5:**\n",
    "\n",
    "Yield in a Chemical Reaction. This time you are trying to optimise another four-dimensional black-box. It corresponds to the yield of a chemical process after processing in some factory. This type of process tends to be unimodal. Try to find the combination of chemicals that maximizes the yield!"
   ]
  },
  {
   "cell_type": "code",
   "execution_count": 31,
   "id": "064d1060",
   "metadata": {},
   "outputs": [],
   "source": [
    "import numpy as np\n",
    "import matplotlib.pyplot as plt\n",
    "from IPython.display import clear_output\n",
    "#from statistics import mean, median, mode, stdev,NormalDist\n",
    "\n",
    "from sklearn.gaussian_process import GaussianProcessRegressor\n",
    "from sklearn.gaussian_process.kernels import RBF\n",
    "#from scipy.stats import norm\n",
    "\n",
    "from statistics import NormalDist\n",
    "import itertools as it"
   ]
  },
  {
   "cell_type": "code",
   "execution_count": 32,
   "id": "8d9b4a51",
   "metadata": {},
   "outputs": [],
   "source": [
    "f5_inputs = np.load(\"initial_inputs.npy\")\n",
    "f5_outputs = np.load(\"initial_outputs.npy\")\n",
    "f5_inputs_2 = np.load(\"initial_inputs2.npy\")\n",
    "f5_outputs_2 = np.load(\"initial_outputs2.npy\")"
   ]
  },
  {
   "cell_type": "code",
   "execution_count": 33,
   "id": "8e5ce6f1",
   "metadata": {},
   "outputs": [],
   "source": [
    "f5_inputs = np.concatenate((f5_inputs, f5_inputs_2)) \n",
    "f5_inputs = np.concatenate((f5_inputs, np.array([[0.329622, 0.319559, 0.335951, 0.275429]]))) \n",
    "f5_inputs = np.concatenate((f5_inputs, np.array([[0.630732, 0.255243, 0.163612, 0.663668]]))) \n",
    "f5_inputs = np.concatenate((f5_inputs, np.array([[0.136884, 0.175429, 0.750162, 0.240518]]))) \n",
    "f5_inputs = np.concatenate((f5_inputs, np.array([[0.156884, 0.185429, 0.730162, 0.834869]]))) \n",
    "f5_inputs = np.concatenate((f5_inputs, np.array([[0.221966, 0.848702, 0.877261, 0.876293]]))) \n",
    "f5_inputs = np.concatenate((f5_inputs, np.array([[0.2353  , 0.835369, 0.890595, 0.889626]]))) \n",
    "f5_inputs = np.concatenate((f5_inputs, np.array([[0.255301, 0.815369, 0.910595, 0.909626]]))) \n",
    "f5_inputs = np.concatenate((f5_inputs, np.array([[0.275301, 0.795369, 0.930595, 0.929626]]))) \n",
    "f5_inputs = np.concatenate((f5_inputs, np.array([[0.295301, 0.775369, 0.950595, 0.949626]]))) \n",
    "f5_inputs = np.concatenate((f5_inputs, np.array([[0.30362 , 0.92081 , 0.951794, 0.890271]]))) \n",
    "f5_inputs = np.concatenate((f5_inputs, np.array([[0.30362 , 0.956366, 0.956239, 0.872493]]))) \n",
    "f5_inputs = np.concatenate((f5_inputs, np.array([[0.288064, 0.967477, 0.954016, 0.856937]]))) \n",
    "f5_inputs = np.concatenate((f5_inputs, np.array([[0.305842, 0.976366, 0.962905, 0.87027]]))) \n",
    "f5_inputs = np.concatenate((f5_inputs, np.array([[0.290286, 0.996366, 0.982905, 0.890271]]))) \n",
    "f5_inputs = np.concatenate((f5_inputs, np.array([[0.283619, 0.996366, 0.994016, 0.905826]]))) \n",
    "f5_inputs = np.concatenate((f5_inputs, np.array([[0.285841, 0.987477, 0.994016, 0.925826]]))) \n",
    "f5_inputs = np.concatenate((f5_inputs, np.array([[0.283618, 0.985544, 0.999999, 0.936937]]))) \n",
    "f5_inputs = np.concatenate((f5_inputs, np.array([[0.281395, 0.978877, 0.999999, 0.956937]]))) \n",
    "\n",
    "f5_outputs = np.concatenate((f5_outputs,f5_outputs_2))\n",
    "f5_outputs = np.append(f5_outputs,131.1962333718706)\n",
    "f5_outputs = np.append(f5_outputs,8.319139067926972)\n",
    "f5_outputs = np.append(f5_outputs,15.916258413112816)\n",
    "f5_outputs = np.append(f5_outputs,65.62143113848653)\n",
    "f5_outputs = np.append(f5_outputs,1077.2793665718714)\n",
    "f5_outputs = np.append(f5_outputs,1151.2287899694788)\n",
    "f5_outputs = np.append(f5_outputs,1283.9813760530844)\n",
    "f5_outputs = np.append(f5_outputs,1446.3325506169003)\n",
    "f5_outputs = np.append(f5_outputs,1642.712076836066)\n",
    "f5_outputs = np.append(f5_outputs,2043.5758440370957)\n",
    "f5_outputs = np.append(f5_outputs,2246.9353067103452)\n",
    "f5_outputs = np.append(f5_outputs,2221.1489548557843)\n",
    "f5_outputs = np.append(f5_outputs,2475.0054048920615)\n",
    "f5_outputs = np.append(f5_outputs,3030.1696296258147)\n",
    "f5_outputs = np.append(f5_outputs,3286.085078568141)\n",
    "f5_outputs = np.append(f5_outputs,3367.83461018011)\n",
    "f5_outputs = np.append(f5_outputs,3526.9798701929503)\n",
    "f5_outputs = np.append(f5_outputs,3659.8420356222346)\n"
   ]
  },
  {
   "cell_type": "code",
   "execution_count": 34,
   "id": "c89da81f",
   "metadata": {},
   "outputs": [
    {
     "data": {
      "text/plain": [
       "array([[0.19144708, 0.03819337, 0.60741781, 0.41458414],\n",
       "       [0.75865295, 0.53651774, 0.65600038, 0.36034155],\n",
       "       [0.43834987, 0.8043397 , 0.21024527, 0.15129482],\n",
       "       [0.70605083, 0.53419196, 0.26424335, 0.48208755],\n",
       "       [0.83647799, 0.19360965, 0.6638927 , 0.78564888],\n",
       "       [0.68343225, 0.11866264, 0.82904591, 0.56757661],\n",
       "       [0.55362148, 0.66734998, 0.32380582, 0.81486975],\n",
       "       [0.35235627, 0.32224153, 0.11697937, 0.47311252],\n",
       "       [0.15378571, 0.72938169, 0.42259844, 0.44307417],\n",
       "       [0.46344227, 0.63002451, 0.10790646, 0.9576439 ],\n",
       "       [0.67749115, 0.35850951, 0.47959222, 0.07288048],\n",
       "       [0.58397341, 0.14724265, 0.34809746, 0.42861465],\n",
       "       [0.30688872, 0.31687813, 0.62263448, 0.09539906],\n",
       "       [0.51114177, 0.817957  , 0.72871042, 0.11235362],\n",
       "       [0.43893338, 0.77409176, 0.37816709, 0.93369621],\n",
       "       [0.22418902, 0.84648049, 0.87948418, 0.87851568],\n",
       "       [0.72526172, 0.47987049, 0.08894684, 0.75976022],\n",
       "       [0.35548161, 0.63961937, 0.41761768, 0.12260384],\n",
       "       [0.11987923, 0.86254031, 0.64333133, 0.84980383],\n",
       "       [0.12688467, 0.15342962, 0.77016219, 0.19051811],\n",
       "       [0.94478251, 0.83050925, 0.83227839, 0.20292205],\n",
       "       [0.05244809, 0.43614877, 0.37845743, 0.18802639],\n",
       "       [0.06304804, 0.86636135, 0.85864857, 0.2085756 ],\n",
       "       [0.98882078, 0.66382651, 0.36648076, 0.99624833],\n",
       "       [0.7633217 , 0.62834667, 0.78222976, 0.81919558],\n",
       "       [0.14275584, 0.20216247, 0.93864415, 0.22320333],\n",
       "       [0.17997633, 0.81948394, 0.36434617, 0.88796618],\n",
       "       [0.51645398, 0.39496365, 0.95182759, 0.69880194],\n",
       "       [0.26844685, 0.49315648, 0.00685878, 0.76232741],\n",
       "       [0.3981843 , 0.88166606, 0.1166999 , 0.84462821],\n",
       "       [0.30584223, 0.93636618, 0.95401692, 0.88360492],\n",
       "       [0.17995479, 0.69481431, 0.78705686, 0.11803764],\n",
       "       [0.49675268, 0.42376709, 0.68348299, 0.30627614],\n",
       "       [0.42326139, 0.53827668, 0.6836236 , 0.40884354],\n",
       "       [0.63954186, 0.99740866, 0.35346561, 0.64339858],\n",
       "       [0.93742409, 0.03577705, 0.63450862, 0.22699177],\n",
       "       [0.46963177, 0.44637345, 0.04460442, 0.08712024],\n",
       "       [0.544687  , 0.95335541, 0.32346906, 0.61262944],\n",
       "       [0.20733069, 0.31091806, 0.6947729 , 0.11411475],\n",
       "       [0.37937978, 0.79168224, 0.22186303, 0.0050104 ],\n",
       "       [0.329622  , 0.319559  , 0.335951  , 0.275429  ],\n",
       "       [0.630732  , 0.255243  , 0.163612  , 0.663668  ],\n",
       "       [0.136884  , 0.175429  , 0.750162  , 0.240518  ],\n",
       "       [0.156884  , 0.185429  , 0.730162  , 0.834869  ],\n",
       "       [0.221966  , 0.848702  , 0.877261  , 0.876293  ],\n",
       "       [0.2353    , 0.835369  , 0.890595  , 0.889626  ],\n",
       "       [0.255301  , 0.815369  , 0.910595  , 0.909626  ],\n",
       "       [0.275301  , 0.795369  , 0.930595  , 0.929626  ],\n",
       "       [0.295301  , 0.775369  , 0.950595  , 0.949626  ],\n",
       "       [0.30362   , 0.92081   , 0.951794  , 0.890271  ],\n",
       "       [0.30362   , 0.956366  , 0.956239  , 0.872493  ],\n",
       "       [0.288064  , 0.967477  , 0.954016  , 0.856937  ],\n",
       "       [0.305842  , 0.976366  , 0.962905  , 0.87027   ],\n",
       "       [0.290286  , 0.996366  , 0.982905  , 0.890271  ],\n",
       "       [0.283619  , 0.996366  , 0.994016  , 0.905826  ],\n",
       "       [0.285841  , 0.987477  , 0.994016  , 0.925826  ],\n",
       "       [0.283618  , 0.985544  , 0.999999  , 0.936937  ],\n",
       "       [0.281395  , 0.978877  , 0.999999  , 0.956937  ]])"
      ]
     },
     "execution_count": 34,
     "metadata": {},
     "output_type": "execute_result"
    }
   ],
   "source": [
    "f5_inputs"
   ]
  },
  {
   "cell_type": "code",
   "execution_count": 35,
   "id": "d0ba2fa2",
   "metadata": {},
   "outputs": [
    {
     "data": {
      "text/plain": [
       "array([6.44434399e+01, 1.83013796e+01, 1.12939795e-01, 4.21089813e+00,\n",
       "       2.58370525e+02, 7.84343889e+01, 5.75715369e+01, 1.09571876e+02,\n",
       "       8.84799176e+00, 2.33223610e+02, 2.44230883e+01, 6.44201468e+01,\n",
       "       6.34767158e+01, 7.97291299e+01, 3.55806818e+02, 1.08885962e+03,\n",
       "       2.88667516e+01, 4.51815703e+01, 4.31612757e+02, 9.97233189e+00,\n",
       "       1.16473297e+03, 1.21188493e+02, 2.87522281e+02, 1.98066524e+03,\n",
       "       5.28521436e+02, 6.59070325e+01, 2.73993040e+02, 3.34964253e+02,\n",
       "       3.03509422e+00, 3.16811442e+02, 2.13695298e+03, 1.63923940e+01,\n",
       "       1.47198474e+01, 7.44697895e+00, 5.40487146e+02, 1.52854400e+02,\n",
       "       1.03383108e+02, 2.53166057e+02, 3.59261876e+01, 2.10925883e+00,\n",
       "       1.31196233e+02, 8.31913907e+00, 1.59162584e+01, 6.56214311e+01,\n",
       "       1.07727937e+03, 1.15122879e+03, 1.28398138e+03, 1.44633255e+03,\n",
       "       1.64271208e+03, 2.04357584e+03, 2.24693531e+03, 2.22114895e+03,\n",
       "       2.47500540e+03, 3.03016963e+03, 3.28608508e+03, 3.36783461e+03,\n",
       "       3.52697987e+03, 3.65984204e+03])"
      ]
     },
     "execution_count": 35,
     "metadata": {},
     "output_type": "execute_result"
    }
   ],
   "source": [
    "f5_outputs"
   ]
  },
  {
   "cell_type": "code",
   "execution_count": 36,
   "id": "27c965a5",
   "metadata": {},
   "outputs": [
    {
     "name": "stdout",
     "output_type": "stream",
     "text": [
      "[0.281395 0.978877 0.999999 0.956937]\n"
     ]
    }
   ],
   "source": [
    "X_max= f5_inputs[np.argmax(abs(f5_outputs))]\n",
    "print(X_max)"
   ]
  },
  {
   "cell_type": "code",
   "execution_count": 37,
   "id": "fde66b64",
   "metadata": {},
   "outputs": [
    {
     "name": "stdout",
     "output_type": "stream",
     "text": [
      "3659.8420356222346\n"
     ]
    }
   ],
   "source": [
    "Y_max= f5_outputs[np.argmax(abs(f5_outputs))]\n",
    "print(Y_max)"
   ]
  },
  {
   "cell_type": "code",
   "execution_count": 38,
   "id": "e957a98c",
   "metadata": {},
   "outputs": [],
   "source": [
    "x1 = np.linspace(0.281395-0.02, 0.281395+0.02, 10)\n",
    "x2 = np.linspace(0.978877-0.02, 0.978877+0.00, 10)\n",
    "x3 = np.linspace(0.999999-0.02, 0.999999+0.00, 10)\n",
    "x4 = np.linspace(0.956937-0.02, 0.956937+0.02, 10)\n",
    "X_grid = []\n",
    "for i in range(len(x1)):\n",
    "    for j in range(len(x2)):\n",
    "        for k in range(len(x3)):\n",
    "            for l in range(len(x4)):\n",
    "                X_grid.append([x1[i], x2[j],x3[k],x4[l]])\n",
    "X_grid = np.array(X_grid)\n",
    "#0.281395 0.978877 0.999999 0.956937\n",
    "#0.283618 0.985544 0.999999 0.936937\n",
    "#0.285841 0.987477 0.994016 0.925826\n",
    "#0.283619 0.996366 0.994016 0.905826\n",
    "#0.290286 0.996366 0.982905 0.890271\n",
    "#0.305842 0.976366 0.962905 0.87027 \n",
    "#0.30362  0.956366 0.956239 0.872493\n",
    "#0.30584223 0.93636618 0.95401692 0.88360492\n",
    "#0.275301, 0.795369, 0.930595, 0.929626\n",
    "#0.255301 0.815369 0.910595 0.909626\n",
    "#0.2353   0.835369 0.890595 0.889626\n",
    "#[ 0.22418902, 0.84648049, 0.87948418, 0.87851568]"
   ]
  },
  {
   "cell_type": "code",
   "execution_count": 39,
   "id": "9cca4283",
   "metadata": {},
   "outputs": [],
   "source": [
    "x_input = f5_inputs\n",
    "y_input = f5_outputs"
   ]
  },
  {
   "cell_type": "code",
   "execution_count": 40,
   "id": "313e7790",
   "metadata": {},
   "outputs": [],
   "source": [
    "real_noise_std = 1e-10 \n",
    "noise_assumption = 1e-10\n",
    "\n",
    "rbf_lengthscale = 0.1\n",
    "variable_value = np.linspace(0.001, 0.09, 10)\n",
    "#beta = np.linspace(0.1, 0.9, 100)\n",
    "#beta = np.linspace(1, 3, 100)\n",
    "#beta = np.linspace(1, 50, 100)\n",
    "result = []\n",
    "for i in range(len(variable_value)):\n",
    "    beta = variable_value[i]\n",
    "    kernel = RBF(length_scale=rbf_lengthscale, length_scale_bounds='fixed')\n",
    "    model = GaussianProcessRegressor(kernel = kernel, alpha=noise_assumption)\n",
    "    model.fit(np.array(x_input),np.array(y_input))\n",
    "    post_mean, post_std = model.predict(np.array(X_grid), return_std=True)\n",
    "    post_mean, post_std = post_mean.squeeze(), post_std.squeeze()\n",
    "    acquisition_function = post_mean + beta* post_std\n",
    "    result.append([variable_value[i],[X_grid[np.argmax(acquisition_function)]]])"
   ]
  },
  {
   "cell_type": "code",
   "execution_count": 41,
   "id": "4d23e5d1",
   "metadata": {},
   "outputs": [],
   "source": [
    "#0.001, [array([0.30362001, 0.92081062, 0.9517947 , 0.89027159]\n",
    "\n",
    "\n",
    "#[0.001, [array([0.2219668 , 0.84870271, 0.87726196, 0.87629346]\n",
    "#[0.001, [array([0.2219668 , 0.84870271, 0.87726196, 0.87629346]\n",
    "#[0.001, [array([0.2219668 , 0.84870271, 0.87726196, 0.87629346]\n",
    "#[0.001, [array([0.2219668 , 0.84870271, 0.87726196, 0.87629346]\n",
    "#[0.001, [array([0.2219668 , 0.84870271, 0.87726196, 0.87629346]\n",
    "#[0.001, [array([0.2219668 , 0.84870271, 0.87726196, 0.87629346]"
   ]
  },
  {
   "cell_type": "code",
   "execution_count": 42,
   "id": "6592bb15",
   "metadata": {},
   "outputs": [
    {
     "data": {
      "text/plain": [
       "[[0.001, [array([0.26583944, 0.97443256, 0.999999  , 0.976937  ])]],\n",
       " [0.010888888888888889,\n",
       "  [array([0.26583944, 0.97443256, 0.999999  , 0.976937  ])]],\n",
       " [0.020777777777777777,\n",
       "  [array([0.26583944, 0.97443256, 0.999999  , 0.976937  ])]],\n",
       " [0.030666666666666665,\n",
       "  [array([0.26583944, 0.97443256, 0.999999  , 0.976937  ])]],\n",
       " [0.04055555555555555,\n",
       "  [array([0.26583944, 0.97443256, 0.999999  , 0.976937  ])]],\n",
       " [0.050444444444444445,\n",
       "  [array([0.26583944, 0.97443256, 0.999999  , 0.976937  ])]],\n",
       " [0.06033333333333333,\n",
       "  [array([0.26583944, 0.97443256, 0.999999  , 0.976937  ])]],\n",
       " [0.07022222222222221,\n",
       "  [array([0.26583944, 0.97443256, 0.999999  , 0.976937  ])]],\n",
       " [0.0801111111111111,\n",
       "  [array([0.26583944, 0.97443256, 0.999999  , 0.976937  ])]],\n",
       " [0.09, [array([0.26583944, 0.97443256, 0.999999  , 0.976937  ])]]]"
      ]
     },
     "execution_count": 42,
     "metadata": {},
     "output_type": "execute_result"
    }
   ],
   "source": [
    "result"
   ]
  },
  {
   "cell_type": "code",
   "execution_count": null,
   "id": "6fdda044",
   "metadata": {},
   "outputs": [],
   "source": []
  },
  {
   "cell_type": "code",
   "execution_count": null,
   "id": "18eb8123",
   "metadata": {},
   "outputs": [],
   "source": []
  }
 ],
 "metadata": {
  "kernelspec": {
   "display_name": "Python 3 (ipykernel)",
   "language": "python",
   "name": "python3"
  },
  "language_info": {
   "codemirror_mode": {
    "name": "ipython",
    "version": 3
   },
   "file_extension": ".py",
   "mimetype": "text/x-python",
   "name": "python",
   "nbconvert_exporter": "python",
   "pygments_lexer": "ipython3",
   "version": "3.10.6"
  }
 },
 "nbformat": 4,
 "nbformat_minor": 5
}
