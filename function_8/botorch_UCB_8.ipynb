{
 "cells": [
  {
   "cell_type": "code",
   "execution_count": 1,
   "id": "4b772fc6",
   "metadata": {},
   "outputs": [],
   "source": [
    "import torch \n",
    "import numpy as np\n",
    "from botorch.models import SingleTaskGP\n",
    "from botorch  import fit_gpytorch_model\n",
    "\n",
    "from botorch.fit import fit_gpytorch_mll\n",
    "from gpytorch.mlls import ExactMarginalLogLikelihood\n",
    "from botorch.acquisition import UpperConfidenceBound\n",
    "from botorch.optim import optimize_acqf\n",
    "\n",
    "from sklearn.gaussian_process import GaussianProcessRegressor\n",
    "from scipy.stats import norm\n",
    "from scipy.optimize import minimize\n",
    "import sys\n",
    "import pandas as pd\n",
    "import numpy as np\n",
    "import matplotlib.pyplot as plt\n",
    "from sklearn.gaussian_process.kernels import RBF\n"
   ]
  },
  {
   "cell_type": "code",
   "execution_count": 2,
   "id": "0bc8cd63",
   "metadata": {},
   "outputs": [],
   "source": [
    "f8_inputs = np.load(\"initial_inputs.npy\")\n",
    "f8_outputs = np.load(\"initial_outputs.npy\")\n",
    "f8_inputs_2 = np.load(\"initial_inputs2.npy\")\n",
    "f8_outputs_2 = np.load(\"initial_outputs2.npy\")"
   ]
  },
  {
   "cell_type": "code",
   "execution_count": 3,
   "id": "8ded5fbc",
   "metadata": {},
   "outputs": [],
   "source": [
    "f8_inputs = np.concatenate((f8_inputs, f8_inputs_2)) \n",
    "\n",
    "f8_inputs = np.concatenate((f8_inputs, np.array([[0.084259,0.384768,0.152956,0.83177,0.619797,0.838113,0.360231,0.819888]])))\n",
    "f8_inputs = np.concatenate((f8_inputs, np.array([[0.265797,0.781385,0.799061,0.737909,0.541671,0.059651,0.661726,0.249156]])))\n",
    "f8_inputs = np.concatenate((f8_inputs, np.array([[0.085447,0.080955,0.045928,0.041786,0.373935,0.831055,0.468307,0.923084]])))\n",
    "f8_inputs = np.concatenate((f8_inputs, np.array([[0.010576,0.090955,0.105928,0.061786,0.353935,0.891055,0.478307,0.943084]])))\n",
    "f8_inputs = np.concatenate((f8_inputs, np.array([[0.065447,0.080955,0.055928,0.051786,0.383935,0.841055,0.478307,0.913084]])))\n",
    "f8_inputs = np.concatenate((f8_inputs, np.array([[0.035447,0.080955,0.045928,0.041786,0.373935,0.831055,0.468307,0.923084]])))\n",
    "f8_inputs = np.concatenate((f8_inputs, np.array([[0.040447,0.080955,0.045928,0.041786,0.373935,0.831055,0.468307,0.923084]])))\n",
    "f8_inputs = np.concatenate((f8_inputs, np.array([[0.015447,0.080955,0.080928,0.041786,0.373935,0.866055,0.468307,0.923084]])))\n",
    "f8_inputs = np.concatenate((f8_inputs, np.array([[0.154598,0.138109,0.018722,0.059536,0.367817,0.883297,0.437297,0.865776]])))\n",
    "f8_inputs = np.concatenate((f8_inputs, np.array([[0.525834,0.680905,0.197024,0.703188,0.541326,0.930864,0.505922,0.13963]])))\n",
    "f8_inputs = np.concatenate((f8_inputs, np.array([[0.151301,0.185001,0.182801,0.197001,0.631301,0.538201,0.257201,0.594101]])))\n",
    "f8_inputs = np.concatenate((f8_inputs, np.array([[0.150301,0.194801,0.185401,0.194301,0.601801,0.534401,0.269901,0.604701]])))\n",
    "f8_inputs = np.concatenate((f8_inputs, np.array([[0.144501,0.190901,0.128601,0.104101,0.187601,0.654601,0.501901,0.841001]])))\n",
    "f8_inputs = np.concatenate((f8_inputs, np.array([[0.147401,0.209901,0.130901,0.128401,0.191901,0.630201,0.487101,0.802801]])))\n",
    "f8_inputs = np.concatenate((f8_inputs, np.array([[0.151301,0.085001,0.182801,0.197001,0.731301,0.538201,0.257201,0.394101]])))\n",
    "f8_inputs = np.concatenate((f8_inputs, np.array([[0.251301,0.185001,0.182801,0.297001,0.831301,0.538201,0.257201,0.494101]])))\n",
    "f8_inputs = np.concatenate((f8_inputs, np.array([[0.351301,0.285001,0.382801,0.397001,0.631301,0.538201,0.457201,0.494101]])))\n",
    "f8_inputs = np.concatenate((f8_inputs, np.array([[0.251301,0.185001,0.182801,0.197001,0.731301,0.538201,0.357201,0.494101]])))\n",
    "\n",
    "f8_outputs = np.concatenate((f8_outputs,f8_outputs_2)) \n",
    "f8_outputs = np.append(f8_outputs,9.2912571799561)\n",
    "f8_outputs = np.append(f8_outputs,7.1918457066059)\n",
    "f8_outputs = np.append(f8_outputs,9.6071159102679)\n",
    "f8_outputs = np.append(f8_outputs,9.5519090503339)\n",
    "f8_outputs = np.append(f8_outputs,9.5991537082679)\n",
    "f8_outputs = np.append(f8_outputs,9.5992053102679)\n",
    "f8_outputs = np.append(f8_outputs,9.6004463702679)\n",
    "f8_outputs = np.append(f8_outputs,9.5828223402679)\n",
    "f8_outputs = np.append(f8_outputs,9.5885735221739)\n",
    "f8_outputs = np.append(f8_outputs,8.608506577299)\n",
    "f8_outputs = np.append(f8_outputs,9.9607020326694)\n",
    "f8_outputs = np.append(f8_outputs,9.9511627380494)\n",
    "f8_outputs = np.append(f8_outputs,9.5927395277894)\n",
    "f8_outputs = np.append(f8_outputs,9.6206379181294)\n",
    "f8_outputs = np.append(f8_outputs,9.9653361726694)\n",
    "f8_outputs = np.append(f8_outputs,9.9134032526694)\n",
    "f8_outputs = np.append(f8_outputs,9.4536206526694)\n",
    "f8_outputs = np.append(f8_outputs,9.8880531526694)\n"
   ]
  },
  {
   "cell_type": "code",
   "execution_count": 4,
   "id": "e29bb946",
   "metadata": {},
   "outputs": [],
   "source": [
    "noise_level = 9\n",
    "np.random.seed(42)\n",
    "def function8(x1,x2,x3,x4,x5,x6,x7,x8, noise_level=noise_level):\n",
    "    return np.sin(5 * x1+4*x2) * (1 - np.tanh(x1 ** 2) - np.tanh(x2)) + \\\n",
    "        np.sin(1 * x3+4*x4) * (1 - np.tanh(x3 ** 2) - np.tanh(x4)) + \\\n",
    "        np.sin(1 * x5+4*x6) * (1 - np.tanh(x5 ** 2) - np.tanh(x6)) + \\\n",
    "        np.sin(1 * x7+4*x8) * (1 - np.tanh(x7 ** 2) - np.tanh(x8)) + \\\n",
    "               + np.random.randn() * noise_level"
   ]
  },
  {
   "cell_type": "code",
   "execution_count": 5,
   "id": "a88832f3",
   "metadata": {},
   "outputs": [
    {
     "name": "stdout",
     "output_type": "stream",
     "text": [
      "beta :1.1818181818181819 noise_level :6.909090909090909\n",
      "Next point: tensor([[0.0898, 0.1392, 0.1343, 0.1018, 0.8807, 0.5058, 0.1850, 0.6032]]) \n",
      " Next Y tensor([4.7996], dtype=torch.float64)\n",
      "best_x:tensor([0.1513, 0.0850, 0.1828, 0.1970, 0.7313, 0.5382, 0.2572, 0.3941],\n",
      "       dtype=torch.float64)Best_y,9.9653361726694\n",
      "beta :1.1818181818181819 noise_level :6.909090909090909\n",
      "Next point: tensor([[0.1967, 0.0090, 0.1695, 0.3188, 0.6655, 0.6384, 0.2562, 0.2336]]) \n",
      " Next Y tensor([1.1667], dtype=torch.float64)\n",
      "best_x:tensor([0.1513, 0.0850, 0.1828, 0.1970, 0.7313, 0.5382, 0.2572, 0.3941],\n",
      "       dtype=torch.float64)Best_y,9.9653361726694\n",
      "beta :1.1818181818181819 noise_level :6.909090909090909\n",
      "Next point: tensor([[0.1503, 0.2974, 0.2232, 0.3937, 0.7542, 0.4959, 0.2058, 0.4356]]) \n",
      " Next Y tensor([6.1971], dtype=torch.float64)\n",
      "best_x:tensor([0.1513, 0.0850, 0.1828, 0.1970, 0.7313, 0.5382, 0.2572, 0.3941],\n",
      "       dtype=torch.float64)Best_y,9.9653361726694\n",
      "beta :1.1818181818181819 noise_level :6.909090909090909\n",
      "Next point: tensor([[0.2432, 0.3119, 0.2153, 0.2286, 0.4723, 0.5263, 0.4605, 0.7045]]) \n",
      " Next Y tensor([11.7169], dtype=torch.float64)\n",
      "best_x:(0.24321696162223816, 0.3119126260280609, 0.21527791023254395, 0.22864069044589996, 0.4722912013530731, 0.5262537598609924, 0.46046724915504456, 0.7044656872749329)Best_y,11.716879990803806\n",
      "beta :1.1818181818181819 noise_level :6.909090909090909\n",
      "Next point: tensor([[0.2514, 0.3320, 0.2145, 0.2270, 0.4839, 0.5144, 0.4632, 0.6992]]) \n",
      " Next Y tensor([-0.4877], dtype=torch.float64)\n",
      "best_x:(0.24321696162223816, 0.3119126260280609, 0.21527791023254395, 0.22864069044589996, 0.4722912013530731, 0.5262537598609924, 0.46046724915504456, 0.7044656872749329)Best_y,11.716879990803806\n",
      "beta :1.1818181818181819 noise_level :6.909090909090909\n",
      "Next point: tensor([[0.0649, 0.0804, 0.0938, 0.0768, 0.2967, 0.7728, 0.4482, 0.8910]]) \n",
      " Next Y tensor([-0.8426], dtype=torch.float64)\n",
      "best_x:(0.24321696162223816, 0.3119126260280609, 0.21527791023254395, 0.22864069044589996, 0.4722912013530731, 0.5262537598609924, 0.46046724915504456, 0.7044656872749329)Best_y,11.716879990803806\n",
      "beta :1.1818181818181819 noise_level :6.909090909090909\n",
      "Next point: tensor([[0.0716, 0.1217, 0.0249, 0.0296, 0.4674, 0.8978, 0.4968, 0.9084]]) \n",
      " Next Y tensor([11.6159], dtype=torch.float64)\n",
      "best_x:(0.24321696162223816, 0.3119126260280609, 0.21527791023254395, 0.22864069044589996, 0.4722912013530731, 0.5262537598609924, 0.46046724915504456, 0.7044656872749329)Best_y,11.716879990803806\n",
      "beta :1.1818181818181819 noise_level :6.909090909090909\n",
      "Next point: tensor([[0.0726, 0.1264, 0.0181, 0.0250, 0.4849, 0.9119, 0.5025, 0.9101]]) \n",
      " Next Y tensor([6.0145], dtype=torch.float64)\n",
      "best_x:(0.24321696162223816, 0.3119126260280609, 0.21527791023254395, 0.22864069044589996, 0.4722912013530731, 0.5262537598609924, 0.46046724915504456, 0.7044656872749329)Best_y,11.716879990803806\n",
      "beta :1.1818181818181819 noise_level :6.909090909090909\n",
      "Next point: tensor([[0.0710, 0.1207, 0.0257, 0.0297, 0.4645, 0.8950, 0.4957, 0.9085]]) \n",
      " Next Y tensor([-2.5442], dtype=torch.float64)\n",
      "best_x:(0.24321696162223816, 0.3119126260280609, 0.21527791023254395, 0.22864069044589996, 0.4722912013530731, 0.5262537598609924, 0.46046724915504456, 0.7044656872749329)Best_y,11.716879990803806\n",
      "beta :1.1818181818181819 noise_level :6.909090909090909\n",
      "Next point: tensor([[0.3160, 0.2649, 0.2903, 0.2941, 0.7500, 0.5057, 0.4137, 0.5272]]) \n",
      " Next Y tensor([4.8942], dtype=torch.float64)\n",
      "best_x:(0.24321696162223816, 0.3119126260280609, 0.21527791023254395, 0.22864069044589996, 0.4722912013530731, 0.5262537598609924, 0.46046724915504456, 0.7044656872749329)Best_y,11.716879990803806\n"
     ]
    }
   ],
   "source": [
    "variable_value = np.linspace(1, 10, 10)\n",
    "n_dims = 8\n",
    "beta = 1.1818181818181819\n",
    "np.random.seed(42)\n",
    "train_X = torch.tensor(f8_inputs)\n",
    "train_Y = torch.tensor(f8_outputs).reshape(len(f8_outputs),-1)\n",
    "best_y = np.max(train_Y.numpy())\n",
    "best_x = train_X[np.argmax(train_Y.numpy())]\n",
    "noise_level =6.909090909090909\n",
    "\n",
    "\n",
    "for i in range(len(variable_value)):\n",
    "   # noise_level = variable_value[i]\n",
    "   \n",
    "    def function_8(x1,x2,x3,x4,x5,x6,x7,x8, noise_level=noise_level):\n",
    "        return np.sin(5 * x1+4*x2) * (1 - np.tanh(x1 ** 2) - np.tanh(x2)) + \\\n",
    "            np.sin(1 * x3+4*x4) * (1 - np.tanh(x3 ** 2) - np.tanh(x4)) + \\\n",
    "            np.sin(1 * x5+4*x6) * (1 - np.tanh(x5 ** 2) - np.tanh(x6)) + \\\n",
    "            np.sin(1 * x7+4*x8) * (1 - np.tanh(x7 ** 2) - np.tanh(x8)) + \\\n",
    "                   + np.random.randn() * noise_level\n",
    "    \n",
    "    \n",
    "    gp = SingleTaskGP(train_X, train_Y)\n",
    "    mll = ExactMarginalLogLikelihood(gp.likelihood, gp)\n",
    "    fit_gpytorch_mll(mll)\n",
    "\n",
    "    UCB = UpperConfidenceBound(gp, beta=beta)\n",
    "\n",
    "    bounds = torch.stack([torch.zeros(n_dims), torch.ones(n_dims)])\n",
    "    candidate, _  = optimize_acqf(\n",
    "        UCB, bounds=bounds, q=1, num_restarts=50, raw_samples=200,\n",
    "    )\n",
    "\n",
    "\n",
    "    x1,x2,x3,x4,x5,x6,x7,x8 = candidate.numpy().ravel().tolist()\n",
    "    # Get the next value for the function from the script\n",
    "\n",
    "    y_next = function_8(x1,x2,x3,x4,x5,x6,x7,x8)\n",
    "\n",
    "    if y_next > best_y:\n",
    "        best_y = y_next\n",
    "        best_x = x1,x2,x3,x4,x5,x6,x7,x8\n",
    "\n",
    "\n",
    "    y_next = torch.tensor(y_next).unsqueeze(-1)\n",
    "\n",
    "    train_X = torch.cat([train_X,candidate])\n",
    "    train_Y = torch.cat([train_Y,y_next.unsqueeze(-1)])\n",
    "    #print(f\"Next point: {candidate} \\n Next Y {y_next}  Best_y, {best_y}\")\n",
    "    print(f\"beta :{beta} noise_level :{noise_level}\")\n",
    "    print(f\"Next point: {candidate} \\n Next Y {y_next}\")\n",
    "    print(f\"best_x:{best_x}Best_y,{best_y}\")\n",
    "    "
   ]
  },
  {
   "cell_type": "code",
   "execution_count": null,
   "id": "022886c3",
   "metadata": {},
   "outputs": [],
   "source": [
    "\n",
    "beta :1.1818181818181819 noise_level :6.909090909090909\n",
    "Next point: tensor([[0.1546, 0.1381, 0.0187, 0.0595, 0.3678, 0.8833, 0.4373, 0.8658]]) \n",
    " Next Y tensor([10.2376], dtype=torch.float64)\n",
    "best_x:(0.15459848940372467, 0.1381096988916397, 0.018722787499427795, 0.05953603237867355, 0.3678175210952759, \n",
    "        0.8832974433898926, 0.4372975826263428, 0.865776002407074)\n",
    "    Best_y,10.237612055415791\n",
    "\n",
    "\n",
    "\n",
    "beta :1.1818181818181819 noise_level :6.909090909090909\n",
    "Next point: tensor([[0.0359, 0.0783, 0.1931, 0.2068, 0.2691, 0.7741, 0.4785, 0.8636]]) \n",
    " Next Y tensor([5.4406], dtype=torch.float64)\n",
    "best_x:tensor([0.0404, 0.0810, 0.0459, 0.0418, 0.3739, 0.8311, 0.4683, 0.9231],\n",
    "       dtype=torch.float64)Best_y,9.6004463702679\n",
    "\n",
    "\n",
    "\n",
    "\n",
    "\n",
    "\n",
    "beta :0.1 noise_level :6.909090909090909\n",
    "Next point: tensor([[0.2516, 0.8380, 0.7831, 0.7467, 0.6140, 0.0713, 0.6979, 0.2553]]) \n",
    " Next Y tensor([9.9653], dtype=torch.float64)\n",
    "best_x:(0.2516104280948639, 0.8379758596420288, 0.7830837368965149, 0.7467195391654968, 0.613950252532959, \n",
    "        0.07130374014377594, 0.697936475276947, 0.255339115858078)Best_y,9.96533089251728\n",
    "\n",
    "    \n",
    "beta :1.2727272727272727 noise_level :6.909090909090909\n",
    "Next point: tensor([[0.0377, 0.0918, 0.0075, 0.0113, 0.4444, 0.9188, 0.5478, 0.9660]]) \n",
    " Next Y tensor([11.0236], dtype=torch.float64)\n",
    "best_x:(0.03765999525785446, 0.09182529151439667, 0.0074640982784330845, 0.011280793696641922, \n",
    "        0.4443797171115875, 0.9187936186790466, \n",
    "        0.5477606058120728, 0.9660108089447021)Best_y,11.023583532446972"
   ]
  },
  {
   "cell_type": "code",
   "execution_count": 29,
   "id": "f47a4a36",
   "metadata": {},
   "outputs": [
    {
     "name": "stdout",
     "output_type": "stream",
     "text": [
      "[0.085447 0.080955 0.045928 0.041786 0.373935 0.831055 0.468307 0.923084]\n"
     ]
    }
   ],
   "source": [
    "X_max= f8_inputs[np.argmax(abs(f8_outputs))]\n",
    "print(X_max)"
   ]
  },
  {
   "cell_type": "code",
   "execution_count": 30,
   "id": "6cb574f5",
   "metadata": {},
   "outputs": [
    {
     "name": "stdout",
     "output_type": "stream",
     "text": [
      "9.6071159102679\n"
     ]
    }
   ],
   "source": [
    "Y_max= f8_outputs[np.argmax(abs(f8_outputs))]\n",
    "print(Y_max)"
   ]
  },
  {
   "cell_type": "code",
   "execution_count": 17,
   "id": "eeb28187",
   "metadata": {},
   "outputs": [
    {
     "data": {
      "text/plain": [
       "89"
      ]
     },
     "execution_count": 17,
     "metadata": {},
     "output_type": "execute_result"
    }
   ],
   "source": [
    "f8_inputs = np.delete(f8_inputs, np.argmax(abs(f8_outputs)), 0)\n",
    "len(f8_inputs)"
   ]
  },
  {
   "cell_type": "code",
   "execution_count": 18,
   "id": "0fb5f868",
   "metadata": {},
   "outputs": [
    {
     "data": {
      "text/plain": [
       "89"
      ]
     },
     "execution_count": 18,
     "metadata": {},
     "output_type": "execute_result"
    }
   ],
   "source": [
    "f8_outputs= np.delete(f8_outputs, np.argmax(abs(f8_outputs)), 0)\n",
    "len(f8_outputs)"
   ]
  },
  {
   "cell_type": "code",
   "execution_count": 6,
   "id": "1220034b",
   "metadata": {},
   "outputs": [],
   "source": [
    "def costly_function(x):\n",
    "    total = np.array([])\n",
    "    for x_i in x:\n",
    "         #total = np.append(total, np.sum(np.exp(-(x_i - 5) ** 2)))\n",
    "        total = np.exp(-(x_i - 2) ** 2)+np.exp(-(x_i + 6) ** 2/10)+np.exp(-(x_i - 1) ** 3/9)\n",
    "    return total + np.random.randn()"
   ]
  },
  {
   "cell_type": "code",
   "execution_count": 7,
   "id": "2212b9f1",
   "metadata": {},
   "outputs": [],
   "source": [
    "variable_value = np.linspace(1, 10, 10)\n",
    "n_dims = 8\n",
    "beta =1.1818181818181819\n",
    "np.random.seed(42)\n",
    "train_X = torch.tensor(f8_inputs)\n",
    "train_Y = torch.tensor(f8_outputs).reshape(len(f8_outputs),-1)\n",
    "best_y = np.max(train_Y.numpy())\n",
    "best_x = train_X[np.argmax(train_Y.numpy())]\n",
    "noise_level =6.909090909090909\n",
    "candidate_list = []\n",
    "best_x_list= []\n",
    "\n",
    "for i in range(len(variable_value)):\n",
    "   # noise_level = variable_value[i]\n",
    "   \n",
    "    \n",
    "    \n",
    "    \n",
    "    gp = SingleTaskGP(train_X, train_Y)\n",
    "    mll = ExactMarginalLogLikelihood(gp.likelihood, gp)\n",
    "    fit_gpytorch_mll(mll)\n",
    "\n",
    "    UCB = UpperConfidenceBound(gp, beta=beta)\n",
    "\n",
    "    bounds = torch.stack([torch.zeros(n_dims), torch.ones(n_dims)])\n",
    "    candidate, _  = optimize_acqf(\n",
    "        UCB, bounds=bounds, q=1, num_restarts=500, raw_samples=1000,\n",
    "    )\n",
    "\n",
    "\n",
    "    x1,x2,x3,x4,x5,x6,x7,x8 = candidate.numpy().ravel().tolist()\n",
    "    # Get the next value for the function from the script\n",
    "\n",
    "    y_next = costly_function([x1,x2,x3,x4,x5,x6,x7,x8])\n",
    "\n",
    "    if y_next > best_y:\n",
    "        best_y = y_next\n",
    "        best_x = x1,x2,x3,x4,x5,x6,x7,x8\n",
    "\n",
    "\n",
    "    y_next = torch.tensor(y_next).unsqueeze(-1)\n",
    "\n",
    "    train_X = torch.cat([train_X,candidate])\n",
    "    train_Y = torch.cat([train_Y,y_next.unsqueeze(-1)])\n",
    "    candidate_list.append(candidate) \n",
    "    best_x_list.append(best_x)\n",
    "    #print(f\"Next point: {candidate} \\n Next Y {y_next}  Best_y, {best_y}\")\n",
    "    #print(f\"beta :{beta} noise_level :{noise_level}\")\n",
    "    #print(f\"Next point: {candidate} \\n Next Y {y_next}\")\n",
    "    #print(f\"best_x:{best_x}Best_y,{best_y}\")\n",
    "    "
   ]
  },
  {
   "cell_type": "code",
   "execution_count": 8,
   "id": "b4327218",
   "metadata": {},
   "outputs": [
    {
     "data": {
      "text/plain": [
       "[tensor([[0.0898, 0.1392, 0.1343, 0.1018, 0.8807, 0.5058, 0.1850, 0.6031]]),\n",
       " tensor([[0.1878, 0.0687, 0.2057, 0.2774, 0.6714, 0.6135, 0.3121, 0.2382]]),\n",
       " tensor([[0.2323, 0.3124, 0.2046, 0.2894, 0.4161, 0.5569, 0.4375, 0.7228]]),\n",
       " tensor([[0.2448, 0.2133, 0.2172, 0.3442, 0.7818, 0.5187, 0.2748, 0.4415]]),\n",
       " tensor([[0.0572, 0.0751, 0.0762, 0.0236, 0.3017, 0.7912, 0.4670, 0.9060]]),\n",
       " tensor([[0.0647, 0.1079, 0.0396, 0.0781, 0.4284, 0.8965, 0.4821, 0.9183]]),\n",
       " tensor([[0.0929, 0.1266, 0.1864, 0.0362, 0.1793, 0.4614, 0.4070, 0.8181]]),\n",
       " tensor([[0.2772, 0.7730, 0.3310, 0.4666, 0.6293, 0.6778, 0.3769, 0.2885]]),\n",
       " tensor([[0.1330, 0.0848, 0.2997, 0.6088, 0.1268, 0.1458, 0.6523, 0.1820]]),\n",
       " tensor([[0.1421, 0.1029, 0.2838, 0.2337, 0.2159, 0.9496, 0.5344, 0.8146]])]"
      ]
     },
     "execution_count": 8,
     "metadata": {},
     "output_type": "execute_result"
    }
   ],
   "source": [
    "candidate_list"
   ]
  },
  {
   "cell_type": "code",
   "execution_count": 28,
   "id": "6aa99f02",
   "metadata": {},
   "outputs": [
    {
     "data": {
      "text/plain": [
       "[tensor([0.1513, 0.1850, 0.1828, 0.1970, 0.6313, 0.5382, 0.2572, 0.5941],\n",
       "        dtype=torch.float64),\n",
       " tensor([0.1513, 0.1850, 0.1828, 0.1970, 0.6313, 0.5382, 0.2572, 0.5941],\n",
       "        dtype=torch.float64),\n",
       " tensor([0.1513, 0.1850, 0.1828, 0.1970, 0.6313, 0.5382, 0.2572, 0.5941],\n",
       "        dtype=torch.float64),\n",
       " tensor([0.1513, 0.1850, 0.1828, 0.1970, 0.6313, 0.5382, 0.2572, 0.5941],\n",
       "        dtype=torch.float64),\n",
       " tensor([0.1513, 0.1850, 0.1828, 0.1970, 0.6313, 0.5382, 0.2572, 0.5941],\n",
       "        dtype=torch.float64),\n",
       " tensor([0.1513, 0.1850, 0.1828, 0.1970, 0.6313, 0.5382, 0.2572, 0.5941],\n",
       "        dtype=torch.float64),\n",
       " tensor([0.1513, 0.1850, 0.1828, 0.1970, 0.6313, 0.5382, 0.2572, 0.5941],\n",
       "        dtype=torch.float64),\n",
       " tensor([0.1513, 0.1850, 0.1828, 0.1970, 0.6313, 0.5382, 0.2572, 0.5941],\n",
       "        dtype=torch.float64),\n",
       " tensor([0.1513, 0.1850, 0.1828, 0.1970, 0.6313, 0.5382, 0.2572, 0.5941],\n",
       "        dtype=torch.float64),\n",
       " tensor([0.1513, 0.1850, 0.1828, 0.1970, 0.6313, 0.5382, 0.2572, 0.5941],\n",
       "        dtype=torch.float64)]"
      ]
     },
     "execution_count": 28,
     "metadata": {},
     "output_type": "execute_result"
    }
   ],
   "source": [
    "best_x_list"
   ]
  },
  {
   "cell_type": "code",
   "execution_count": null,
   "id": "ed4539a9",
   "metadata": {},
   "outputs": [],
   "source": [
    "[0.04343225 0.10004702 0.22342261 0.01686426 0.28000728 0.36384718,0.32840638 0.83239639]"
   ]
  }
 ],
 "metadata": {
  "kernelspec": {
   "display_name": "Python 3 (ipykernel)",
   "language": "python",
   "name": "python3"
  },
  "language_info": {
   "codemirror_mode": {
    "name": "ipython",
    "version": 3
   },
   "file_extension": ".py",
   "mimetype": "text/x-python",
   "name": "python",
   "nbconvert_exporter": "python",
   "pygments_lexer": "ipython3",
   "version": "3.10.6"
  }
 },
 "nbformat": 4,
 "nbformat_minor": 5
}
