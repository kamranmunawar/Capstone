{
 "cells": [
  {
   "cell_type": "markdown",
   "id": "64809f36",
   "metadata": {},
   "source": [
    "**Function 4:**\n",
    "\n",
    "Fast, but Inaccurate Modelling. This example is for a particular business relying heavily on online sales. It can run very accurate calculations to figure out what is the optimal placement of their product across warehouses. Unfortunately, the calculations are extremely expensive (computationally) to run, so they can only do it once every two weeks. Instead, they propose using a machine learning model which approximates the solution quickly (in a few hours). The model has four hyper-parameters you need to tune, and the output corresponds to the difference between the expensive calculation, and the model. Since you are modelling a dynamical system, expect a lot of local optima!"
   ]
  },
  {
   "cell_type": "code",
   "execution_count": 1,
   "id": "064d1060",
   "metadata": {},
   "outputs": [],
   "source": [
    "import numpy as np\n",
    "import matplotlib.pyplot as plt\n",
    "from IPython.display import clear_output\n",
    "#from statistics import mean, median, mode, stdev,NormalDist\n",
    "\n",
    "from sklearn.gaussian_process import GaussianProcessRegressor\n",
    "from sklearn.gaussian_process.kernels import RBF\n",
    "#from scipy.stats import norm\n",
    "\n",
    "from statistics import NormalDist\n",
    "import itertools as it"
   ]
  },
  {
   "cell_type": "code",
   "execution_count": 2,
   "id": "8d9b4a51",
   "metadata": {},
   "outputs": [],
   "source": [
    "f4_inputs = np.load(\"initial_inputs.npy\")\n",
    "f4_outputs = np.load(\"initial_outputs.npy\")\n",
    "f4_inputs_2 = np.load(\"initial_inputs2.npy\")\n",
    "f4_outputs_2 = np.load(\"initial_outputs2.npy\")"
   ]
  },
  {
   "cell_type": "code",
   "execution_count": 3,
   "id": "8e5ce6f1",
   "metadata": {},
   "outputs": [],
   "source": [
    "f4_inputs = np.concatenate((f4_inputs, f4_inputs_2)) \n",
    "f4_inputs = np.concatenate((f4_inputs, np.array([[0.533179, 0.320368, 0.682501, 0.312599]])))\n",
    "f4_inputs = np.concatenate((f4_inputs, np.array([[0.444629, 0.320368, 0.808875, 0.908167]]))) \n",
    "f4_inputs = np.concatenate((f4_inputs, np.array([[0.607765, 0.358771, 0.405825, 0.251007]]))) \n",
    "f4_inputs = np.concatenate((f4_inputs, np.array([[0.687501, 0.84587 , 0.833788, 0.143186]]))) \n",
    "f4_inputs = np.concatenate((f4_inputs, np.array([[0.557765, 0.448771, 0.445825, 0.269007]]))) \n",
    "f4_inputs = np.concatenate((f4_inputs, np.array([[0.507765, 0.498771, 0.395825, 0.319007]]))) \n",
    "f4_inputs = np.concatenate((f4_inputs, np.array([[0.457765, 0.548771, 0.345825, 0.369007]]))) \n",
    "f4_inputs = np.concatenate((f4_inputs, np.array([[0.407765, 0.498771, 0.295825, 0.419007]]))) \n",
    "f4_inputs = np.concatenate((f4_inputs, np.array([[0.357765, 0.448771, 0.245825, 0.469007]]))) \n",
    "f4_inputs = np.concatenate((f4_inputs, np.array([[0.325901, 0.423101, 0.406001, 0.415501]]))) \n",
    "f4_inputs = np.concatenate((f4_inputs, np.array([[0.287012, 0.439767, 0.456001, 0.432167]]))) \n",
    "f4_inputs = np.concatenate((f4_inputs, np.array([[0.38256 , 0.363705, 0.389898, 0.390221]]))) \n",
    "f4_inputs = np.concatenate((f4_inputs, np.array([[0.331802, 0.389754, 0.375876, 0.369452]]))) \n",
    "f4_inputs = np.concatenate((f4_inputs, np.array([[0.331882, 0.379388, 0.371487, 0.422793]]))) \n",
    "f4_inputs = np.concatenate((f4_inputs, np.array([[0.301994, 0.331229, 0.44261 , 0.408753]]))) \n",
    "f4_inputs = np.concatenate((f4_inputs, np.array([[0.402732, 0.392983, 0.412051, 0.411811]]))) \n",
    "f4_inputs = np.concatenate((f4_inputs, np.array([[0.394307, 0.324568, 0.266869, 0.332541]]))) \n",
    "f4_inputs = np.concatenate((f4_inputs, np.array([[0.395203, 0.398125, 0.414027, 0.449168]]))) \n",
    "\n",
    "f4_outputs = np.concatenate((f4_outputs,f4_outputs_2))\n",
    "f4_outputs = np.append(f4_outputs,-7.457831737943366)\n",
    "f4_outputs = np.append(f4_outputs,-20.190789652235313)\n",
    "f4_outputs = np.append(f4_outputs,-4.588426873216477)\n",
    "f4_outputs = np.append(f4_outputs,-24.332647737297297)\n",
    "f4_outputs = np.append(f4_outputs,-3.685845588546609)\n",
    "f4_outputs = np.append(f4_outputs,-2.8122115680390354)\n",
    "f4_outputs = np.append(f4_outputs,-2.590293835023562)\n",
    "f4_outputs = np.append(f4_outputs,-2.0998084663837484)\n",
    "f4_outputs = np.append(f4_outputs,-2.368538951646705)\n",
    "f4_outputs = np.append(f4_outputs,0.13490612991991258)\n",
    "f4_outputs = np.append(f4_outputs,-1.3532237087009196)\n",
    "f4_outputs = np.append(f4_outputs,0.15448865125965527)\n",
    "f4_outputs = np.append(f4_outputs,-0.02620181983396419)\n",
    "f4_outputs = np.append(f4_outputs,0.19106899681514777)\n",
    "f4_outputs = np.append(f4_outputs,-1.0065878357155316)\n",
    "f4_outputs = np.append(f4_outputs,0.48394520320252754)\n",
    "f4_outputs = np.append(f4_outputs,-1.70575402025506)\n",
    "f4_outputs = np.append(f4_outputs,-0.1020328389196119)\n"
   ]
  },
  {
   "cell_type": "code",
   "execution_count": 4,
   "id": "c89da81f",
   "metadata": {},
   "outputs": [
    {
     "data": {
      "text/plain": [
       "array([[0.89698105, 0.72562797, 0.17540431, 0.70169437],\n",
       "       [0.8893564 , 0.49958786, 0.53926886, 0.50878344],\n",
       "       [0.25094624, 0.03369313, 0.14538002, 0.49493242],\n",
       "       [0.34696206, 0.0062504 , 0.76056361, 0.61302356],\n",
       "       [0.12487118, 0.12977019, 0.38440048, 0.2870761 ],\n",
       "       [0.80130271, 0.50023109, 0.70664456, 0.19510284],\n",
       "       [0.24770826, 0.06044543, 0.04218635, 0.44132425],\n",
       "       [0.74670224, 0.7570915 , 0.36935306, 0.20656628],\n",
       "       [0.40066503, 0.07257425, 0.88676825, 0.24384229],\n",
       "       [0.6260706 , 0.58675126, 0.43880578, 0.77885769],\n",
       "       [0.95713529, 0.59764438, 0.76611385, 0.77620991],\n",
       "       [0.73281243, 0.14524998, 0.47681272, 0.13336573],\n",
       "       [0.65511548, 0.07239183, 0.68715175, 0.08151656],\n",
       "       [0.21973443, 0.83203134, 0.48286416, 0.08256923],\n",
       "       [0.48859419, 0.2119651 , 0.93917791, 0.37619173],\n",
       "       [0.16713049, 0.87655456, 0.21723954, 0.95980098],\n",
       "       [0.21691119, 0.16608583, 0.24137226, 0.77006248],\n",
       "       [0.38748784, 0.80453226, 0.75179548, 0.72382744],\n",
       "       [0.98562189, 0.66693268, 0.15678328, 0.8565348 ],\n",
       "       [0.03782483, 0.66485335, 0.16198218, 0.25392378],\n",
       "       [0.68348638, 0.9027701 , 0.33541983, 0.99948256],\n",
       "       [0.17034731, 0.75695908, 0.27652049, 0.5312315 ],\n",
       "       [0.85965692, 0.91959232, 0.20613873, 0.09779683],\n",
       "       [0.28213837, 0.50598691, 0.53053084, 0.09630162],\n",
       "       [0.32607578, 0.4723669 , 0.453192  , 0.10588734],\n",
       "       [0.94838936, 0.89451301, 0.85163782, 0.55219629],\n",
       "       [0.66495539, 0.04656628, 0.11677747, 0.79371778],\n",
       "       [0.57776561, 0.42877174, 0.42582587, 0.24900741],\n",
       "       [0.73861301, 0.48210263, 0.70936644, 0.50397001],\n",
       "       [0.8548108 , 0.49396462, 0.73530997, 0.80809201],\n",
       "       [0.42396135, 0.83060262, 0.45702272, 0.32936945],\n",
       "       [0.6988003 , 0.0764023 , 0.64874616, 0.10892704],\n",
       "       [0.55853037, 0.93311617, 0.69604935, 0.98615621],\n",
       "       [0.94318775, 0.26070182, 0.9339616 , 0.54990784],\n",
       "       [0.95281901, 0.59713156, 0.81461854, 0.49636204],\n",
       "       [0.42542953, 0.77134162, 0.20928856, 0.7094518 ],\n",
       "       [0.02773076, 0.8661919 , 0.04546442, 0.79224791],\n",
       "       [0.82834073, 0.0923789 , 0.51669735, 0.51622505],\n",
       "       [0.15268713, 0.1238439 , 0.53057043, 0.50586871],\n",
       "       [0.20274617, 0.33420326, 0.12012364, 0.0237553 ],\n",
       "       [0.22611507, 0.1605307 , 0.31699163, 0.48306486],\n",
       "       [0.52333108, 0.79774689, 0.44391278, 0.80979728],\n",
       "       [0.26343566, 0.24503317, 0.30667723, 0.52699379],\n",
       "       [0.65276203, 0.11173288, 0.68852416, 0.67909798],\n",
       "       [0.89841097, 0.00553344, 0.08742606, 0.09416545],\n",
       "       [0.46647334, 0.57387636, 0.23735372, 0.56622961],\n",
       "       [0.52427779, 0.04014685, 0.52506204, 0.03707705],\n",
       "       [0.47544553, 0.93283962, 0.97220248, 0.63772071],\n",
       "       [0.82056276, 0.67430216, 0.53956182, 0.56878646],\n",
       "       [0.22400776, 0.01822642, 0.00545835, 0.39685677],\n",
       "       [0.26851241, 0.45809917, 0.0167388 , 0.53122146],\n",
       "       [0.33642591, 0.39858179, 0.08808527, 0.87509883],\n",
       "       [0.64442356, 0.8622416 , 0.41553462, 0.1317422 ],\n",
       "       [0.13266462, 0.77798454, 0.1331454 , 0.70410087],\n",
       "       [0.15661004, 0.75853923, 0.74473312, 0.55428675],\n",
       "       [0.98579488, 0.32679942, 0.09787758, 0.29657647],\n",
       "       [0.21593806, 0.57270979, 0.90183949, 0.41297419],\n",
       "       [0.2727878 , 0.76961324, 0.68461749, 0.87031875],\n",
       "       [0.96697361, 0.63107111, 0.28265028, 0.45852483],\n",
       "       [0.86482873, 0.88631808, 0.7357273 , 0.32409229],\n",
       "       [0.533179  , 0.320368  , 0.682501  , 0.312599  ],\n",
       "       [0.444629  , 0.320368  , 0.808875  , 0.908167  ],\n",
       "       [0.607765  , 0.358771  , 0.405825  , 0.251007  ],\n",
       "       [0.687501  , 0.84587   , 0.833788  , 0.143186  ],\n",
       "       [0.557765  , 0.448771  , 0.445825  , 0.269007  ],\n",
       "       [0.507765  , 0.498771  , 0.395825  , 0.319007  ],\n",
       "       [0.457765  , 0.548771  , 0.345825  , 0.369007  ],\n",
       "       [0.407765  , 0.498771  , 0.295825  , 0.419007  ],\n",
       "       [0.357765  , 0.448771  , 0.245825  , 0.469007  ],\n",
       "       [0.325901  , 0.423101  , 0.406001  , 0.415501  ],\n",
       "       [0.287012  , 0.439767  , 0.456001  , 0.432167  ],\n",
       "       [0.38256   , 0.363705  , 0.389898  , 0.390221  ],\n",
       "       [0.331802  , 0.389754  , 0.375876  , 0.369452  ],\n",
       "       [0.331882  , 0.379388  , 0.371487  , 0.422793  ],\n",
       "       [0.301994  , 0.331229  , 0.44261   , 0.408753  ],\n",
       "       [0.402732  , 0.392983  , 0.412051  , 0.411811  ],\n",
       "       [0.394307  , 0.324568  , 0.266869  , 0.332541  ],\n",
       "       [0.395203  , 0.398125  , 0.414027  , 0.449168  ]])"
      ]
     },
     "execution_count": 4,
     "metadata": {},
     "output_type": "execute_result"
    }
   ],
   "source": [
    "f4_inputs"
   ]
  },
  {
   "cell_type": "code",
   "execution_count": 5,
   "id": "d0ba2fa2",
   "metadata": {},
   "outputs": [
    {
     "data": {
      "text/plain": [
       "array([-2.21082878e+01, -1.46013966e+01, -1.16999325e+01, -1.60537651e+01,\n",
       "       -1.00696334e+01, -1.54870825e+01, -1.26816850e+01, -1.60263998e+01,\n",
       "       -1.70492346e+01, -1.27417660e+01, -2.73163964e+01, -1.35276489e+01,\n",
       "       -1.66791152e+01, -1.65071586e+01, -1.78179993e+01, -2.65618208e+01,\n",
       "       -1.27583242e+01, -1.94415576e+01, -2.89032737e+01, -1.37027469e+01,\n",
       "       -2.94270914e+01, -1.15657420e+01, -2.68577864e+01, -7.96677535e+00,\n",
       "       -6.70208925e+00, -3.26256602e+01, -1.99894979e+01, -4.02554228e+00,\n",
       "       -1.31227823e+01, -2.31394284e+01, -1.11695198e+01, -1.63244903e+01,\n",
       "       -3.13844591e+01, -2.72948006e+01, -2.38556543e+01, -1.41568796e+01,\n",
       "       -2.67497513e+01, -1.51999203e+01, -9.16936028e+00, -1.34622659e+01,\n",
       "       -6.41942649e+00, -1.68006221e+01, -4.27992993e+00, -1.62096673e+01,\n",
       "       -2.46387788e+01, -7.10203834e+00, -1.41362728e+01, -2.92906830e+01,\n",
       "       -1.61875800e+01, -1.60664785e+01, -1.00659077e+01, -1.57640438e+01,\n",
       "       -1.72280893e+01, -1.78193119e+01, -1.70026112e+01, -2.04307474e+01,\n",
       "       -1.63461462e+01, -2.11343056e+01, -1.87567424e+01, -2.52144814e+01,\n",
       "       -7.45783174e+00, -2.01907897e+01, -4.58842687e+00, -2.43326477e+01,\n",
       "       -3.68584559e+00, -2.81221157e+00, -2.59029384e+00, -2.09980847e+00,\n",
       "       -2.36853895e+00,  1.34906130e-01, -1.35322371e+00,  1.54488651e-01,\n",
       "       -2.62018198e-02,  1.91068997e-01, -1.00658784e+00,  4.83945203e-01,\n",
       "       -1.70575402e+00, -1.02032839e-01])"
      ]
     },
     "execution_count": 5,
     "metadata": {},
     "output_type": "execute_result"
    }
   ],
   "source": [
    "f4_outputs"
   ]
  },
  {
   "cell_type": "code",
   "execution_count": 6,
   "id": "a26a49e5",
   "metadata": {},
   "outputs": [],
   "source": [
    "x_input = f4_inputs\n",
    "y_input = f4_outputs"
   ]
  },
  {
   "cell_type": "code",
   "execution_count": 7,
   "id": "355679a7",
   "metadata": {},
   "outputs": [
    {
     "name": "stdout",
     "output_type": "stream",
     "text": [
      "[0.402732 0.392983 0.412051 0.411811]\n"
     ]
    }
   ],
   "source": [
    "X_max= f4_inputs[np.argmax((f4_outputs))]\n",
    "print(X_max)"
   ]
  },
  {
   "cell_type": "code",
   "execution_count": 8,
   "id": "3dbf9988",
   "metadata": {},
   "outputs": [
    {
     "name": "stdout",
     "output_type": "stream",
     "text": [
      "0.48394520320252754\n"
     ]
    }
   ],
   "source": [
    "Y_max= f4_outputs[np.argmax((f4_outputs))]\n",
    "print(Y_max)"
   ]
  },
  {
   "cell_type": "code",
   "execution_count": 9,
   "id": "070ffb39",
   "metadata": {},
   "outputs": [],
   "source": [
    "x1 = np.linspace(0.402732-0.05, 0.402732+0.05, 10)\n",
    "x2 = np.linspace(0.392983-0.05, 0.392983+0.05, 10)\n",
    "x3 = np.linspace(0.412051-0.05, 0.412051+0.05, 10)\n",
    "x4 = np.linspace(0.411811-0.05, 0.411811+0.05, 10)\n",
    "X_grid = []\n",
    "for i in range(len(x1)):\n",
    "    for j in range(len(x2)):\n",
    "        for k in range(len(x3)):\n",
    "            for l in range(len(x3)):\n",
    "                X_grid.append([x1[i], x2[j],x3[k],x4[l]])\n",
    "X_grid = np.array(X_grid)\n",
    "#0.402732 0.392983 0.412051 0.411811\n",
    "#0.325901 0.423101 0.406001 0.415501\n",
    "#0.407765 0.498771 0.295825 0.419007\n",
    "#0.457765 0.548771 0.345825 0.369007\n",
    "#0.507765 0.498771 0.395825 0.319007\n",
    "#[0.557765  , 0.448771  , 0.445825  , 0.269007  ]\n",
    "#[0.57776561, 0.42877174, 0.42582587, 0.24900741]"
   ]
  },
  {
   "cell_type": "code",
   "execution_count": 11,
   "id": "89811687",
   "metadata": {},
   "outputs": [],
   "source": [
    "\n",
    "real_noise_std = 1e-10 \n",
    "noise_assumption = 1e-10\n",
    "\n",
    "rbf_lengthscale = 0.1\n",
    "\n",
    "beta = 0.09\n",
    "variable_value = np.linspace(0.001, 0.09, 10)\n",
    "#beta = np.linspace(0.1, 0.9, 100)\n",
    "#beta = np.linspace(1, 3, 100)\n",
    "#beta = np.linspace(1, 50, 100)\n",
    "result = []\n",
    "for i in range(len(variable_value)):\n",
    "    #beta = variable_value[i]\n",
    "    kernel = RBF(length_scale=rbf_lengthscale, length_scale_bounds='fixed')\n",
    "    model = GaussianProcessRegressor(kernel = kernel, alpha=noise_assumption)\n",
    "    model.fit(np.array(x_input),np.array(y_input))\n",
    "    post_mean, post_std = model.predict(np.array(X_grid), return_std=True)\n",
    "    post_mean, post_std = post_mean.squeeze(), post_std.squeeze()\n",
    "    acquisition_function = post_mean + beta* post_std\n",
    "    result.append([variable_value[i],[X_grid[np.argmax(acquisition_function)]]])"
   ]
  },
  {
   "cell_type": "code",
   "execution_count": 12,
   "id": "b8108237",
   "metadata": {},
   "outputs": [],
   "source": [
    "#[0.001, [array([0.55776561, 0.40877174, 0.40582587, 0.26900741]\n",
    "#[0.001, [array([0.59776561, 0.44877174, 0.40582587, 0.26900741]\n",
    "#[0.001, [array([0.59776561, 0.44877174, 0.40582587, 0.26900741]\n",
    "#[0.001, [array([0.55776561, 0.44877174, 0.44582587, 0.26900741])]\n",
    "#[0.001, [array([0.55776561, 0.44877174, 0.44582587, 0.26900741]\n",
    "#"
   ]
  },
  {
   "cell_type": "code",
   "execution_count": 13,
   "id": "6592bb15",
   "metadata": {},
   "outputs": [
    {
     "data": {
      "text/plain": [
       "[[0.001, [array([0.39717644, 0.40964967, 0.41760656, 0.39514433])]],\n",
       " [0.010888888888888889,\n",
       "  [array([0.39717644, 0.40964967, 0.41760656, 0.39514433])]],\n",
       " [0.020777777777777777,\n",
       "  [array([0.39717644, 0.40964967, 0.41760656, 0.39514433])]],\n",
       " [0.030666666666666665,\n",
       "  [array([0.39717644, 0.40964967, 0.41760656, 0.39514433])]],\n",
       " [0.04055555555555555,\n",
       "  [array([0.39717644, 0.40964967, 0.41760656, 0.39514433])]],\n",
       " [0.050444444444444445,\n",
       "  [array([0.39717644, 0.40964967, 0.41760656, 0.39514433])]],\n",
       " [0.06033333333333333,\n",
       "  [array([0.39717644, 0.40964967, 0.41760656, 0.39514433])]],\n",
       " [0.07022222222222221,\n",
       "  [array([0.39717644, 0.40964967, 0.41760656, 0.39514433])]],\n",
       " [0.0801111111111111,\n",
       "  [array([0.39717644, 0.40964967, 0.41760656, 0.39514433])]],\n",
       " [0.09, [array([0.39717644, 0.40964967, 0.41760656, 0.39514433])]]]"
      ]
     },
     "execution_count": 13,
     "metadata": {},
     "output_type": "execute_result"
    }
   ],
   "source": [
    "result"
   ]
  },
  {
   "cell_type": "code",
   "execution_count": null,
   "id": "8a09dcfa",
   "metadata": {},
   "outputs": [],
   "source": []
  }
 ],
 "metadata": {
  "kernelspec": {
   "display_name": "Python 3 (ipykernel)",
   "language": "python",
   "name": "python3"
  },
  "language_info": {
   "codemirror_mode": {
    "name": "ipython",
    "version": 3
   },
   "file_extension": ".py",
   "mimetype": "text/x-python",
   "name": "python",
   "nbconvert_exporter": "python",
   "pygments_lexer": "ipython3",
   "version": "3.10.6"
  }
 },
 "nbformat": 4,
 "nbformat_minor": 5
}
