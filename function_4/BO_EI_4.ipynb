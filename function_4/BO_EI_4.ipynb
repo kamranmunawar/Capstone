{
 "cells": [
  {
   "cell_type": "markdown",
   "id": "2c248774",
   "metadata": {},
   "source": [
    "**Function 4:**\n",
    "\n",
    "Fast, but Inaccurate Modelling. This example is for a particular business relying heavily on online sales. It can run very accurate calculations to figure out what is the optimal placement of their product across warehouses. Unfortunately, the calculations are extremely expensive (computationally) to run, so they can only do it once every two weeks. Instead, they propose using a machine learning model which approximates the solution quickly (in a few hours). The model has four hyper-parameters you need to tune, and the output corresponds to the difference between the expensive calculation, and the model. Since you are modelling a dynamical system, expect a lot of local optima!"
   ]
  },
  {
   "cell_type": "code",
   "execution_count": 21,
   "id": "14c1d7cd",
   "metadata": {},
   "outputs": [],
   "source": [
    "from sklearn.gaussian_process import GaussianProcessRegressor\n",
    "from scipy.stats import norm\n",
    "from scipy.optimize import minimize\n",
    "import sys\n",
    "import pandas as pd\n",
    "import numpy as np\n",
    "import matplotlib.pyplot as plt"
   ]
  },
  {
   "cell_type": "code",
   "execution_count": 22,
   "id": "5d3ee04c",
   "metadata": {},
   "outputs": [],
   "source": [
    "f4_inputs = np.load(\"initial_inputs.npy\")\n",
    "f4_outputs = np.load(\"initial_outputs.npy\")\n",
    "f4_inputs_2 = np.load(\"initial_inputs2.npy\")\n",
    "f4_outputs_2 = np.load(\"initial_outputs2.npy\")"
   ]
  },
  {
   "cell_type": "code",
   "execution_count": 23,
   "id": "b3b17c8f",
   "metadata": {},
   "outputs": [],
   "source": [
    "f4_inputs = np.concatenate((f4_inputs, f4_inputs_2)) \n",
    "f4_inputs = np.concatenate((f4_inputs, np.array([[0.533179, 0.320368, 0.682501, 0.312599]])))\n",
    "f4_inputs = np.concatenate((f4_inputs, np.array([[0.444629, 0.320368, 0.808875, 0.908167]]))) \n",
    "f4_inputs = np.concatenate((f4_inputs, np.array([[0.607765, 0.358771, 0.405825, 0.251007]]))) \n",
    "f4_inputs = np.concatenate((f4_inputs, np.array([[0.687501, 0.84587 , 0.833788, 0.143186]]))) \n",
    "f4_inputs = np.concatenate((f4_inputs, np.array([[0.557765, 0.448771, 0.445825, 0.269007]]))) \n",
    "f4_inputs = np.concatenate((f4_inputs, np.array([[0.507765, 0.498771, 0.395825, 0.319007]]))) \n",
    "f4_inputs = np.concatenate((f4_inputs, np.array([[0.457765, 0.548771, 0.345825, 0.369007]]))) \n",
    "f4_inputs = np.concatenate((f4_inputs, np.array([[0.407765, 0.498771, 0.295825, 0.419007]]))) \n",
    "f4_inputs = np.concatenate((f4_inputs, np.array([[0.357765, 0.448771, 0.245825, 0.469007]]))) \n",
    "f4_inputs = np.concatenate((f4_inputs, np.array([[0.325901, 0.423101, 0.406001, 0.415501]]))) \n",
    "f4_inputs = np.concatenate((f4_inputs, np.array([[0.287012, 0.439767, 0.456001, 0.432167]]))) \n",
    "f4_inputs = np.concatenate((f4_inputs, np.array([[0.38256 , 0.363705, 0.389898, 0.390221]]))) \n",
    "f4_inputs = np.concatenate((f4_inputs, np.array([[0.331802, 0.389754, 0.375876, 0.369452]]))) \n",
    "f4_inputs = np.concatenate((f4_inputs, np.array([[0.331882, 0.379388, 0.371487, 0.422793]]))) \n",
    "f4_inputs = np.concatenate((f4_inputs, np.array([[0.301994, 0.331229, 0.44261 , 0.408753]]))) \n",
    "f4_inputs = np.concatenate((f4_inputs, np.array([[0.402732, 0.392983, 0.412051, 0.411811]]))) \n",
    "f4_inputs = np.concatenate((f4_inputs, np.array([[0.394307, 0.324568, 0.266869, 0.332541]]))) \n",
    "f4_inputs = np.concatenate((f4_inputs, np.array([[0.395203, 0.398125, 0.414027, 0.449168]]))) \n",
    "\n",
    "f4_outputs = np.concatenate((f4_outputs,f4_outputs_2))\n",
    "f4_outputs = np.append(f4_outputs,-7.457831737943366)\n",
    "f4_outputs = np.append(f4_outputs,-20.190789652235313)\n",
    "f4_outputs = np.append(f4_outputs,-4.588426873216477)\n",
    "f4_outputs = np.append(f4_outputs,-24.332647737297297)\n",
    "f4_outputs = np.append(f4_outputs,-3.685845588546609)\n",
    "f4_outputs = np.append(f4_outputs,-2.8122115680390354)\n",
    "f4_outputs = np.append(f4_outputs,-2.590293835023562)\n",
    "f4_outputs = np.append(f4_outputs,-2.0998084663837484)\n",
    "f4_outputs = np.append(f4_outputs,-2.368538951646705)\n",
    "f4_outputs = np.append(f4_outputs,0.13490612991991258)\n",
    "f4_outputs = np.append(f4_outputs,-1.3532237087009196)\n",
    "f4_outputs = np.append(f4_outputs,0.15448865125965527)\n",
    "f4_outputs = np.append(f4_outputs,-0.02620181983396419)\n",
    "f4_outputs = np.append(f4_outputs,0.19106899681514777)\n",
    "f4_outputs = np.append(f4_outputs,-1.0065878357155316)\n",
    "f4_outputs = np.append(f4_outputs,0.48394520320252754)\n",
    "f4_outputs = np.append(f4_outputs,-1.70575402025506)\n",
    "f4_outputs = np.append(f4_outputs,-0.1020328389196119)\n"
   ]
  },
  {
   "cell_type": "code",
   "execution_count": 24,
   "id": "1e8856fd",
   "metadata": {},
   "outputs": [
    {
     "name": "stdout",
     "output_type": "stream",
     "text": [
      "[0.402732 0.392983 0.412051 0.411811]\n"
     ]
    }
   ],
   "source": [
    "X_max= f4_inputs[np.argmax((f4_outputs))]\n",
    "print(X_max)"
   ]
  },
  {
   "cell_type": "code",
   "execution_count": 20,
   "id": "6bfd6ed5",
   "metadata": {},
   "outputs": [
    {
     "name": "stdout",
     "output_type": "stream",
     "text": [
      "0.48394520320252754\n"
     ]
    }
   ],
   "source": [
    "Y_max= f4_outputs[np.argmax((f4_outputs))]\n",
    "print(Y_max)"
   ]
  },
  {
   "cell_type": "code",
   "execution_count": 28,
   "id": "8f82cae0",
   "metadata": {},
   "outputs": [],
   "source": [
    "def costly_function(x):\n",
    "    total = np.array([])\n",
    "    for x_i in x:\n",
    "         total = np.append(total, np.sum(np.exp(-(x_i - 5) ** 2)))\n",
    "    \n",
    "    return total  + np.random.randn()"
   ]
  },
  {
   "cell_type": "code",
   "execution_count": 29,
   "id": "f70cd50f",
   "metadata": {},
   "outputs": [],
   "source": [
    "class BayesianOptimizer():\n",
    "      \n",
    "    def __init__(self, target_func, x_init, y_init, n_iter, scale, batch_size):\n",
    "        self.x_init = x_init\n",
    "        self.y_init = y_init\n",
    "        self.target_func = target_func\n",
    "        self.n_iter = n_iter\n",
    "        self.scale = scale\n",
    "        self.batch_size = batch_size\n",
    "        self.gauss_pr = GaussianProcessRegressor()\n",
    "        self.best_samples_ = pd.DataFrame(columns = ['x', 'y', 'ei'])\n",
    "        self.distances_ = []\n",
    "        \n",
    "    def _get_expected_improvement(self, x_new):\n",
    "\n",
    "        # Using estimate from Gaussian surrogate instead of actual function for \n",
    "        # a new trial data point to avoid cost \n",
    " \n",
    "        mean_y_new, sigma_y_new = self.gauss_pr.predict(np.array([x_new]), return_std=True)\n",
    "        sigma_y_new = sigma_y_new.reshape(-1,1)\n",
    "        if sigma_y_new == 0.0:\n",
    "            return 0.0\n",
    "        \n",
    "        # Using estimates from Gaussian surrogate instead of actual function for \n",
    "        # entire prior distribution to avoid cost\n",
    "        \n",
    "        mean_y = self.gauss_pr.predict(self.x_init)\n",
    "        max_mean_y = np.max(mean_y)\n",
    "        z = (mean_y_new - max_mean_y) / sigma_y_new\n",
    "        exp_imp = (mean_y_new - max_mean_y) * norm.cdf(z) + sigma_y_new * norm.pdf(z)\n",
    "        \n",
    "        return exp_imp\n",
    "    def _acquisition_function(self, x):\n",
    "        return -self._get_expected_improvement(x)\n",
    "    \n",
    "    def _get_next_probable_point(self):\n",
    "            min_ei = float(sys.maxsize)\n",
    "            x_optimal = None \n",
    "            \n",
    "            # Trial with an array of random data points\n",
    "            \n",
    "            for x_start in np.random.uniform(low=0.1, high=0.99, size=(1,4)):\n",
    "                response = minimize(fun=self._acquisition_function, x0=x_start, method='L-BFGS-B')\n",
    "                if response.fun < min_ei:\n",
    "                    min_ei = response.fun\n",
    "                    x_optimal = response.x\n",
    "            \n",
    "            return x_optimal, min_ei\n",
    "    def _extend_prior_with_posterior_data(self, x,y):\n",
    "        self.x_init = np.append(self.x_init, np.array([x]), axis = 0)\n",
    "        self.y_init = np.append(self.y_init, np.array(y), axis = 0)\n",
    "        \n",
    "    def optimize(self):\n",
    "        y_max_ind = np.argmax(self.y_init)\n",
    "        y_max = self.y_init[y_max_ind]\n",
    "        optimal_x = self.x_init[y_max_ind]\n",
    "        optimal_ei = None\n",
    "        for i in range(self.n_iter):\n",
    "            self.gauss_pr.fit(self.x_init, self.y_init)\n",
    "            x_next, ei = self._get_next_probable_point()\n",
    "            y_next = self.target_func(np.array([x_next]))\n",
    "            self._extend_prior_with_posterior_data(x_next,y_next)\n",
    "            \n",
    "            if y_next[0] > y_max:\n",
    "                y_max = y_next[0]\n",
    "                optimal_x = x_next\n",
    "                optimal_ei = ei\n",
    "\n",
    "            if i == 0:\n",
    "                 prev_x = x_next\n",
    "            else:\n",
    "                self.distances_.append(np.linalg.norm(prev_x - x_next))\n",
    "                prev_x = x_next\n",
    "            tmpdf = pd.DataFrame({\"y\": y_max, \"ei\": optimal_ei},index=[1])\n",
    "            #self.best_samples_ = self.best_samples_.append({\"y\": y_max, \"ei\": optimal_ei},ignore_index=True)\n",
    "            self.best_samples_ =pd.concat([self.best_samples_ ,tmpdf],ignore_index = True)\n",
    "        \n",
    "        return optimal_x, y_max\n",
    "  \n",
    "  \n",
    "        "
   ]
  },
  {
   "cell_type": "code",
   "execution_count": 30,
   "id": "6269a01c",
   "metadata": {},
   "outputs": [],
   "source": [
    "sample_x = f4_inputs\n",
    "sample_y = f4_outputs"
   ]
  },
  {
   "cell_type": "code",
   "execution_count": 31,
   "id": "7cdcee94",
   "metadata": {},
   "outputs": [],
   "source": [
    "#bopt = BayesianOptimizer(target_func=costly_function, x_init=sample_x, y_init=sample_y, n_iter=200, scale=10, batch_size=30)\n",
    "#bopt.optimize()"
   ]
  },
  {
   "cell_type": "code",
   "execution_count": 32,
   "id": "7eca8d82",
   "metadata": {},
   "outputs": [],
   "source": [
    "#(array([0.68750124, 0.84587063, 0.83378841, 0.14318601]), 2.7270761263085004)\n",
    "#(array([0.13600068, 0.62980132, 0.31959903, 0.71442138]), 2.564554215711046)\n",
    "#(array([0.23855239, 0.431764  , 0.56839096, 0.51077638]), 2.5365200265476675)\n",
    "# [0.57776561, 0.42877174, 0.42582587, 0.24900741]\n",
    "#[0.607765  , 0.358771  , 0.405825  , 0.251007  ]"
   ]
  },
  {
   "cell_type": "code",
   "execution_count": 33,
   "id": "703cbcb3",
   "metadata": {},
   "outputs": [
    {
     "data": {
      "text/plain": [
       "array([[0.89698105, 0.72562797, 0.17540431, 0.70169437],\n",
       "       [0.8893564 , 0.49958786, 0.53926886, 0.50878344],\n",
       "       [0.25094624, 0.03369313, 0.14538002, 0.49493242],\n",
       "       [0.34696206, 0.0062504 , 0.76056361, 0.61302356],\n",
       "       [0.12487118, 0.12977019, 0.38440048, 0.2870761 ],\n",
       "       [0.80130271, 0.50023109, 0.70664456, 0.19510284],\n",
       "       [0.24770826, 0.06044543, 0.04218635, 0.44132425],\n",
       "       [0.74670224, 0.7570915 , 0.36935306, 0.20656628],\n",
       "       [0.40066503, 0.07257425, 0.88676825, 0.24384229],\n",
       "       [0.6260706 , 0.58675126, 0.43880578, 0.77885769],\n",
       "       [0.95713529, 0.59764438, 0.76611385, 0.77620991],\n",
       "       [0.73281243, 0.14524998, 0.47681272, 0.13336573],\n",
       "       [0.65511548, 0.07239183, 0.68715175, 0.08151656],\n",
       "       [0.21973443, 0.83203134, 0.48286416, 0.08256923],\n",
       "       [0.48859419, 0.2119651 , 0.93917791, 0.37619173],\n",
       "       [0.16713049, 0.87655456, 0.21723954, 0.95980098],\n",
       "       [0.21691119, 0.16608583, 0.24137226, 0.77006248],\n",
       "       [0.38748784, 0.80453226, 0.75179548, 0.72382744],\n",
       "       [0.98562189, 0.66693268, 0.15678328, 0.8565348 ],\n",
       "       [0.03782483, 0.66485335, 0.16198218, 0.25392378],\n",
       "       [0.68348638, 0.9027701 , 0.33541983, 0.99948256],\n",
       "       [0.17034731, 0.75695908, 0.27652049, 0.5312315 ],\n",
       "       [0.85965692, 0.91959232, 0.20613873, 0.09779683],\n",
       "       [0.28213837, 0.50598691, 0.53053084, 0.09630162],\n",
       "       [0.32607578, 0.4723669 , 0.453192  , 0.10588734],\n",
       "       [0.94838936, 0.89451301, 0.85163782, 0.55219629],\n",
       "       [0.66495539, 0.04656628, 0.11677747, 0.79371778],\n",
       "       [0.57776561, 0.42877174, 0.42582587, 0.24900741],\n",
       "       [0.73861301, 0.48210263, 0.70936644, 0.50397001],\n",
       "       [0.8548108 , 0.49396462, 0.73530997, 0.80809201],\n",
       "       [0.42396135, 0.83060262, 0.45702272, 0.32936945],\n",
       "       [0.6988003 , 0.0764023 , 0.64874616, 0.10892704],\n",
       "       [0.55853037, 0.93311617, 0.69604935, 0.98615621],\n",
       "       [0.94318775, 0.26070182, 0.9339616 , 0.54990784],\n",
       "       [0.95281901, 0.59713156, 0.81461854, 0.49636204],\n",
       "       [0.42542953, 0.77134162, 0.20928856, 0.7094518 ],\n",
       "       [0.02773076, 0.8661919 , 0.04546442, 0.79224791],\n",
       "       [0.82834073, 0.0923789 , 0.51669735, 0.51622505],\n",
       "       [0.15268713, 0.1238439 , 0.53057043, 0.50586871],\n",
       "       [0.20274617, 0.33420326, 0.12012364, 0.0237553 ],\n",
       "       [0.22611507, 0.1605307 , 0.31699163, 0.48306486],\n",
       "       [0.52333108, 0.79774689, 0.44391278, 0.80979728],\n",
       "       [0.26343566, 0.24503317, 0.30667723, 0.52699379],\n",
       "       [0.65276203, 0.11173288, 0.68852416, 0.67909798],\n",
       "       [0.89841097, 0.00553344, 0.08742606, 0.09416545],\n",
       "       [0.46647334, 0.57387636, 0.23735372, 0.56622961],\n",
       "       [0.52427779, 0.04014685, 0.52506204, 0.03707705],\n",
       "       [0.47544553, 0.93283962, 0.97220248, 0.63772071],\n",
       "       [0.82056276, 0.67430216, 0.53956182, 0.56878646],\n",
       "       [0.22400776, 0.01822642, 0.00545835, 0.39685677],\n",
       "       [0.26851241, 0.45809917, 0.0167388 , 0.53122146],\n",
       "       [0.33642591, 0.39858179, 0.08808527, 0.87509883],\n",
       "       [0.64442356, 0.8622416 , 0.41553462, 0.1317422 ],\n",
       "       [0.13266462, 0.77798454, 0.1331454 , 0.70410087],\n",
       "       [0.15661004, 0.75853923, 0.74473312, 0.55428675],\n",
       "       [0.98579488, 0.32679942, 0.09787758, 0.29657647],\n",
       "       [0.21593806, 0.57270979, 0.90183949, 0.41297419],\n",
       "       [0.2727878 , 0.76961324, 0.68461749, 0.87031875],\n",
       "       [0.96697361, 0.63107111, 0.28265028, 0.45852483],\n",
       "       [0.86482873, 0.88631808, 0.7357273 , 0.32409229],\n",
       "       [0.533179  , 0.320368  , 0.682501  , 0.312599  ],\n",
       "       [0.444629  , 0.320368  , 0.808875  , 0.908167  ],\n",
       "       [0.607765  , 0.358771  , 0.405825  , 0.251007  ],\n",
       "       [0.687501  , 0.84587   , 0.833788  , 0.143186  ],\n",
       "       [0.557765  , 0.448771  , 0.445825  , 0.269007  ],\n",
       "       [0.507765  , 0.498771  , 0.395825  , 0.319007  ],\n",
       "       [0.457765  , 0.548771  , 0.345825  , 0.369007  ],\n",
       "       [0.407765  , 0.498771  , 0.295825  , 0.419007  ],\n",
       "       [0.357765  , 0.448771  , 0.245825  , 0.469007  ],\n",
       "       [0.325901  , 0.423101  , 0.406001  , 0.415501  ],\n",
       "       [0.287012  , 0.439767  , 0.456001  , 0.432167  ],\n",
       "       [0.38256   , 0.363705  , 0.389898  , 0.390221  ],\n",
       "       [0.331802  , 0.389754  , 0.375876  , 0.369452  ],\n",
       "       [0.331882  , 0.379388  , 0.371487  , 0.422793  ],\n",
       "       [0.301994  , 0.331229  , 0.44261   , 0.408753  ],\n",
       "       [0.402732  , 0.392983  , 0.412051  , 0.411811  ],\n",
       "       [0.42396135, 0.83060262, 0.45702272, 0.32936945],\n",
       "       [0.6988003 , 0.0764023 , 0.64874616, 0.10892704],\n",
       "       [0.55853037, 0.93311617, 0.69604935, 0.98615621],\n",
       "       [0.94318775, 0.26070182, 0.9339616 , 0.54990784],\n",
       "       [0.95281901, 0.59713156, 0.81461854, 0.49636204],\n",
       "       [0.42542953, 0.77134162, 0.20928856, 0.7094518 ],\n",
       "       [0.02773076, 0.8661919 , 0.04546442, 0.79224791],\n",
       "       [0.82834073, 0.0923789 , 0.51669735, 0.51622505],\n",
       "       [0.15268713, 0.1238439 , 0.53057043, 0.50586871],\n",
       "       [0.20274617, 0.33420326, 0.12012364, 0.0237553 ],\n",
       "       [0.22611507, 0.1605307 , 0.31699163, 0.48306486],\n",
       "       [0.52333108, 0.79774689, 0.44391278, 0.80979728],\n",
       "       [0.26343566, 0.24503317, 0.30667723, 0.52699379],\n",
       "       [0.65276203, 0.11173288, 0.68852416, 0.67909798],\n",
       "       [0.89841097, 0.00553344, 0.08742606, 0.09416545],\n",
       "       [0.46647334, 0.57387636, 0.23735372, 0.56622961],\n",
       "       [0.52427779, 0.04014685, 0.52506204, 0.03707705],\n",
       "       [0.47544553, 0.93283962, 0.97220248, 0.63772071],\n",
       "       [0.82056276, 0.67430216, 0.53956182, 0.56878646],\n",
       "       [0.22400776, 0.01822642, 0.00545835, 0.39685677],\n",
       "       [0.26851241, 0.45809917, 0.0167388 , 0.53122146],\n",
       "       [0.33642591, 0.39858179, 0.08808527, 0.87509883],\n",
       "       [0.64442356, 0.8622416 , 0.41553462, 0.1317422 ],\n",
       "       [0.13266462, 0.77798454, 0.1331454 , 0.70410087],\n",
       "       [0.15661004, 0.75853923, 0.74473312, 0.55428675],\n",
       "       [0.98579488, 0.32679942, 0.09787758, 0.29657647],\n",
       "       [0.21593806, 0.57270979, 0.90183949, 0.41297419],\n",
       "       [0.2727878 , 0.76961324, 0.68461749, 0.87031875],\n",
       "       [0.96697361, 0.63107111, 0.28265028, 0.45852483],\n",
       "       [0.86482873, 0.88631808, 0.7357273 , 0.32409229],\n",
       "       [0.533179  , 0.320368  , 0.682501  , 0.312599  ],\n",
       "       [0.444629  , 0.320368  , 0.808875  , 0.908167  ],\n",
       "       [0.607765  , 0.358771  , 0.405825  , 0.251007  ],\n",
       "       [0.687501  , 0.84587   , 0.833788  , 0.143186  ],\n",
       "       [0.557765  , 0.448771  , 0.445825  , 0.269007  ],\n",
       "       [0.507765  , 0.498771  , 0.395825  , 0.319007  ],\n",
       "       [0.457765  , 0.548771  , 0.345825  , 0.369007  ],\n",
       "       [0.407765  , 0.498771  , 0.295825  , 0.419007  ],\n",
       "       [0.357765  , 0.448771  , 0.245825  , 0.469007  ],\n",
       "       [0.325901  , 0.423101  , 0.406001  , 0.415501  ],\n",
       "       [0.287012  , 0.439767  , 0.456001  , 0.432167  ],\n",
       "       [0.38256   , 0.363705  , 0.389898  , 0.390221  ],\n",
       "       [0.331802  , 0.389754  , 0.375876  , 0.369452  ],\n",
       "       [0.331882  , 0.379388  , 0.371487  , 0.422793  ],\n",
       "       [0.301994  , 0.331229  , 0.44261   , 0.408753  ],\n",
       "       [0.402732  , 0.392983  , 0.412051  , 0.411811  ]])"
      ]
     },
     "execution_count": 33,
     "metadata": {},
     "output_type": "execute_result"
    }
   ],
   "source": [
    "f4_inputs"
   ]
  },
  {
   "cell_type": "code",
   "execution_count": 13,
   "id": "e1d7e030",
   "metadata": {},
   "outputs": [
    {
     "data": {
      "text/plain": [
       "array([-2.21082878e+01, -1.46013966e+01, -1.16999325e+01, -1.60537651e+01,\n",
       "       -1.00696334e+01, -1.54870825e+01, -1.26816850e+01, -1.60263998e+01,\n",
       "       -1.70492346e+01, -1.27417660e+01, -2.73163964e+01, -1.35276489e+01,\n",
       "       -1.66791152e+01, -1.65071586e+01, -1.78179993e+01, -2.65618208e+01,\n",
       "       -1.27583242e+01, -1.94415576e+01, -2.89032737e+01, -1.37027469e+01,\n",
       "       -2.94270914e+01, -1.15657420e+01, -2.68577864e+01, -7.96677535e+00,\n",
       "       -6.70208925e+00, -3.26256602e+01, -1.99894979e+01, -4.02554228e+00,\n",
       "       -1.31227823e+01, -2.31394284e+01, -1.11695198e+01, -1.63244903e+01,\n",
       "       -3.13844591e+01, -2.72948006e+01, -2.38556543e+01, -1.41568796e+01,\n",
       "       -2.67497513e+01, -1.51999203e+01, -9.16936028e+00, -1.34622659e+01,\n",
       "       -6.41942649e+00, -1.68006221e+01, -4.27992993e+00, -1.62096673e+01,\n",
       "       -2.46387788e+01, -7.10203834e+00, -1.41362728e+01, -2.92906830e+01,\n",
       "       -1.61875800e+01, -1.60664785e+01, -1.00659077e+01, -1.57640438e+01,\n",
       "       -1.72280893e+01, -1.78193119e+01, -1.70026112e+01, -2.04307474e+01,\n",
       "       -1.63461462e+01, -2.11343056e+01, -1.87567424e+01, -2.52144814e+01,\n",
       "       -7.45783174e+00, -2.01907897e+01, -4.58842687e+00, -2.43326477e+01,\n",
       "       -3.68584559e+00, -2.81221157e+00, -2.59029384e+00, -2.09980847e+00,\n",
       "       -2.36853895e+00,  1.34906130e-01, -1.35322371e+00,  1.54488651e-01,\n",
       "       -2.62018198e-02,  1.91068997e-01, -1.00658784e+00])"
      ]
     },
     "execution_count": 13,
     "metadata": {},
     "output_type": "execute_result"
    }
   ],
   "source": [
    "f4_outputs"
   ]
  },
  {
   "cell_type": "code",
   "execution_count": 25,
   "id": "bd1ba851",
   "metadata": {},
   "outputs": [
    {
     "data": {
      "image/png": "[encoded data removed]",
      "text/plain": [
       "<Figure size 1200x600 with 4 Axes>"
      ]
     },
     "metadata": {},
     "output_type": "display_data"
    }
   ],
   "source": [
    "fig, ax = plt.subplots(1,4,figsize = (12,6))\n",
    "ax[0].scatter(f4_inputs[:,0],f4_outputs)\n",
    "ax[1].scatter(f4_inputs[:,1],f4_outputs)\n",
    "ax[2].scatter(f4_inputs[:,2],f4_outputs)\n",
    "ax[3].scatter(f4_inputs[:,3],f4_outputs)\n",
    "plt.show()"
   ]
  },
  {
   "cell_type": "code",
   "execution_count": null,
   "id": "6cfe160c",
   "metadata": {},
   "outputs": [],
   "source": []
  }
 ],
 "metadata": {
  "kernelspec": {
   "display_name": "Python 3 (ipykernel)",
   "language": "python",
   "name": "python3"
  },
  "language_info": {
   "codemirror_mode": {
    "name": "ipython",
    "version": 3
   },
   "file_extension": ".py",
   "mimetype": "text/x-python",
   "name": "python",
   "nbconvert_exporter": "python",
   "pygments_lexer": "ipython3",
   "version": "3.10.6"
  }
 },
 "nbformat": 4,
 "nbformat_minor": 5
}
