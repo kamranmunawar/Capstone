{
 "cells": [
  {
   "cell_type": "markdown",
   "id": "b50a1b52",
   "metadata": {},
   "source": [
    "**Function 3:**\n",
    "\n",
    "Drug Discovery Problem. In this example, you are doing drug discovery! You can select three compounds to create a drug, and receive a measurement of the people’s adverse reaction to the drug. You want to make this as close as possible to zero. (hint: one of the variables may not cause any effects on the person)."
   ]
  },
  {
   "cell_type": "code",
   "execution_count": 6,
   "id": "14c1d7cd",
   "metadata": {},
   "outputs": [],
   "source": [
    "from sklearn.gaussian_process import GaussianProcessRegressor\n",
    "from scipy.stats import norm\n",
    "from scipy.optimize import minimize\n",
    "import sys\n",
    "import pandas as pd\n",
    "import numpy as np\n",
    "import matplotlib.pyplot as plt"
   ]
  },
  {
   "cell_type": "code",
   "execution_count": 7,
   "id": "5d3ee04c",
   "metadata": {},
   "outputs": [],
   "source": [
    "f3_inputs = np.load(\"initial_inputs.npy\")\n",
    "f3_outputs = np.load(\"initial_outputs.npy\")\n",
    "f3_inputs_2 = np.load(\"initial_inputs2.npy\")\n",
    "f3_outputs_2 = np.load(\"initial_outputs2.npy\")"
   ]
  },
  {
   "cell_type": "code",
   "execution_count": 8,
   "id": "b3b17c8f",
   "metadata": {},
   "outputs": [],
   "source": [
    "f3_inputs = np.concatenate((f3_inputs, f3_inputs_2)) \n",
    "f3_inputs = np.concatenate((f3_inputs, np.array([[0.856453, 0.572658, 0.396564]]))) \n",
    "f3_inputs = np.concatenate((f3_inputs, np.array([[0.419052, 0.525791, 0.668723]]))) \n",
    "f3_inputs = np.concatenate((f3_inputs, np.array([[0.806453, 0.542658, 0.426564]]))) \n",
    "f3_inputs = np.concatenate((f3_inputs, np.array([[0.95404 , 0.603434, 0.360707]])))\n",
    "f3_inputs = np.concatenate((f3_inputs, np.array([[0.378686, 0.252828, 0.414646]]))) \n",
    "f3_inputs = np.concatenate((f3_inputs, np.array([[0.872008, 0.592658, 0.394341]]))) \n",
    "f3_inputs = np.concatenate((f3_inputs, np.array([[0.876453, 0.552658, 0.376564]]))) \n",
    "f3_inputs = np.concatenate((f3_inputs, np.array([[0.836453, 0.579324, 0.385452]]))) \n",
    "f3_inputs = np.concatenate((f3_inputs, np.array([[0.867564, 0.561546, 0.416564]]))) \n",
    "f3_inputs = np.concatenate((f3_inputs, np.array([[0.852008, 0.563768, 0.409897]]))) \n",
    "f3_inputs = np.concatenate((f3_inputs, np.array([[0.840896, 0.583768, 0.429897]]))) \n",
    "f3_inputs = np.concatenate((f3_inputs, np.array([[0.756341, 0.548901, 0.444526]]))) \n",
    "f3_inputs = np.concatenate((f3_inputs, np.array([[0.79493 , 0.426714, 0.384933]]))) \n",
    "f3_inputs = np.concatenate((f3_inputs, np.array([[0.863119, 0.543768, 0.403231]]))) \n",
    "f3_inputs = np.concatenate((f3_inputs, np.array([[0.845371, 0.518261, 0.394578]]))) \n",
    "f3_inputs = np.concatenate((f3_inputs, np.array([[0.872008, 0.543768, 0.429897]]))) \n",
    "f3_inputs = np.concatenate((f3_inputs, np.array([[0.85423 , 0.561545, 0.40323 ]]))) \n",
    "f3_inputs = np.concatenate((f3_inputs, np.array([[0.872008, 0.574879, 0.412119]]))) \n",
    "\n",
    "f3_outputs = np.concatenate((f3_outputs,f3_outputs_2)) \n",
    "f3_outputs = np.append(f3_outputs,-0.007556472239926157)\n",
    "f3_outputs = np.append(f3_outputs,-0.11117041024766369)\n",
    "f3_outputs = np.append(f3_outputs,-0.02486221525774178)\n",
    "f3_outputs = np.append(f3_outputs,-0.02157038795559339)\n",
    "f3_outputs = np.append(f3_outputs,-0.0503012651579929)\n",
    "f3_outputs = np.append(f3_outputs,-0.01517794191050481)\n",
    "f3_outputs = np.append(f3_outputs,-0.01595053598681603)\n",
    "f3_outputs = np.append(f3_outputs,-0.010925064020108063)\n",
    "f3_outputs = np.append(f3_outputs,-0.007386906470204272)\n",
    "f3_outputs = np.append(f3_outputs,-0.004457685991172721)\n",
    "f3_outputs = np.append(f3_outputs,-0.025865326752195786)\n",
    "f3_outputs = np.append(f3_outputs,-0.011107628816793764)\n",
    "f3_outputs = np.append(f3_outputs,-0.01562544524641375)\n",
    "f3_outputs = np.append(f3_outputs,-0.010331415655822254)\n",
    "f3_outputs = np.append(f3_outputs,-0.01698559042276884)\n",
    "f3_outputs = np.append(f3_outputs,-0.017335638304868072)\n",
    "f3_outputs = np.append(f3_outputs,-0.01188054501063807)\n",
    "f3_outputs = np.append(f3_outputs,-0.008744864239247193)\n"
   ]
  },
  {
   "cell_type": "code",
   "execution_count": 9,
   "id": "7150563c",
   "metadata": {},
   "outputs": [
    {
     "name": "stdout",
     "output_type": "stream",
     "text": [
      "[0.852008 0.563768 0.409897]\n"
     ]
    }
   ],
   "source": [
    "X_max= f3_inputs[np.argmax((f3_outputs))]\n",
    "print(X_max)"
   ]
  },
  {
   "cell_type": "code",
   "execution_count": 10,
   "id": "a4525421",
   "metadata": {},
   "outputs": [
    {
     "name": "stdout",
     "output_type": "stream",
     "text": [
      "-0.004457685991172721\n"
     ]
    }
   ],
   "source": [
    "Y_max= f3_outputs[np.argmax((f3_outputs))]\n",
    "print(Y_max)"
   ]
  },
  {
   "cell_type": "code",
   "execution_count": 7,
   "id": "8f82cae0",
   "metadata": {},
   "outputs": [],
   "source": [
    "def costly_function(x):\n",
    "    total = np.array([])\n",
    "    for x_i in x:\n",
    "         total = np.append(total, np.sum(np.exp(-(x_i - 5) ** 2)))\n",
    "    \n",
    "    return total  + np.random.randn()"
   ]
  },
  {
   "cell_type": "code",
   "execution_count": 11,
   "id": "f70cd50f",
   "metadata": {},
   "outputs": [],
   "source": [
    "class BayesianOptimizer():\n",
    "      \n",
    "    def __init__(self, target_func, x_init, y_init, n_iter, scale, batch_size):\n",
    "        self.x_init = x_init\n",
    "        self.y_init = y_init\n",
    "        self.target_func = target_func\n",
    "        self.n_iter = n_iter\n",
    "        self.scale = scale\n",
    "        self.batch_size = batch_size\n",
    "        self.gauss_pr = GaussianProcessRegressor()\n",
    "        self.best_samples_ = pd.DataFrame(columns = ['x', 'y', 'ei'])\n",
    "        self.distances_ = []\n",
    "        \n",
    "    def _get_expected_improvement(self, x_new):\n",
    "\n",
    "        # Using estimate from Gaussian surrogate instead of actual function for \n",
    "        # a new trial data point to avoid cost \n",
    " \n",
    "        mean_y_new, sigma_y_new = self.gauss_pr.predict(np.array([x_new]), return_std=True)\n",
    "        sigma_y_new = sigma_y_new.reshape(-1,1)\n",
    "        if sigma_y_new == 0.0:\n",
    "            return 0.0\n",
    "        \n",
    "        # Using estimates from Gaussian surrogate instead of actual function for \n",
    "        # entire prior distribution to avoid cost\n",
    "        \n",
    "        mean_y = self.gauss_pr.predict(self.x_init)\n",
    "        max_mean_y = np.max(mean_y)\n",
    "        z = (mean_y_new - max_mean_y) / sigma_y_new\n",
    "        exp_imp = (mean_y_new - max_mean_y) * norm.cdf(z) + sigma_y_new * norm.pdf(z)\n",
    "        \n",
    "        return exp_imp\n",
    "    def _acquisition_function(self, x):\n",
    "        return -self._get_expected_improvement(x)\n",
    "    \n",
    "    def _get_next_probable_point(self):\n",
    "            min_ei = float(sys.maxsize)\n",
    "            x_optimal = None \n",
    "            \n",
    "            # Trial with an array of random data points\n",
    "            \n",
    "            for x_start in (np.random.random((self.batch_size,self.x_init.shape[1])) * self.scale):\n",
    "                response = minimize(fun=self._acquisition_function, x0=x_start, method='L-BFGS-B')\n",
    "                if response.fun < min_ei:\n",
    "                    min_ei = response.fun\n",
    "                    x_optimal = response.x\n",
    "            \n",
    "            return x_optimal, min_ei\n",
    "    def _extend_prior_with_posterior_data(self, x,y):\n",
    "        self.x_init = np.append(self.x_init, np.array([x]), axis = 0)\n",
    "        self.y_init = np.append(self.y_init, np.array(y), axis = 0)\n",
    "        \n",
    "    def optimize(self):\n",
    "        y_max_ind = np.argmax(self.y_init)\n",
    "        y_max = self.y_init[y_max_ind]\n",
    "        optimal_x = self.x_init[y_max_ind]\n",
    "        optimal_ei = None\n",
    "        for i in range(self.n_iter):\n",
    "            self.gauss_pr.fit(self.x_init, self.y_init)\n",
    "            x_next, ei = self._get_next_probable_point()\n",
    "            y_next = self.target_func(np.array([x_next]))\n",
    "            self._extend_prior_with_posterior_data(x_next,y_next)\n",
    "            \n",
    "            if y_next[0] > y_max:\n",
    "                y_max = y_next[0]\n",
    "                optimal_x = x_next\n",
    "                optimal_ei = ei\n",
    "\n",
    "            if i == 0:\n",
    "                 prev_x = x_next\n",
    "            else:\n",
    "                self.distances_.append(np.linalg.norm(prev_x - x_next))\n",
    "                prev_x = x_next\n",
    "            tmpdf = pd.DataFrame({\"y\": y_max, \"ei\": optimal_ei},index=[1])\n",
    "            #self.best_samples_ = self.best_samples_.append({\"y\": y_max, \"ei\": optimal_ei},ignore_index=True)\n",
    "            self.best_samples_ =pd.concat([self.best_samples_ ,tmpdf],ignore_index = True)\n",
    "        \n",
    "        return optimal_x, y_max\n",
    "  \n",
    "  \n",
    "        "
   ]
  },
  {
   "cell_type": "code",
   "execution_count": 12,
   "id": "6269a01c",
   "metadata": {},
   "outputs": [],
   "source": [
    "sample_x = f3_inputs\n",
    "sample_y = f3_outputs"
   ]
  },
  {
   "cell_type": "code",
   "execution_count": 28,
   "id": "7cdcee94",
   "metadata": {},
   "outputs": [
    {
     "data": {
      "text/plain": [
       "(array([5.28631774, 4.04208339, 4.53543696]), 5.258058465628174)"
      ]
     },
     "execution_count": 28,
     "metadata": {},
     "output_type": "execute_result"
    }
   ],
   "source": [
    "bopt = BayesianOptimizer(target_func=costly_function, x_init=sample_x, y_init=sample_y, n_iter=200, scale=10, batch_size=30)\n",
    "bopt.optimize()"
   ]
  },
  {
   "cell_type": "code",
   "execution_count": 22,
   "id": "703cbcb3",
   "metadata": {},
   "outputs": [
    {
     "data": {
      "text/plain": [
       "array([[0.17152521, 0.34391687, 0.2487372 ],\n",
       "       [0.24211446, 0.64407427, 0.27243281],\n",
       "       [0.53490572, 0.39850092, 0.17338873],\n",
       "       [0.49258141, 0.61159319, 0.34017639],\n",
       "       [0.13462167, 0.21991724, 0.45820622],\n",
       "       [0.34552327, 0.94135983, 0.26936348],\n",
       "       [0.15183663, 0.43999062, 0.99088187],\n",
       "       [0.64550284, 0.39714294, 0.91977134],\n",
       "       [0.74691195, 0.28419631, 0.22629985],\n",
       "       [0.17047699, 0.6970324 , 0.14916943],\n",
       "       [0.22054934, 0.29782524, 0.34355534],\n",
       "       [0.66601366, 0.67198515, 0.2462953 ],\n",
       "       [0.04680895, 0.23136024, 0.77061759],\n",
       "       [0.60009728, 0.72513573, 0.06608864],\n",
       "       [0.96599485, 0.86111969, 0.56682913],\n",
       "       [0.16569979, 0.25685582, 0.65469   ],\n",
       "       [0.65099632, 0.42417272, 0.52674437],\n",
       "       [0.10601263, 0.24333177, 0.65025654],\n",
       "       [0.35216426, 0.10580766, 0.06546785],\n",
       "       [0.829086  , 0.4393692 , 0.20713429],\n",
       "       [0.80489315, 0.31206954, 0.24371441],\n",
       "       [0.46204056, 0.12939599, 0.83858636],\n",
       "       [0.82217052, 0.46650685, 0.54929183],\n",
       "       [0.98514841, 0.72088289, 0.77643975],\n",
       "       [0.18674264, 0.60674065, 0.66958022],\n",
       "       [0.28810255, 0.70297378, 0.89849626],\n",
       "       [0.08742747, 0.26673553, 0.30128017],\n",
       "       [0.87436053, 0.86753817, 0.89436325],\n",
       "       [0.70350412, 0.18532319, 0.81992293],\n",
       "       [0.57579775, 0.32285284, 0.53417744],\n",
       "       [0.856453  , 0.572658  , 0.396564  ],\n",
       "       [0.419052  , 0.525791  , 0.668723  ],\n",
       "       [0.806453  , 0.542658  , 0.426564  ],\n",
       "       [0.95404   , 0.603434  , 0.360707  ],\n",
       "       [0.378686  , 0.252828  , 0.414646  ],\n",
       "       [0.872008  , 0.592658  , 0.394341  ],\n",
       "       [0.876453  , 0.552658  , 0.376564  ],\n",
       "       [0.836453  , 0.579324  , 0.385452  ],\n",
       "       [0.867564  , 0.561546  , 0.416564  ],\n",
       "       [0.852008  , 0.563768  , 0.409897  ],\n",
       "       [0.840896  , 0.583768  , 0.429897  ],\n",
       "       [0.756341  , 0.548901  , 0.444526  ],\n",
       "       [0.79493   , 0.426714  , 0.384933  ],\n",
       "       [0.863119  , 0.543768  , 0.403231  ]])"
      ]
     },
     "execution_count": 22,
     "metadata": {},
     "output_type": "execute_result"
    }
   ],
   "source": [
    "f3_inputs"
   ]
  },
  {
   "cell_type": "code",
   "execution_count": 23,
   "id": "0b965202",
   "metadata": {},
   "outputs": [
    {
     "data": {
      "text/plain": [
       "array([-0.1121222 , -0.08796286, -0.11141465, -0.03483531, -0.04800758,\n",
       "       -0.11062091, -0.39892551, -0.11386851, -0.13146061, -0.09418956,\n",
       "       -0.04694741, -0.10596504, -0.11804826, -0.03637783, -0.05675837,\n",
       "       -0.12809391, -0.03103939, -0.1172756 , -0.07944403, -0.14258557,\n",
       "       -0.11962132, -0.06119926, -0.03435924, -0.0876973 , -0.11502216,\n",
       "       -0.07478879, -0.10441561, -0.08945485, -0.08760022, -0.02514614,\n",
       "       -0.00755647, -0.11117041, -0.02486222, -0.02157039, -0.05030127,\n",
       "       -0.01517794, -0.01595054, -0.01092506, -0.00738691, -0.00445769,\n",
       "       -0.02586533, -0.01110763, -0.01562545, -0.01033142])"
      ]
     },
     "execution_count": 23,
     "metadata": {},
     "output_type": "execute_result"
    }
   ],
   "source": [
    "f3_outputs"
   ]
  },
  {
   "cell_type": "code",
   "execution_count": 11,
   "id": "52e9346f",
   "metadata": {},
   "outputs": [
    {
     "data": {
      "image/png": "[encoded data removed]",
      "text/plain": [
       "<Figure size 1200x600 with 3 Axes>"
      ]
     },
     "metadata": {},
     "output_type": "display_data"
    }
   ],
   "source": [
    "fig, ax = plt.subplots(1,3,figsize = (12,6))\n",
    "ax[0].scatter(f3_inputs[:,0],f3_outputs)\n",
    "ax[1].scatter(f3_inputs[:,1],f3_outputs)\n",
    "ax[2].scatter(f3_inputs[:,2],f3_outputs)\n",
    "plt.show()"
   ]
  },
  {
   "cell_type": "code",
   "execution_count": null,
   "id": "b9f55e91",
   "metadata": {},
   "outputs": [],
   "source": []
  }
 ],
 "metadata": {
  "kernelspec": {
   "display_name": "Python 3 (ipykernel)",
   "language": "python",
   "name": "python3"
  },
  "language_info": {
   "codemirror_mode": {
    "name": "ipython",
    "version": 3
   },
   "file_extension": ".py",
   "mimetype": "text/x-python",
   "name": "python",
   "nbconvert_exporter": "python",
   "pygments_lexer": "ipython3",
   "version": "3.10.6"
  }
 },
 "nbformat": 4,
 "nbformat_minor": 5
}
