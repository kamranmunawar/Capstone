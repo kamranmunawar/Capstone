{
 "cells": [
  {
   "cell_type": "code",
   "execution_count": 52,
   "id": "064d1060",
   "metadata": {},
   "outputs": [],
   "source": [
    "import numpy as np\n",
    "import matplotlib.pyplot as plt\n",
    "from IPython.display import clear_output\n",
    "\n",
    "from sklearn.gaussian_process import GaussianProcessRegressor\n",
    "from sklearn.gaussian_process.kernels import RBF\n",
    "\n",
    "from statistics import NormalDist\n",
    "import itertools as it"
   ]
  },
  {
   "cell_type": "code",
   "execution_count": 53,
   "id": "8d9b4a51",
   "metadata": {},
   "outputs": [],
   "source": [
    "f3_inputs = np.load(\"initial_inputs.npy\")\n",
    "f3_outputs = np.load(\"initial_outputs.npy\")\n",
    "f3_inputs_2 = np.load(\"initial_inputs2.npy\")\n",
    "f3_outputs_2 = np.load(\"initial_outputs2.npy\")"
   ]
  },
  {
   "cell_type": "code",
   "execution_count": 54,
   "id": "8e5ce6f1",
   "metadata": {},
   "outputs": [],
   "source": [
    "f3_inputs = np.concatenate((f3_inputs, f3_inputs_2)) \n",
    "f3_inputs = np.concatenate((f3_inputs, np.array([[0.856453, 0.572658, 0.396564]]))) \n",
    "f3_inputs = np.concatenate((f3_inputs, np.array([[0.419052, 0.525791, 0.668723]]))) \n",
    "f3_inputs = np.concatenate((f3_inputs, np.array([[0.806453, 0.542658, 0.426564]]))) \n",
    "f3_inputs = np.concatenate((f3_inputs, np.array([[0.95404 , 0.603434, 0.360707]])))\n",
    "f3_inputs = np.concatenate((f3_inputs, np.array([[0.378686, 0.252828, 0.414646]]))) \n",
    "f3_inputs = np.concatenate((f3_inputs, np.array([[0.872008, 0.592658, 0.394341]]))) \n",
    "f3_inputs = np.concatenate((f3_inputs, np.array([[0.876453, 0.552658, 0.376564]]))) \n",
    "f3_inputs = np.concatenate((f3_inputs, np.array([[0.836453, 0.579324, 0.385452]]))) \n",
    "f3_inputs = np.concatenate((f3_inputs, np.array([[0.867564, 0.561546, 0.416564]]))) \n",
    "f3_inputs = np.concatenate((f3_inputs, np.array([[0.852008, 0.563768, 0.409897]]))) \n",
    "f3_inputs = np.concatenate((f3_inputs, np.array([[0.840896, 0.583768, 0.429897]]))) \n",
    "f3_inputs = np.concatenate((f3_inputs, np.array([[0.756341, 0.548901, 0.444526]]))) \n",
    "f3_inputs = np.concatenate((f3_inputs, np.array([[0.79493 , 0.426714, 0.384933]]))) \n",
    "f3_inputs = np.concatenate((f3_inputs, np.array([[0.863119, 0.543768, 0.403231]]))) \n",
    "f3_inputs = np.concatenate((f3_inputs, np.array([[0.845371, 0.518261, 0.394578]]))) \n",
    "f3_inputs = np.concatenate((f3_inputs, np.array([[0.872008, 0.543768, 0.429897]]))) \n",
    "f3_inputs = np.concatenate((f3_inputs, np.array([[0.85423 , 0.561545, 0.40323 ]]))) \n",
    "f3_inputs = np.concatenate((f3_inputs, np.array([[0.872008, 0.574879, 0.412119]]))) \n",
    "\n",
    "f3_outputs = np.concatenate((f3_outputs,f3_outputs_2)) \n",
    "f3_outputs = np.append(f3_outputs,-0.007556472239926157)\n",
    "f3_outputs = np.append(f3_outputs,-0.11117041024766369)\n",
    "f3_outputs = np.append(f3_outputs,-0.02486221525774178)\n",
    "f3_outputs = np.append(f3_outputs,-0.02157038795559339)\n",
    "f3_outputs = np.append(f3_outputs,-0.0503012651579929)\n",
    "f3_outputs = np.append(f3_outputs,-0.01517794191050481)\n",
    "f3_outputs = np.append(f3_outputs,-0.01595053598681603)\n",
    "f3_outputs = np.append(f3_outputs,-0.010925064020108063)\n",
    "f3_outputs = np.append(f3_outputs,-0.007386906470204272)\n",
    "f3_outputs = np.append(f3_outputs,-0.004457685991172721)\n",
    "f3_outputs = np.append(f3_outputs,-0.025865326752195786)\n",
    "f3_outputs = np.append(f3_outputs,-0.011107628816793764)\n",
    "f3_outputs = np.append(f3_outputs,-0.01562544524641375)\n",
    "f3_outputs = np.append(f3_outputs,-0.010331415655822254)\n",
    "f3_outputs = np.append(f3_outputs,-0.01698559042276884)\n",
    "f3_outputs = np.append(f3_outputs,-0.017335638304868072)\n",
    "f3_outputs = np.append(f3_outputs,-0.01188054501063807)\n",
    "f3_outputs = np.append(f3_outputs,-0.008744864239247193)\n"
   ]
  },
  {
   "cell_type": "code",
   "execution_count": 55,
   "id": "c89da81f",
   "metadata": {},
   "outputs": [
    {
     "data": {
      "text/plain": [
       "array([[0.17152521, 0.34391687, 0.2487372 ],\n",
       "       [0.24211446, 0.64407427, 0.27243281],\n",
       "       [0.53490572, 0.39850092, 0.17338873],\n",
       "       [0.49258141, 0.61159319, 0.34017639],\n",
       "       [0.13462167, 0.21991724, 0.45820622],\n",
       "       [0.34552327, 0.94135983, 0.26936348],\n",
       "       [0.15183663, 0.43999062, 0.99088187],\n",
       "       [0.64550284, 0.39714294, 0.91977134],\n",
       "       [0.74691195, 0.28419631, 0.22629985],\n",
       "       [0.17047699, 0.6970324 , 0.14916943],\n",
       "       [0.22054934, 0.29782524, 0.34355534],\n",
       "       [0.66601366, 0.67198515, 0.2462953 ],\n",
       "       [0.04680895, 0.23136024, 0.77061759],\n",
       "       [0.60009728, 0.72513573, 0.06608864],\n",
       "       [0.96599485, 0.86111969, 0.56682913],\n",
       "       [0.16569979, 0.25685582, 0.65469   ],\n",
       "       [0.65099632, 0.42417272, 0.52674437],\n",
       "       [0.10601263, 0.24333177, 0.65025654],\n",
       "       [0.35216426, 0.10580766, 0.06546785],\n",
       "       [0.829086  , 0.4393692 , 0.20713429],\n",
       "       [0.80489315, 0.31206954, 0.24371441],\n",
       "       [0.46204056, 0.12939599, 0.83858636],\n",
       "       [0.82217052, 0.46650685, 0.54929183],\n",
       "       [0.98514841, 0.72088289, 0.77643975],\n",
       "       [0.18674264, 0.60674065, 0.66958022],\n",
       "       [0.28810255, 0.70297378, 0.89849626],\n",
       "       [0.08742747, 0.26673553, 0.30128017],\n",
       "       [0.87436053, 0.86753817, 0.89436325],\n",
       "       [0.70350412, 0.18532319, 0.81992293],\n",
       "       [0.57579775, 0.32285284, 0.53417744],\n",
       "       [0.856453  , 0.572658  , 0.396564  ],\n",
       "       [0.419052  , 0.525791  , 0.668723  ],\n",
       "       [0.806453  , 0.542658  , 0.426564  ],\n",
       "       [0.95404   , 0.603434  , 0.360707  ],\n",
       "       [0.378686  , 0.252828  , 0.414646  ],\n",
       "       [0.872008  , 0.592658  , 0.394341  ],\n",
       "       [0.876453  , 0.552658  , 0.376564  ],\n",
       "       [0.836453  , 0.579324  , 0.385452  ],\n",
       "       [0.867564  , 0.561546  , 0.416564  ],\n",
       "       [0.852008  , 0.563768  , 0.409897  ],\n",
       "       [0.840896  , 0.583768  , 0.429897  ],\n",
       "       [0.756341  , 0.548901  , 0.444526  ],\n",
       "       [0.79493   , 0.426714  , 0.384933  ],\n",
       "       [0.863119  , 0.543768  , 0.403231  ],\n",
       "       [0.845371  , 0.518261  , 0.394578  ],\n",
       "       [0.872008  , 0.543768  , 0.429897  ],\n",
       "       [0.85423   , 0.561545  , 0.40323   ],\n",
       "       [0.872008  , 0.574879  , 0.412119  ]])"
      ]
     },
     "execution_count": 55,
     "metadata": {},
     "output_type": "execute_result"
    }
   ],
   "source": [
    "f3_inputs"
   ]
  },
  {
   "cell_type": "code",
   "execution_count": 56,
   "id": "d0ba2fa2",
   "metadata": {},
   "outputs": [
    {
     "data": {
      "text/plain": [
       "array([-0.1121222 , -0.08796286, -0.11141465, -0.03483531, -0.04800758,\n",
       "       -0.11062091, -0.39892551, -0.11386851, -0.13146061, -0.09418956,\n",
       "       -0.04694741, -0.10596504, -0.11804826, -0.03637783, -0.05675837,\n",
       "       -0.12809391, -0.03103939, -0.1172756 , -0.07944403, -0.14258557,\n",
       "       -0.11962132, -0.06119926, -0.03435924, -0.0876973 , -0.11502216,\n",
       "       -0.07478879, -0.10441561, -0.08945485, -0.08760022, -0.02514614,\n",
       "       -0.00755647, -0.11117041, -0.02486222, -0.02157039, -0.05030127,\n",
       "       -0.01517794, -0.01595054, -0.01092506, -0.00738691, -0.00445769,\n",
       "       -0.02586533, -0.01110763, -0.01562545, -0.01033142, -0.01698559,\n",
       "       -0.01733564, -0.01188055, -0.00874486])"
      ]
     },
     "execution_count": 56,
     "metadata": {},
     "output_type": "execute_result"
    }
   ],
   "source": [
    "f3_outputs"
   ]
  },
  {
   "cell_type": "code",
   "execution_count": 57,
   "id": "9cca4283",
   "metadata": {},
   "outputs": [],
   "source": [
    "x_input = f3_inputs\n",
    "y_input = f3_outputs"
   ]
  },
  {
   "cell_type": "code",
   "execution_count": 58,
   "id": "11079741",
   "metadata": {},
   "outputs": [
    {
     "name": "stdout",
     "output_type": "stream",
     "text": [
      "[0.852008 0.563768 0.409897]\n"
     ]
    }
   ],
   "source": [
    "X_max= x_input[np.argmax((y_input))]\n",
    "print(X_max)"
   ]
  },
  {
   "cell_type": "code",
   "execution_count": 59,
   "id": "c20cb11a",
   "metadata": {},
   "outputs": [
    {
     "name": "stdout",
     "output_type": "stream",
     "text": [
      "-0.004457685991172721\n"
     ]
    }
   ],
   "source": [
    "Y_max= y_input[np.argmax((y_input))]\n",
    "print(Y_max)"
   ]
  },
  {
   "cell_type": "code",
   "execution_count": 60,
   "id": "e957a98c",
   "metadata": {},
   "outputs": [],
   "source": [
    "x1 = np.linspace(0.852008-0.02, 0.852008+0.02, 10)\n",
    "x2 = np.linspace(0.563768-0.02, 0.563768+0.02, 10)\n",
    "x3 = np.linspace(0.409897-0.02, 0.409897+0.02, 10)\n",
    "\n",
    "X_grid = []\n",
    "for i in range(len(x1)):\n",
    "    for j in range(len(x2)):\n",
    "        for k in range(len(x3)):\n",
    "            X_grid.append([x1[i], x2[j],x3[k]])\n",
    "X_grid = np.array(X_grid)\n",
    "\n",
    "#0.852008 0.563768 0.409897\n",
    "#0.867564 0.561546 0.416564\n",
    "#0.856453 0.572658 0.396564"
   ]
  },
  {
   "cell_type": "code",
   "execution_count": 61,
   "id": "313e7790",
   "metadata": {},
   "outputs": [],
   "source": [
    "noise_assumption = 1e-10\n",
    "rbf_lengthscale =0.7\n",
    "beta = 0.001\n",
    "#beta = np.linspace(0.1, 0.9, 100)\n",
    "#beta = np.linspace(1, 3, 100)\n",
    "#beta = np.linspace(1, 50, 100)\n",
    "variable_value = np.linspace(0.001, 0.09, 10)\n",
    "result = []\n",
    "for i in range(len(variable_value)):\n",
    "    #beta = variable_value[i]\n",
    "    kernel = RBF(length_scale=rbf_lengthscale, length_scale_bounds='fixed')\n",
    "    model = GaussianProcessRegressor(kernel = kernel, alpha=noise_assumption)\n",
    "    model.fit(np.array(x_input),np.array(y_input))\n",
    "    post_mean, post_std = model.predict(np.array(X_grid), return_std=True)\n",
    "    post_mean, post_std = post_mean.squeeze(), post_std.squeeze()\n",
    "    acquisition_function = post_mean + beta* post_std\n",
    "    result.append([variable_value[i],[X_grid[np.argmax(acquisition_function)]]])"
   ]
  },
  {
   "cell_type": "code",
   "execution_count": 62,
   "id": "6592bb15",
   "metadata": {},
   "outputs": [
    {
     "data": {
      "text/plain": [
       "[[0.001, [array([0.872008  , 0.57043467, 0.40323033])]],\n",
       " [0.010888888888888889, [array([0.872008  , 0.57043467, 0.40323033])]],\n",
       " [0.020777777777777777, [array([0.872008  , 0.57043467, 0.40323033])]],\n",
       " [0.030666666666666665, [array([0.872008  , 0.57043467, 0.40323033])]],\n",
       " [0.04055555555555555, [array([0.872008  , 0.57043467, 0.40323033])]],\n",
       " [0.050444444444444445, [array([0.872008  , 0.57043467, 0.40323033])]],\n",
       " [0.06033333333333333, [array([0.872008  , 0.57043467, 0.40323033])]],\n",
       " [0.07022222222222221, [array([0.872008  , 0.57043467, 0.40323033])]],\n",
       " [0.0801111111111111, [array([0.872008  , 0.57043467, 0.40323033])]],\n",
       " [0.09, [array([0.872008  , 0.57043467, 0.40323033])]]]"
      ]
     },
     "execution_count": 62,
     "metadata": {},
     "output_type": "execute_result"
    }
   ],
   "source": [
    "result"
   ]
  },
  {
   "cell_type": "code",
   "execution_count": null,
   "id": "697538c0",
   "metadata": {},
   "outputs": [],
   "source": []
  }
 ],
 "metadata": {
  "kernelspec": {
   "display_name": "Python 3 (ipykernel)",
   "language": "python",
   "name": "python3"
  },
  "language_info": {
   "codemirror_mode": {
    "name": "ipython",
    "version": 3
   },
   "file_extension": ".py",
   "mimetype": "text/x-python",
   "name": "python",
   "nbconvert_exporter": "python",
   "pygments_lexer": "ipython3",
   "version": "3.10.6"
  }
 },
 "nbformat": 4,
 "nbformat_minor": 5
}
