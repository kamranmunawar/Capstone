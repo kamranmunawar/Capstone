{
 "cells": [
  {
   "cell_type": "code",
   "execution_count": 1,
   "id": "1d804631",
   "metadata": {},
   "outputs": [],
   "source": [
    "import torch \n",
    "import numpy as np\n",
    "import matplotlib.pyplot as plt\n",
    "import plotly\n",
    "import os\n",
    "from sklearn.gaussian_process import GaussianProcessRegressor\n",
    "\n",
    "\n",
    "\n",
    "from botorch.models import SingleTaskGP\n",
    "from botorch  import fit_gpytorch_model\n",
    "\n",
    "from botorch.fit import fit_gpytorch_mll\n",
    "from gpytorch.mlls import ExactMarginalLogLikelihood\n",
    "from botorch.acquisition import UpperConfidenceBound\n",
    "from botorch.optim import optimize_acqf\n"
   ]
  },
  {
   "cell_type": "code",
   "execution_count": 2,
   "id": "ecc1e8ca",
   "metadata": {},
   "outputs": [],
   "source": [
    "f3_inputs = np.load(\"initial_inputs.npy\")\n",
    "f3_outputs = np.load(\"initial_outputs.npy\")\n",
    "f3_inputs_2 = np.load(\"initial_inputs2.npy\")\n",
    "f3_outputs_2 = np.load(\"initial_outputs2.npy\")"
   ]
  },
  {
   "cell_type": "code",
   "execution_count": 3,
   "id": "6198b470",
   "metadata": {},
   "outputs": [],
   "source": [
    "f3_inputs = np.concatenate((f3_inputs, f3_inputs_2)) \n",
    "f3_inputs = np.concatenate((f3_inputs, np.array([[0.856453, 0.572658, 0.396564]]))) \n",
    "f3_inputs = np.concatenate((f3_inputs, np.array([[0.419052, 0.525791, 0.668723]]))) \n",
    "f3_inputs = np.concatenate((f3_inputs, np.array([[0.806453, 0.542658, 0.426564]]))) \n",
    "f3_inputs = np.concatenate((f3_inputs, np.array([[0.95404 , 0.603434, 0.360707]])))\n",
    "f3_inputs = np.concatenate((f3_inputs, np.array([[0.378686, 0.252828, 0.414646]]))) \n",
    "f3_inputs = np.concatenate((f3_inputs, np.array([[0.872008, 0.592658, 0.394341]]))) \n",
    "f3_inputs = np.concatenate((f3_inputs, np.array([[0.876453, 0.552658, 0.376564]]))) \n",
    "f3_inputs = np.concatenate((f3_inputs, np.array([[0.836453, 0.579324, 0.385452]]))) \n",
    "f3_inputs = np.concatenate((f3_inputs, np.array([[0.867564, 0.561546, 0.416564]]))) \n",
    "f3_inputs = np.concatenate((f3_inputs, np.array([[0.852008, 0.563768, 0.409897]]))) \n",
    "f3_inputs = np.concatenate((f3_inputs, np.array([[0.840896, 0.583768, 0.429897]]))) \n",
    "f3_inputs = np.concatenate((f3_inputs, np.array([[0.756341, 0.548901, 0.444526]]))) \n",
    "f3_inputs = np.concatenate((f3_inputs, np.array([[0.79493 , 0.426714, 0.384933]]))) \n",
    "f3_inputs = np.concatenate((f3_inputs, np.array([[0.863119, 0.543768, 0.403231]]))) \n",
    "f3_inputs = np.concatenate((f3_inputs, np.array([[0.845371, 0.518261, 0.394578]]))) \n",
    "f3_inputs = np.concatenate((f3_inputs, np.array([[0.872008, 0.543768, 0.429897]]))) \n",
    "f3_inputs = np.concatenate((f3_inputs, np.array([[0.85423 , 0.561545, 0.40323 ]]))) \n",
    "f3_inputs = np.concatenate((f3_inputs, np.array([[0.872008, 0.574879, 0.412119]]))) \n",
    "\n",
    "f3_outputs = np.concatenate((f3_outputs,f3_outputs_2)) \n",
    "f3_outputs = np.append(f3_outputs,-0.007556472239926157)\n",
    "f3_outputs = np.append(f3_outputs,-0.11117041024766369)\n",
    "f3_outputs = np.append(f3_outputs,-0.02486221525774178)\n",
    "f3_outputs = np.append(f3_outputs,-0.02157038795559339)\n",
    "f3_outputs = np.append(f3_outputs,-0.0503012651579929)\n",
    "f3_outputs = np.append(f3_outputs,-0.01517794191050481)\n",
    "f3_outputs = np.append(f3_outputs,-0.01595053598681603)\n",
    "f3_outputs = np.append(f3_outputs,-0.010925064020108063)\n",
    "f3_outputs = np.append(f3_outputs,-0.007386906470204272)\n",
    "f3_outputs = np.append(f3_outputs,-0.004457685991172721)\n",
    "f3_outputs = np.append(f3_outputs,-0.025865326752195786)\n",
    "f3_outputs = np.append(f3_outputs,-0.011107628816793764)\n",
    "f3_outputs = np.append(f3_outputs,-0.01562544524641375)\n",
    "f3_outputs = np.append(f3_outputs,-0.010331415655822254)\n",
    "f3_outputs = np.append(f3_outputs,-0.01698559042276884)\n",
    "f3_outputs = np.append(f3_outputs,-0.017335638304868072)\n",
    "f3_outputs = np.append(f3_outputs,-0.01188054501063807)\n",
    "f3_outputs = np.append(f3_outputs,-0.008744864239247193)\n"
   ]
  },
  {
   "cell_type": "code",
   "execution_count": 4,
   "id": "8b272c6d",
   "metadata": {},
   "outputs": [],
   "source": [
    "variable_value = np.linspace(0.001, 0.999, 10)\n",
    "n_dims = 3 \n",
    "beta = 0.001\n",
    "np.random.seed(42)\n",
    "train_X = torch.tensor(f3_inputs)\n",
    "train_Y = torch.tensor(f3_outputs).reshape(len(f3_outputs),-1)\n",
    "best_y = np.max(train_Y.numpy())\n",
    "best_x = train_X[np.argmax(train_Y.numpy())]\n",
    "noise_level =0.1\n",
    "candidate_list = []\n",
    "best_x_list = []\n",
    "\n",
    "#train_X = train_X1[0].reshape(8,-1)\n",
    "#train_Y = train_Y1[0].reshape(1,-1)\n",
    "\n",
    "for i in range(len(variable_value)):\n",
    "    #noise_level = variable_value[i]\n",
    "   \n",
    "    def function_3(x1,x2,x3, noise_level=noise_level):\n",
    "        return np.sin(5 * x1+4*x2) * (1 - np.tanh(x1 ** 2) - np.tanh(x2)) + \\\n",
    "        np.sin(1 * x3+4*x2) * (1 - np.tanh(x3 ** 2) - np.tanh(x1)) + \\\n",
    "        + np.random.randn() * noise_level\n",
    "    \n",
    "    \n",
    "    gp = SingleTaskGP(train_X, train_Y)\n",
    "    mll = ExactMarginalLogLikelihood(gp.likelihood, gp)\n",
    "    fit_gpytorch_mll(mll)\n",
    "\n",
    "    UCB = UpperConfidenceBound(gp, beta=beta)\n",
    "\n",
    "    bounds = torch.stack([torch.zeros(n_dims), torch.ones(n_dims)])\n",
    "    candidate, _  = optimize_acqf(\n",
    "        UCB, bounds=bounds, q=1, num_restarts=100, raw_samples=200,\n",
    "    )\n",
    "\n",
    "\n",
    "    x1,x2,x3 = candidate.numpy().ravel().tolist()\n",
    "    # Get the next value for the function from the script\n",
    "\n",
    "    y_next = function_3(x1,x2,x3)\n",
    "\n",
    "    if y_next > best_y:\n",
    "        best_y = y_next\n",
    "        best_x = x1,x2,x3\n",
    "\n",
    "\n",
    "    y_next = torch.tensor(y_next).unsqueeze(-1)\n",
    "\n",
    "    train_X = torch.cat([train_X,candidate])\n",
    "    train_Y = torch.cat([train_Y,y_next.unsqueeze(-1)])\n",
    "    candidate_list.append(candidate) \n",
    "    best_x_list.append(best_x)\n",
    "    #print(f\"Next point: {candidate} \\n Next Y {y_next}  Best_y, {best_y}\")\n",
    "    #print(f\"beta :{beta} noise_level :{noise_level}\")\n",
    "    #print(f\"Next point: {candidate} \\n Next Y {y_next}\")\n",
    "    #print(f\"best_x:{best_x}Best_y,{best_y}\")\n",
    "    "
   ]
  },
  {
   "cell_type": "code",
   "execution_count": 5,
   "id": "1d19851b",
   "metadata": {},
   "outputs": [
    {
     "data": {
      "text/plain": [
       "[tensor([0.8520, 0.5638, 0.4099], dtype=torch.float64),\n",
       " tensor([0.8520, 0.5638, 0.4099], dtype=torch.float64),\n",
       " (0.8842141628265381, 0.5648137331008911, 0.38344934582710266),\n",
       " (0.9162614345550537, 0.5563645958900452, 0.3704482614994049),\n",
       " (0.9162614345550537, 0.5563645958900452, 0.3704482614994049),\n",
       " (0.9162614345550537, 0.5563645958900452, 0.3704482614994049),\n",
       " (0.7817401885986328, 0.5296548008918762, 0.4311150908470154),\n",
       " (0.7817401885986328, 0.5296548008918762, 0.4311150908470154),\n",
       " (0.7817401885986328, 0.5296548008918762, 0.4311150908470154),\n",
       " (0.7817401885986328, 0.5296548008918762, 0.4311150908470154)]"
      ]
     },
     "execution_count": 5,
     "metadata": {},
     "output_type": "execute_result"
    }
   ],
   "source": [
    "best_x_list"
   ]
  },
  {
   "cell_type": "code",
   "execution_count": null,
   "id": "bb456a9d",
   "metadata": {},
   "outputs": [],
   "source": []
  },
  {
   "cell_type": "code",
   "execution_count": null,
   "id": "a627dd9f",
   "metadata": {},
   "outputs": [],
   "source": []
  }
 ],
 "metadata": {
  "kernelspec": {
   "display_name": "Python 3 (ipykernel)",
   "language": "python",
   "name": "python3"
  },
  "language_info": {
   "codemirror_mode": {
    "name": "ipython",
    "version": 3
   },
   "file_extension": ".py",
   "mimetype": "text/x-python",
   "name": "python",
   "nbconvert_exporter": "python",
   "pygments_lexer": "ipython3",
   "version": "3.10.6"
  }
 },
 "nbformat": 4,
 "nbformat_minor": 5
}
